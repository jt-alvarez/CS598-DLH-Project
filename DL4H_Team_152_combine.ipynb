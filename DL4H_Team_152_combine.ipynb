{
 "cells": [
  {
   "cell_type": "markdown",
   "metadata": {},
   "source": [
    "## Introduction\n",
    "\n",
    "The paper introduces TransformEHR, a generative encoder-decoder model with a transformer\n",
    "architecture. The unique aspect it proposes is a pretraining objective aimed at predicting all\n",
    "diseases and outcomes of a patient's future visit based on previous visits. \n",
    "\n",
    "TransformEHR was the best-performing model and outperformed BERT, LSTM, and logistic regression models by 24%, 97%, and 422% respectively. TransformEHR outperformed BERT for prediction of both single and multiple diseases/outcomes. In contrast to BERT,\n",
    "TransformEHR learned the representation of each clinical variable by predicting the completediseases and outcomes with the help of cross-attention and decoder self-attention. \n",
    "\n",
    "TransformEHR and its pretraining strategy help the field of healthcare with EHR-based predictive modeling. By predicting the diseases and outcomes within patient visits, TransformEHR offers invaluable help for clinical decisions and intervention planning."
   ]
  },
  {
   "cell_type": "markdown",
   "metadata": {},
   "source": [
    "## Scope of Reproducibility:\n",
    "\n",
    "Hypothesis : The TransformEHR model will perform better than other models in terms\n",
    "of predictive accuracy and that the model's transformer-based architecture will enable it to\n",
    "capture the nuanced relationships between different data elements within EHRs\n",
    "\n",
    "The experiment we will be running involves using the existing TransformEHR repo found here\n",
    "already pretrained on a large dataset. We will then use a different dataset that than the one it was\n",
    "trained on to test its accuracy at predicting PTSD related self-harm and Pancreatic cancer rates.\n",
    "\n",
    "The results of the paper present insights into the use cases for Pancreatic Cancer and international PTSD. However, reproducing these results was challenging due to several factors.\n",
    "\n",
    "* Accessing the dataset utilized in the original study presented a significant challenge. The dataset's availability and accessibility were limited, impeding efforts to replicate the paper's findings accurately. This lack of easy access to crucial data hindered the replication process from the outset, highlighting the importance of transparent and readily available datasets for ensuring reproducibility in scientific research.\n",
    "\n",
    "* An analysis of the code repository provided alongside the paper revealed critical deficiencies. Key elements essential for reproducing the experiments, such as 'dataset.py' and tokenizer information, were missing from the repository. \n",
    "\n",
    "Additionally, attempts to utilize pre-trained tokenizer and models were met with access errors (401), further complicating the reproduction process. These errors likely stemmed from issues related to dependencies or data access permissions.\n",
    "\n",
    "As Part of next phase of reproducing the result of the original paper, We have taken below 2 approaches.\n",
    "\n",
    "* Use a different preTrained model 'emilyalsentzer/Bio_ClinicalBERT'.\n",
    "* Create our own Data, Task functions and Models using PyHealth package and run training and evaluation.\n"
   ]
  },
  {
   "cell_type": "markdown",
   "metadata": {},
   "source": [
    "## Approach 1 - Implementation using PreTrained Model"
   ]
  },
  {
   "cell_type": "markdown",
   "metadata": {},
   "source": [
    "### Environment"
   ]
  },
  {
   "cell_type": "markdown",
   "metadata": {},
   "source": [
    "name: dlh-project\n",
    "dependencies:\n",
    "  - python=3.12\n",
    "  - NumPy\n",
    "  - PyTorch\n",
    "  - scikit-learn\n",
    "  - conda-forge::transformers\n",
    "  - conda-forge::dataset\n",
    "  - tqdm=4.62.2\n",
    "  - pandas\n",
    "  - packaging\n",
    "  - accelerate\n",
    "  - conda-forge::jupyterlab\n",
    "  - conda-forge::notebook\n",
    "  - conda-forge::ipywidgets"
   ]
  },
  {
   "cell_type": "code",
   "execution_count": null,
   "metadata": {},
   "outputs": [],
   "source": [
    "#need to install this for clinical coding\n",
    "# !pip install scispacy\n",
    "# !pip install https://s3-us-west-2.amazonaws.com/ai2-s2-scispacy/releases/v0.5.4/en_core_sci_sm-0.5.4.tar.gz"
   ]
  },
  {
   "cell_type": "code",
   "execution_count": null,
   "metadata": {
    "id": "yu61Jp1xrnKk"
   },
   "outputs": [],
   "source": [
    "# import  packages you need\n",
    "import numpy as np\n",
    "import logging\n",
    "import os\n",
    "from typing import Callable, Dict, List, Optional, Tuple\n",
    "import csv\n",
    "import json, time\n",
    "from collections import defaultdict\n",
    "from datetime import datetime\n",
    "from itertools import combinations, islice\n",
    "import pickle\n",
    "import pandas as pd\n",
    "import torch\n",
    "import pyhealth\n",
    "from pyhealth.medcode import InnerMap\n",
    "from transformers import BertTokenizer, BertForSequenceClassification, AdamW\n",
    "from torch.utils.data import TensorDataset, DataLoader\n",
    "import torch.nn as nn\n",
    "import scispacy #from above\n",
    "import spacy #from above\n",
    "import random"
   ]
  },
  {
   "cell_type": "markdown",
   "metadata": {},
   "source": [
    "### Preprocessing Data\n",
    "\n",
    "#### Note - Need to download these datasets in order to run below PreTrained Model"
   ]
  },
  {
   "cell_type": "code",
   "execution_count": null,
   "metadata": {},
   "outputs": [],
   "source": [
    "notedir = './sample_data/mimic-iv/note/'\n",
    "hospdir = './sample_data/mimic-iv/hosp/'\n",
    "diags = pd.read_csv(hospdir + 'diagnoses_icd.csv.gz')\n",
    "d_notes = pd.read_csv(notedir + 'discharge.csv.gz')\n",
    "r_notes = pd.read_csv(notedir + 'radiology.csv.gz')\n",
    "r_notes = r_notes.dropna(subset=['hadm_id'])\n",
    "# Group radiology text into per visit \n",
    "radiology_grouped = r_notes.groupby(['subject_id','hadm_id'])['text'].apply(' '.join).reset_index()\n",
    "\n",
    "diags10 = diags[diags.icd_version == 10]\n",
    "# pancreas = diags10[diags10['icd_code'].astype(str).str.contains('C25')]\n",
    "#encode all diagnoses into either times where pancreatic cancer identified or not\n",
    "diags10.loc[:, 'contains_C25'] = (diags10.loc[:,'icd_code'].str.contains('C25')).astype(int)\n",
    "diags_encoded = diags10.groupby(['subject_id', 'hadm_id']).agg({'contains_C25': 'max'}).reset_index()\n",
    "diags_encoded.rename(columns={'contains_C25': 'icd_code'}, inplace=True)\n",
    "diags_encoded['icd_code'] = diags_encoded['icd_code'].apply(lambda x: 0 if x == 0 else 1)\n",
    "\n",
    "#just the first 512 of each if true\n",
    "small_df = False\n",
    "\n",
    "if small_df:\n",
    "    merged_df = pd.merge(radiology_grouped.head(512), d_notes.head(512), on=['subject_id', 'hadm_id'], how='right')\n",
    "    merged_df['text'] = merged_df['text_x'] + ' ' + merged_df['text_y']\n",
    "    merged_df = merged_df.drop(columns=['text_x', 'text_y']).dropna(subset=['text'])\n",
    "    merged_df = pd.merge(diags_encoded.head(512), merged_df, on=['subject_id', 'hadm_id'], how='inner').drop(columns=['note_id','note_seq','charttime','storetime', 'note_type'])\n",
    "else:\n",
    "    merged_df = pd.merge(radiology_grouped, d_notes, on=['subject_id', 'hadm_id'], how='right')\n",
    "    merged_df['text'] = merged_df['text_x'] + ' ' + merged_df['text_y']\n",
    "    merged_df = merged_df.drop(columns=['text_x', 'text_y']).dropna(subset=['text'])\n",
    "    merged_df = pd.merge(diags_encoded, merged_df, on=['subject_id', 'hadm_id'], how='inner').drop(columns=['note_id','note_seq','charttime','storetime', 'note_type'])\n",
    "\n",
    "print(merged_df.shape)\n",
    "merged_df.head()"
   ]
  },
  {
   "cell_type": "markdown",
   "metadata": {},
   "source": [
    "#### PreTrained Model Tokenizer\n",
    "\n",
    "Because the clinical notes can be very long (sometimes up to 20,000 words) the tokenizer can take hours to run. We have selected a smaller subset of the data that will be pre processed for model 0. The number of rows with a record containing pancreatic cancer is around 1500, and the number containing other diseases is around 4500"
   ]
  },
  {
   "cell_type": "code",
   "execution_count": 10,
   "metadata": {},
   "outputs": [
    {
     "data": {
      "text/html": [
       "<div>\n",
       "<style scoped>\n",
       "    .dataframe tbody tr th:only-of-type {\n",
       "        vertical-align: middle;\n",
       "    }\n",
       "\n",
       "    .dataframe tbody tr th {\n",
       "        vertical-align: top;\n",
       "    }\n",
       "\n",
       "    .dataframe thead th {\n",
       "        text-align: right;\n",
       "    }\n",
       "</style>\n",
       "<table border=\"1\" class=\"dataframe\">\n",
       "  <thead>\n",
       "    <tr style=\"text-align: right;\">\n",
       "      <th></th>\n",
       "      <th>subject_id</th>\n",
       "      <th>hadm_id</th>\n",
       "      <th>icd_code</th>\n",
       "      <th>text</th>\n",
       "    </tr>\n",
       "  </thead>\n",
       "  <tbody>\n",
       "    <tr>\n",
       "      <th>69</th>\n",
       "      <td>10006029</td>\n",
       "      <td>20850584</td>\n",
       "      <td>1</td>\n",
       "      <td>EXAMINATION:  Chest radiograph, portable AP up...</td>\n",
       "    </tr>\n",
       "    <tr>\n",
       "      <th>70</th>\n",
       "      <td>10006029</td>\n",
       "      <td>25426298</td>\n",
       "      <td>1</td>\n",
       "      <td>INDICATION:  ___ year old man with metastatic ...</td>\n",
       "    </tr>\n",
       "    <tr>\n",
       "      <th>74</th>\n",
       "      <td>10006431</td>\n",
       "      <td>25589898</td>\n",
       "      <td>1</td>\n",
       "      <td>EXAMINATION:  CTA ABD AND PELVIS\\n\\nINDICATION...</td>\n",
       "    </tr>\n",
       "    <tr>\n",
       "      <th>75</th>\n",
       "      <td>10006431</td>\n",
       "      <td>27715811</td>\n",
       "      <td>1</td>\n",
       "      <td>EXAMINATION:  CHEST (PA AND LAT)\\n\\nINDICATION...</td>\n",
       "    </tr>\n",
       "    <tr>\n",
       "      <th>76</th>\n",
       "      <td>10006431</td>\n",
       "      <td>28771670</td>\n",
       "      <td>1</td>\n",
       "      <td>INDICATION:  ___ with upper abdominal pain, hi...</td>\n",
       "    </tr>\n",
       "  </tbody>\n",
       "</table>\n",
       "</div>"
      ],
      "text/plain": [
       "    subject_id   hadm_id  icd_code  \\\n",
       "69    10006029  20850584         1   \n",
       "70    10006029  25426298         1   \n",
       "74    10006431  25589898         1   \n",
       "75    10006431  27715811         1   \n",
       "76    10006431  28771670         1   \n",
       "\n",
       "                                                 text  \n",
       "69  EXAMINATION:  Chest radiograph, portable AP up...  \n",
       "70  INDICATION:  ___ year old man with metastatic ...  \n",
       "74  EXAMINATION:  CTA ABD AND PELVIS\\n\\nINDICATION...  \n",
       "75  EXAMINATION:  CHEST (PA AND LAT)\\n\\nINDICATION...  \n",
       "76  INDICATION:  ___ with upper abdominal pain, hi...  "
      ]
     },
     "execution_count": 10,
     "metadata": {},
     "output_type": "execute_result"
    }
   ],
   "source": [
    "# Increase ratio to get more non-pancreatic cancer data\n",
    "ratio = .05\n",
    "\n",
    "ones = merged_df.index[(merged_df.icd_code == 1)].tolist()\n",
    "zeros = merged_df.index[(merged_df.icd_code == 0)].tolist()\n",
    "\n",
    "N = int(ratio * len(zeros))\n",
    "subset_zeros = random.sample(zeros, N)\n",
    "indices = ones + subset_zeros\n",
    "subset_df = merged_df.iloc[indices]\n",
    "subset_df.head()"
   ]
  },
  {
   "cell_type": "markdown",
   "metadata": {},
   "source": [
    "The process to tokenise first begins by removing some common fluff that exists in the text records. Then run the text through scispacy- a biomedical text processing library which will remove any extranenous filler words and return a more simplifed sequence. Then, using the predefined tokenizer from [Bio_ClinicalBERT](https://huggingface.co/emilyalsentzer/Bio_ClinicalBERT) the text in each row is tokenized and either padded or in a few cases truncated to a max length of 8192. (This whole process takes about 2 seconds per row)"
   ]
  },
  {
   "cell_type": "code",
   "execution_count": null,
   "metadata": {},
   "outputs": [],
   "source": [
    "tokenizer = BertTokenizer.from_pretrained('emilyalsentzer/Bio_ClinicalBERT')\n",
    "nlp = spacy.load(\"en_core_sci_sm\")\n",
    "def process_row(row):\n",
    "    text = row['text']\n",
    "    text = text.replace('\\n', '')\n",
    "    text = text.replace('___','')\n",
    "    text = text.replace('Name:                   Unit No:    Admission Date:                Discharge Date:    Date of Birth:', '')\n",
    "    doc = nlp(text)\n",
    "    ents = doc.ents\n",
    "    t = ''\n",
    "    for s in ents:\n",
    "        t += s.text\n",
    "        t += ' '\n",
    "    \n",
    "    t = t.replace('=','')\n",
    "    tok = tokenizer(t, return_tensors=\"pt\", max_length=8192, truncation=True, padding='max_length')\n",
    "    return tok\n",
    "\n",
    "tts = subset_df.apply(process_row, axis=1)\n",
    "\n",
    "inps = torch.stack([tok['input_ids'] for tok in tts])\n",
    "inps = inps.squeeze(1).tolist()\n",
    "masks = torch.stack([tok['attention_mask'] for tok in tts])\n",
    "masks = masks.squeeze(1).tolist()\n",
    "subset_df['encoded_text'] = inps\n",
    "subset_df['masks'] = masks\n",
    "subset_df.drop(columns='text').to_pickle('./subset_df.pkl')\n"
   ]
  },
  {
   "cell_type": "markdown",
   "metadata": {},
   "source": [
    "#### the tokenised pickle data can be [downloaded here](https://drive.google.com/file/d/1OIG8JaMfg7x5Cl9Losf8a_SJ7smxDic0/view?usp=drive_link) and loaded like this in lieu of running more pre processing:\n"
   ]
  },
  {
   "cell_type": "code",
   "execution_count": 5,
   "metadata": {},
   "outputs": [
    {
     "name": "stdout",
     "output_type": "stream",
     "text": [
      "(6039, 5)\n"
     ]
    },
    {
     "data": {
      "text/html": [
       "<div>\n",
       "<style scoped>\n",
       "    .dataframe tbody tr th:only-of-type {\n",
       "        vertical-align: middle;\n",
       "    }\n",
       "\n",
       "    .dataframe tbody tr th {\n",
       "        vertical-align: top;\n",
       "    }\n",
       "\n",
       "    .dataframe thead th {\n",
       "        text-align: right;\n",
       "    }\n",
       "</style>\n",
       "<table border=\"1\" class=\"dataframe\">\n",
       "  <thead>\n",
       "    <tr style=\"text-align: right;\">\n",
       "      <th></th>\n",
       "      <th>subject_id</th>\n",
       "      <th>hadm_id</th>\n",
       "      <th>icd_code</th>\n",
       "      <th>encoded_text</th>\n",
       "      <th>masks</th>\n",
       "    </tr>\n",
       "  </thead>\n",
       "  <tbody>\n",
       "    <tr>\n",
       "      <th>69</th>\n",
       "      <td>10006029</td>\n",
       "      <td>20850584</td>\n",
       "      <td>1</td>\n",
       "      <td>[101, 8179, 2229, 2070, 15241, 170, 1643, 1275...</td>\n",
       "      <td>[1, 1, 1, 1, 1, 1, 1, 1, 1, 1, 1, 1, 1, 1, 1, ...</td>\n",
       "    </tr>\n",
       "    <tr>\n",
       "      <th>70</th>\n",
       "      <td>10006029</td>\n",
       "      <td>25426298</td>\n",
       "      <td>1</td>\n",
       "      <td>[101, 12754, 1299, 27154, 27372, 22572, 5326, ...</td>\n",
       "      <td>[1, 1, 1, 1, 1, 1, 1, 1, 1, 1, 1, 1, 1, 1, 1, ...</td>\n",
       "    </tr>\n",
       "    <tr>\n",
       "      <th>74</th>\n",
       "      <td>10006431</td>\n",
       "      <td>25589898</td>\n",
       "      <td>1</td>\n",
       "      <td>[101, 8179, 172, 1777, 170, 1830, 1181, 185, 1...</td>\n",
       "      <td>[1, 1, 1, 1, 1, 1, 1, 1, 1, 1, 1, 1, 1, 1, 1, ...</td>\n",
       "    </tr>\n",
       "    <tr>\n",
       "      <th>75</th>\n",
       "      <td>10006431</td>\n",
       "      <td>27715811</td>\n",
       "      <td>1</td>\n",
       "      <td>[101, 8179, 185, 1161, 5837, 7563, 13335, 2566...</td>\n",
       "      <td>[1, 1, 1, 1, 1, 1, 1, 1, 1, 1, 1, 1, 1, 1, 1, ...</td>\n",
       "    </tr>\n",
       "    <tr>\n",
       "      <th>76</th>\n",
       "      <td>10006431</td>\n",
       "      <td>28771670</td>\n",
       "      <td>1</td>\n",
       "      <td>[101, 12754, 3105, 24716, 2489, 1607, 13316, 1...</td>\n",
       "      <td>[1, 1, 1, 1, 1, 1, 1, 1, 1, 1, 1, 1, 1, 1, 1, ...</td>\n",
       "    </tr>\n",
       "  </tbody>\n",
       "</table>\n",
       "</div>"
      ],
      "text/plain": [
       "    subject_id   hadm_id  icd_code  \\\n",
       "69    10006029  20850584         1   \n",
       "70    10006029  25426298         1   \n",
       "74    10006431  25589898         1   \n",
       "75    10006431  27715811         1   \n",
       "76    10006431  28771670         1   \n",
       "\n",
       "                                         encoded_text  \\\n",
       "69  [101, 8179, 2229, 2070, 15241, 170, 1643, 1275...   \n",
       "70  [101, 12754, 1299, 27154, 27372, 22572, 5326, ...   \n",
       "74  [101, 8179, 172, 1777, 170, 1830, 1181, 185, 1...   \n",
       "75  [101, 8179, 185, 1161, 5837, 7563, 13335, 2566...   \n",
       "76  [101, 12754, 3105, 24716, 2489, 1607, 13316, 1...   \n",
       "\n",
       "                                                masks  \n",
       "69  [1, 1, 1, 1, 1, 1, 1, 1, 1, 1, 1, 1, 1, 1, 1, ...  \n",
       "70  [1, 1, 1, 1, 1, 1, 1, 1, 1, 1, 1, 1, 1, 1, 1, ...  \n",
       "74  [1, 1, 1, 1, 1, 1, 1, 1, 1, 1, 1, 1, 1, 1, 1, ...  \n",
       "75  [1, 1, 1, 1, 1, 1, 1, 1, 1, 1, 1, 1, 1, 1, 1, ...  \n",
       "76  [1, 1, 1, 1, 1, 1, 1, 1, 1, 1, 1, 1, 1, 1, 1, ...  "
      ]
     },
     "execution_count": 5,
     "metadata": {},
     "output_type": "execute_result"
    }
   ],
   "source": [
    "df = pd.read_pickle('subset_df.pkl')\n",
    "print(df.shape)\n",
    "df.head()"
   ]
  },
  {
   "cell_type": "markdown",
   "metadata": {},
   "source": [
    "### PreTrained Model\n",
    "\n",
    "\n",
    "The base model used for the pretrained model comes from the [Bio_ClinicalBERT](https://huggingface.co/emilyalsentzer/Bio_ClinicalBERT). This model was trained on ~880 million words from discharge summary notes from the [mimic III dataset](https://mimic.mit.edu/). Their base model can be loaded as follows: \n"
   ]
  },
  {
   "cell_type": "code",
   "execution_count": null,
   "metadata": {},
   "outputs": [],
   "source": [
    "model = BertForSequenceClassification.from_pretrained('emilyalsentzer/Bio_ClinicalBERT', num_labels=2)"
   ]
  },
  {
   "cell_type": "markdown",
   "metadata": {},
   "source": [
    "### PreTrained Model fine tuning"
   ]
  },
  {
   "cell_type": "markdown",
   "metadata": {},
   "source": [
    "Following the [original paper](https://www.nature.com/articles/s41467-023-43715-z), the training and testing data was split into the ratio of 95-5 due to memory issues the batch size was reduced to 16 rather than using the original of 48.\n",
    "\n",
    "the model can only handle a max_length of 512, therefore chunking was implemented for better training capture. The model was trained over 5 epochs on a google collab T4 GPU with 15 GB of memory with each epoch taking roughly 12 minutes for a total training time of around an hour.\n"
   ]
  },
  {
   "cell_type": "code",
   "execution_count": 12,
   "metadata": {},
   "outputs": [],
   "source": [
    "device = torch.device(\"cuda\" if torch.cuda.is_available() else \"cpu\")\n",
    "\n",
    "input_ids = df['encoded_text'].tolist()\n",
    "attention_masks = df['masks'].tolist()\n",
    "labels = df['icd_code'].tolist()\n",
    "\n",
    "batch_size = 16\n",
    "\n",
    "ids = torch.tensor(input_ids).to(device)\n",
    "masks = torch.tensor(attention_masks).to(device)\n",
    "labels = torch.tensor(labels).to(device)\n",
    "\n",
    "dataset = TensorDataset(ids, masks, labels)\n",
    "\n",
    "train_size = int(0.95 * len(dataset))\n",
    "test_size = len(dataset) - train_size\n",
    "train_dataset, test_dataset = torch.utils.data.random_split(dataset, [train_size, test_size])\n",
    "\n",
    "\n",
    "train_dataloader = DataLoader(train_dataset, batch_size=batch_size, shuffle=True)\n",
    "test_dataloader = DataLoader(test_dataset, batch_size=batch_size, shuffle=False)\n",
    "\n",
    "optimizer = AdamW(model.parameters(), lr=2e-5)\n",
    "criterion = nn.CrossEntropyLoss()\n",
    "\n",
    "max_length = 512\n",
    "chunk_size = 512\n"
   ]
  },
  {
   "cell_type": "code",
   "execution_count": null,
   "metadata": {},
   "outputs": [],
   "source": [
    "epochs = 5\n",
    "for epoch in range(epochs):\n",
    "    model.train()\n",
    "    for batch in train_dataloader:\n",
    "        input_ids_batch, attention_masks_batch, labels_batch = batch\n",
    "        optimizer.zero_grad()\n",
    "\n",
    "        # chunk\n",
    "        chunk_logits = []\n",
    "        for i in range(0, len(input_ids_batch), chunk_size):\n",
    "            input_ids_chunk = input_ids_batch[:,i:i+chunk_size].to(device)\n",
    "            attention_masks_chunk = attention_masks_batch[:,i:i+chunk_size].to(device)\n",
    "            logits = model(input_ids=input_ids_chunk, attention_mask=attention_masks_chunk).logits\n",
    "            chunk_logits.append(logits)\n",
    "\n",
    "        logits = torch.mean(torch.stack(chunk_logits), dim=0)\n",
    "\n",
    "        loss = criterion(logits, labels_batch)\n",
    "        loss.backward()\n",
    "        optimizer.step()"
   ]
  },
  {
   "cell_type": "markdown",
   "metadata": {},
   "source": [
    "#### This model was saved and [upload here](https://drive.google.com/file/d/1jehT4uyz6465kX5Ho-ddn1qikzyso5vV/view?usp=drive_link) This tuned model can be loaded as follows:"
   ]
  },
  {
   "cell_type": "code",
   "execution_count": 18,
   "metadata": {},
   "outputs": [],
   "source": [
    "model = BertForSequenceClassification.from_pretrained('emilyalsentzer/Bio_ClinicalBERT', num_labels=2)\n",
    "path = './5_tuned_model.pth'\n",
    "model.load_state_dict(torch.load(path, map_location=torch.device(device)))\n"
   ]
  },
  {
   "cell_type": "markdown",
   "metadata": {},
   "source": [
    "### Pretrained Model evaluation"
   ]
  },
  {
   "cell_type": "markdown",
   "metadata": {},
   "source": [
    "The model was then tested on the remaining 5% of the dataset using the same chunking method as was used in training and yielded the following scores:\n",
    "\n",
    "Accuracy: 0.9511589403973509\n",
    "\n",
    "Precision: 0.907258064516129\n",
    "\n",
    "Recall: 0.8620689655172413\n",
    "\n",
    "F1-score: 0.8840864440078585\n"
   ]
  },
  {
   "cell_type": "code",
   "execution_count": 20,
   "metadata": {},
   "outputs": [],
   "source": [
    "# Evaluation loop\n",
    "model = BertForSequenceClassification.from_pretrained('emilyalsentzer/Bio_ClinicalBERT', num_labels=2)\n",
    "path = './5_tuned_model.pth'\n",
    "model.load_state_dict(torch.load(path, map_location=torch.device(device)))\n",
    "\n",
    "model.eval()\n",
    "predictions = []\n",
    "true_labels = []\n",
    "\n",
    "max_length = 512\n",
    "chunk_size = 512\n",
    "\n",
    "with torch.no_grad():\n",
    "    for batch in test_dataloader:\n",
    "        input_ids_batch, attention_masks_batch, labels_batch = batch\n",
    "                # chunk\n",
    "        chunk_logits = []\n",
    "        for i in range(0, len(input_ids_batch), chunk_size):\n",
    "            input_ids_chunk = input_ids_batch[:,i:i+chunk_size]\n",
    "            attention_masks_chunk = attention_masks_batch[:,i:i+chunk_size]\n",
    "            logits = model(input_ids=input_ids_chunk, attention_mask=attention_masks_chunk).logits\n",
    "            chunk_logits.append(logits)\n",
    "        logits = torch.mean(torch.stack(chunk_logits), dim=0)\n",
    "        _, predicted = torch.max(logits, dim=1)\n",
    "        predictions.extend(predicted.tolist())\n",
    "        true_labels.extend(labels_batch.tolist())\n"
   ]
  },
  {
   "cell_type": "code",
   "execution_count": 21,
   "metadata": {},
   "outputs": [
    {
     "name": "stdout",
     "output_type": "stream",
     "text": [
      "Accuracy: 0.9511589403973509\n",
      "Precision: 0.907258064516129\n",
      "Recall: 0.8620689655172413\n",
      "F1-score: 0.8840864440078585\n"
     ]
    }
   ],
   "source": [
    "from sklearn.metrics import accuracy_score, precision_score, recall_score, f1_score\n",
    "\n",
    "accuracy = accuracy_score(true_labels, predictions)\n",
    "precision = precision_score(true_labels, predictions)\n",
    "recall = recall_score(true_labels, predictions)\n",
    "f1 = f1_score(true_labels, predictions)\n",
    "\n",
    "print(\"Accuracy:\", accuracy)\n",
    "print(\"Precision:\", precision)\n",
    "print(\"Recall:\", recall)\n",
    "print(\"F1-score:\", f1)"
   ]
  },
  {
   "cell_type": "markdown",
   "metadata": {},
   "source": [
    "## Approach 2 -  Implementation with PyHealth Package\n",
    "\n"
   ]
  },
  {
   "cell_type": "markdown",
   "metadata": {},
   "source": [
    "### Environment"
   ]
  },
  {
   "cell_type": "code",
   "execution_count": 2,
   "metadata": {},
   "outputs": [],
   "source": [
    "import csv\n",
    "import pandas as pd\n",
    "import torch\n",
    "import numpy as np\n",
    "\n",
    "import warnings\n",
    "warnings.filterwarnings('ignore')\n",
    "\n",
    "from pyhealth.datasets import MIMIC4Dataset\n",
    "from pyhealth.datasets.splitter import split_by_patient\n",
    "from pyhealth.datasets import split_by_patient, get_dataloader\n",
    "from pyhealth.models import Transformer\n",
    "from pyhealth.trainer import Trainer\n",
    "from pyhealth.metrics import multilabel_metrics_fn, binary_metrics_fn\n",
    "\n",
    "import matplotlib.pyplot as plt\n",
    "from sklearn import metrics\n"
   ]
  },
  {
   "cell_type": "markdown",
   "metadata": {},
   "source": [
    "#### Preprocessing of Data\n",
    "\n",
    "* Select records with ICD-VERSION = 10 from diagnosis_icd.csv"
   ]
  },
  {
   "cell_type": "code",
   "execution_count": 1,
   "metadata": {},
   "outputs": [
    {
     "name": "stdout",
     "output_type": "stream",
     "text": [
      "After preprocessing Data in diagnosis_icd\n",
      "   subject_id   hadm_id  seq_num icd_code icd_version\n",
      "40   10000084  23052089        1    G3183          10\n",
      "41   10000084  23052089        2    F0280          10\n",
      "42   10000084  23052089        3     R441          10\n"
     ]
    }
   ],
   "source": [
    "\n",
    "\n",
    "data_df = pd.read_csv('./mimic-iv-2.2/hosp/diagnoses_icd.csv.gz', nrows=None, compression='gzip',\n",
    "            dtype={'subject_id': str, 'hadm_id': str, 'icd_code': str, 'icd_version': str},\n",
    "            on_bad_lines='skip')\n",
    "\n",
    "\n",
    "# Select records with ICD-VERSION =10\n",
    "\n",
    "data_df_icd_10 = data_df[data_df['icd_version'] == \"10\"]\n",
    "\n",
    "dir_path = './mimic-iv-2.2/hosp/diagnosis_icd10.csv'\n",
    "\n",
    "data_df_icd_10.to_csv(dir_path, index=False)\n",
    "\n",
    "print('After preprocessing Data in diagnosis_icd')\n",
    "print(data_df_icd_10.iloc[:3])\n"
   ]
  },
  {
   "cell_type": "markdown",
   "metadata": {},
   "source": [
    "### In Below Section we'll be showing 3 models:\n",
    "\n",
    "#### Model-1 : Run Multilabel prediction using dataset with feature keys: Diagnosis code, procedure code and drugs prescribed.\n",
    "#### Model-2 : Run Multilabel prediction using dataset with feature key - Diagnosis code.\n",
    "#### Model-3 : Run Binary prediction using dataset with feature key - Diagnosis code."
   ]
  },
  {
   "cell_type": "markdown",
   "metadata": {},
   "source": [
    "### Dataset Preparation"
   ]
  },
  {
   "cell_type": "code",
   "execution_count": 2,
   "metadata": {},
   "outputs": [],
   "source": [
    "import warnings\n",
    "warnings.filterwarnings('ignore')\n",
    "\n",
    "from pyhealth.datasets import MIMIC4Dataset"
   ]
  },
  {
   "cell_type": "markdown",
   "metadata": {},
   "source": [
    "### Dataset with information such as diagnosis code, procedure code, prescription history of past visits of patients"
   ]
  },
  {
   "cell_type": "code",
   "execution_count": 3,
   "metadata": {},
   "outputs": [
    {
     "name": "stdout",
     "output_type": "stream",
     "text": [
      "\n",
      "Statistics of base dataset (dev=False):\n",
      "\t- Dataset: MIMIC4Dataset\n",
      "\t- Number of patients: 180733\n",
      "\t- Number of visits: 431231\n",
      "\t- Number of visits per patient: 2.3860\n",
      "\t- Number of events per visit in diagnoses_icd: 4.6134\n",
      "\t- Number of events per visit in procedures_icd: 1.5518\n",
      "\t- Number of events per visit in prescriptions: 54.2354\n",
      "\n"
     ]
    },
    {
     "data": {
      "text/plain": [
       "'\\nStatistics of base dataset (dev=False):\\n\\t- Dataset: MIMIC4Dataset\\n\\t- Number of patients: 180733\\n\\t- Number of visits: 431231\\n\\t- Number of visits per patient: 2.3860\\n\\t- Number of events per visit in diagnoses_icd: 4.6134\\n\\t- Number of events per visit in procedures_icd: 1.5518\\n\\t- Number of events per visit in prescriptions: 54.2354\\n'"
      ]
     },
     "execution_count": 3,
     "metadata": {},
     "output_type": "execute_result"
    }
   ],
   "source": [
    "# Dataset with Diagnosis code, procedure code and drugs prescribed\n",
    "mimic4_ds = MIMIC4Dataset(\n",
    "        root=\"./mimic-iv-2.2/hosp\",\n",
    "        tables=[\"diagnoses_icd\", \"procedures_icd\", \"prescriptions\"],\n",
    "        code_mapping={\"NDC\": (\"ATC\")},\n",
    "        refresh_cache=False,\n",
    ")\n",
    "\n",
    "# Show the statistics below.\n",
    "mimic4_ds.stat()"
   ]
  },
  {
   "cell_type": "markdown",
   "metadata": {},
   "source": [
    "### Dataset with information such as - diagnosis code history of past visits of patients"
   ]
  },
  {
   "cell_type": "code",
   "execution_count": 4,
   "metadata": {},
   "outputs": [
    {
     "name": "stdout",
     "output_type": "stream",
     "text": [
      "\n",
      "Statistics of base dataset (dev=False):\n",
      "\t- Dataset: MIMIC4Dataset\n",
      "\t- Number of patients: 180733\n",
      "\t- Number of visits: 431231\n",
      "\t- Number of visits per patient: 2.3860\n",
      "\t- Number of events per visit in diagnoses_icd: 4.6134\n",
      "\n"
     ]
    },
    {
     "data": {
      "text/plain": [
       "'\\nStatistics of base dataset (dev=False):\\n\\t- Dataset: MIMIC4Dataset\\n\\t- Number of patients: 180733\\n\\t- Number of visits: 431231\\n\\t- Number of visits per patient: 2.3860\\n\\t- Number of events per visit in diagnoses_icd: 4.6134\\n'"
      ]
     },
     "execution_count": 4,
     "metadata": {},
     "output_type": "execute_result"
    }
   ],
   "source": [
    "# Dataset with Diagnosis code\n",
    "mimic4_ds_diag = MIMIC4Dataset(\n",
    "        root=\"./mimic-iv-2.2/hosp\",\n",
    "        tables=[\"diagnoses_icd\"],\n",
    "        refresh_cache=False,\n",
    ")\n",
    "\n",
    "# Show the statistics below.\n",
    "mimic4_ds_diag.stat()"
   ]
  },
  {
   "cell_type": "markdown",
   "metadata": {},
   "source": [
    "## Task Functions"
   ]
  },
  {
   "cell_type": "markdown",
   "metadata": {},
   "source": [
    "#### Task Function 1 - Task Function for diagnosis recommendation.\n",
    "#### This function will create dataset sample to be used in diagnosis recommendation of future visits using past visit's history."
   ]
  },
  {
   "cell_type": "code",
   "execution_count": 5,
   "metadata": {},
   "outputs": [],
   "source": [
    "def condition_recommendation_mimic4_fn(patient):\n",
    "    samples = []\n",
    "    for visit in patient:\n",
    "\n",
    "        # step 1: obtain visit-level information, conditions, procedures, and drugs\n",
    "        conditions = visit.get_code_list(table=\"diagnoses_icd\")\n",
    "        procedures = visit.get_code_list(table=\"procedures_icd\")\n",
    "        drugs = visit.get_code_list(table=\"prescriptions\")\n",
    "      \n",
    "        # step 2: exclusion criteria: cohort selection\n",
    "        if len(conditions) * len(procedures) * len(drugs) == 0: continue\n",
    "\n",
    "        # step 3: assemble the sample\n",
    "        # REMEMBER: the key here will be the \"feature_keys\" and \"label_key\" for initializing the downstream model\n",
    "        samples.append(\n",
    "            {\n",
    "                \"visit_id\": visit.visit_id,\n",
    "                \"patient_id\": patient.patient_id,\n",
    "                \"condition_hist\": conditions,\n",
    "                \"procedures\": procedures,\n",
    "                \"drugs\": drugs,\n",
    "                \"condition\": conditions,\n",
    "            }\n",
    "        )\n",
    "\n",
    "    # step 4: patient-level cohort selection and other process\n",
    "    # exclude patients with less than 2 visit\n",
    "    if len(samples) < 2:\n",
    "        return []\n",
    "\n",
    "    \"\"\" \n",
    "    Add historical visit (use \"conditions\" key as an example)\n",
    "        before this step:\n",
    "            samples[0][\"conditions\"]: 1st visit\n",
    "            samples[1][\"conditions\"]: 2nd visit\n",
    "            samples[2][\"conditions\"]: 3rd visit\n",
    "            ...\n",
    "        \n",
    "        after this step:\n",
    "            samples[0][\"conditions\"]: [1st visit]\n",
    "            samples[1][\"conditions\"]: [1st visit, 2nd visit]\n",
    "            samples[2][\"conditions\"]: [1st visit, 2nd visit, 3rd visit]\n",
    "            ...\n",
    "    \"\"\"\n",
    "    # Note - For first visit - condition and condition history both will be empty list\n",
    "    samples[0][\"condition\"] = []\n",
    "    samples[0][\"condition_hist\"] = [samples[0][\"condition_hist\"]]\n",
    "    samples[0][\"procedures\"] = [samples[0][\"procedures\"]]\n",
    "    samples[0][\"drugs\"] = [samples[0][\"drugs\"]]\n",
    "\n",
    "    for i in range(1, len(samples)):\n",
    "        samples[i][\"condition_hist\"] = samples[i - 1][\"condition_hist\"] + [\n",
    "            samples[i][\"condition_hist\"]\n",
    "        ]\n",
    "        samples[i][\"procedures\"] = samples[i - 1][\"procedures\"] + [\n",
    "            samples[i][\"procedures\"]\n",
    "        ]\n",
    "        samples[i][\"drugs\"] = samples[i - 1][\"drugs\"] + [\n",
    "            samples[i][\"drugs\"]\n",
    "        ]\n",
    " \n",
    "    for i in range(len(samples)):\n",
    "        samples[i][\"condition_hist\"][i] = []\n",
    "\n",
    "    return samples"
   ]
  },
  {
   "cell_type": "markdown",
   "metadata": {},
   "source": [
    "#### Task Function 2 - Task Function for diagnosis recommendation using only history of diagnosis from past visits..\n",
    "#### This function will create dataset sample to be used in diagnosis recommendation of future visits using past visit's history."
   ]
  },
  {
   "cell_type": "code",
   "execution_count": 6,
   "metadata": {},
   "outputs": [],
   "source": [
    "def condition_recommendation_mimic4_fn_diag(patient):\n",
    "    samples = []\n",
    "    for visit in patient:\n",
    "\n",
    "        # step 1: obtain visit-level information, conditions, procedures, and drugs\n",
    "        conditions = visit.get_code_list(table=\"diagnoses_icd\")\n",
    "\n",
    "        # step 2: exclusion criteria: cohort selection\n",
    "        if len(conditions) == 0: continue\n",
    "\n",
    "        # step 3: assemble the sample\n",
    "        # REMEMBER: the key here will be the \"feature_keys\" and \"label_key\" for initializing the downstream model\n",
    "        samples.append(\n",
    "            {\n",
    "                \"visit_id\": visit.visit_id,\n",
    "                \"patient_id\": patient.patient_id,\n",
    "                \"condition_hist\": conditions,\n",
    "                \"condition\": conditions,\n",
    "            }\n",
    "        )\n",
    "\n",
    "    # step 4: patient-level cohort selection and other process\n",
    "    # exclude patients with less than 2 visit\n",
    "    if len(samples) < 2:\n",
    "        return []\n",
    "\n",
    "    \"\"\" \n",
    "    Add historical visit (use \"conditions\" key as an example)\n",
    "        before this step:\n",
    "            samples[0][\"conditions\"]: 1st visit\n",
    "            samples[1][\"conditions\"]: 2nd visit\n",
    "            samples[2][\"conditions\"]: 3rd visit\n",
    "            ...\n",
    "        \n",
    "        after this step:\n",
    "            samples[0][\"conditions\"]: [1st visit]\n",
    "            samples[1][\"conditions\"]: [1st visit, 2nd visit]\n",
    "            samples[2][\"conditions\"]: [1st visit, 2nd visit, 3rd visit]\n",
    "            ...\n",
    "    \"\"\"\n",
    "    # Note - For first visit - condition and condition history both will be empty list\n",
    "    samples[0][\"condition\"] = []\n",
    "    samples[0][\"condition_hist\"] = [samples[0][\"condition_hist\"]]\n",
    "\n",
    "    for i in range(1, len(samples)):\n",
    "        samples[i][\"condition_hist\"] = samples[i - 1][\"condition_hist\"] + [\n",
    "            samples[i][\"condition_hist\"]\n",
    "        ]\n",
    "\n",
    "    for i in range(len(samples)):\n",
    "        samples[i][\"condition_hist\"][i] = []\n",
    "\n",
    "    return samples"
   ]
  },
  {
   "cell_type": "markdown",
   "metadata": {},
   "source": [
    "#### Task Function 3 - Task Function for diagnosis recommendation related to Pancreatic Cancer using only history of diagnosis from past visits.\n",
    "#### This function will create dataset sample to be used in diagnosis recommendation of future visits using past visit's history."
   ]
  },
  {
   "cell_type": "code",
   "execution_count": 7,
   "metadata": {},
   "outputs": [],
   "source": [
    "def condition_recommendation_mimic4_fn_diag_c25(patient):\n",
    "    samples = []\n",
    "    for visit in patient:\n",
    "\n",
    "        # step 1: obtain visit-level information, conditions, procedures, and drugs\n",
    "        conditions = visit.get_code_list(table=\"diagnoses_icd\")\n",
    "\n",
    "        c25_cond = 0\n",
    "\n",
    "        for condition in conditions:\n",
    "            if condition[:3] != 'C25': continue\n",
    "            else:\n",
    "                c25_cond = 1\n",
    "\n",
    "\n",
    "        # step 2: exclusion criteria: cohort selection\n",
    "       \n",
    "        if len(conditions) == 0: continue\n",
    "            \n",
    "\n",
    "        # step 3: assemble the sample\n",
    "        # REMEMBER: the key here will be the \"feature_keys\" and \"label_key\" for initializing the downstream model\n",
    "        # Set label to True if any diagnosis code start with 'C25' present in visit history.\n",
    "        samples.append(\n",
    "            {\n",
    "                \"visit_id\": visit.visit_id,\n",
    "                \"patient_id\": patient.patient_id,\n",
    "                \"condition_hist\": conditions,\n",
    "                \"label\": c25_cond,\n",
    "            }\n",
    "        )\n",
    "\n",
    "    # step 4: patient-level cohort selection and other process\n",
    "    # exclude patients with less than 2 visit\n",
    "    if len(samples) < 2:\n",
    "        return []\n",
    "\n",
    "    \"\"\" \n",
    "    Add historical visit (use \"conditions\" key as an example)\n",
    "        before this step:\n",
    "            samples[0][\"conditions\"]: 1st visit\n",
    "            samples[1][\"conditions\"]: 2nd visit\n",
    "            samples[2][\"conditions\"]: 3rd visit\n",
    "            ...\n",
    "        \n",
    "        after this step:\n",
    "            samples[0][\"conditions\"]: [1st visit]\n",
    "            samples[1][\"conditions\"]: [1st visit, 2nd visit]\n",
    "            samples[2][\"conditions\"]: [1st visit, 2nd visit, 3rd visit]\n",
    "            ...\n",
    "    \"\"\"\n",
    "\n",
    "    samples[0][\"condition_hist\"] = [samples[0][\"condition_hist\"]]\n",
    "\n",
    "    for i in range(1, len(samples)):\n",
    "        samples[i][\"condition_hist\"] = samples[i - 1][\"condition_hist\"] + [\n",
    "            samples[i][\"condition_hist\"]\n",
    "        ]\n",
    "\n",
    "    return samples"
   ]
  },
  {
   "cell_type": "markdown",
   "metadata": {},
   "source": [
    "#### Task Functions to create Test Datasets "
   ]
  },
  {
   "cell_type": "markdown",
   "metadata": {},
   "source": [
    "#### Task Function 4 - Task Function for diagnosis recommendation related to Pancreatic Cancer using history of Diagnosis, Procedure and Drugs Prescribed from past visits.\n",
    "#### This function will create test dataset sample to be used in diagnosis recommendation of future visits using past visit's history."
   ]
  },
  {
   "cell_type": "code",
   "execution_count": 8,
   "metadata": {},
   "outputs": [],
   "source": [
    "def condition_recommendation_mimic4_fn_c25(patient):\n",
    "    samples = []\n",
    "    for visit in patient:\n",
    "\n",
    "        # step 1: obtain visit-level information, conditions, procedures, and drugs\n",
    "        conditions = visit.get_code_list(table=\"diagnoses_icd\")\n",
    "        procedures = visit.get_code_list(table=\"procedures_icd\")\n",
    "        drugs = visit.get_code_list(table=\"prescriptions\")\n",
    "\n",
    "        # step 2: Select visits with diagnosis code starts with C25\n",
    "        c25_cond ='n'\n",
    "\n",
    "        for condition in conditions:\n",
    "            if condition[:3] != 'C25': continue\n",
    "            else:\n",
    "                c25_cond = 'y'\n",
    "        if c25_cond == 'n':\n",
    "            conditions = []\n",
    "\n",
    "\n",
    "        # step 3: exclusion criteria: cohort selection\n",
    "\n",
    "        if len(conditions) * len(procedures) * len(drugs) == 0: continue\n",
    "\n",
    "        # step 4: assemble the sample\n",
    "        # REMEMBER: the key here will be the \"feature_keys\" and \"label_key\" for initializing the downstream model\n",
    "        samples.append(\n",
    "            {\n",
    "                \"visit_id\": visit.visit_id,\n",
    "                \"patient_id\": patient.patient_id,\n",
    "                \"condition_hist\": conditions,\n",
    "                \"procedures\": procedures,\n",
    "                \"drugs\": drugs,\n",
    "                \"condition\": conditions,\n",
    "            }\n",
    "        )\n",
    "\n",
    "    # step 5: patient-level cohort selection and other process\n",
    "    # exclude patients with less than 2 visit\n",
    "    if len(samples) < 2:\n",
    "        return []\n",
    "\n",
    "    \"\"\" \n",
    "    Add historical visit (use \"conditions\" key as an example)\n",
    "        before this step:\n",
    "            samples[0][\"conditions\"]: 1st visit\n",
    "            samples[1][\"conditions\"]: 2nd visit\n",
    "            samples[2][\"conditions\"]: 3rd visit\n",
    "            ...\n",
    "        \n",
    "        after this step:\n",
    "            samples[0][\"conditions\"]: [1st visit]\n",
    "            samples[1][\"conditions\"]: [1st visit, 2nd visit]\n",
    "            samples[2][\"conditions\"]: [1st visit, 2nd visit, 3rd visit]\n",
    "            ...\n",
    "    \"\"\"\n",
    "    samples[0][\"condition\"] = []\n",
    "    samples[0][\"condition_hist\"] = [samples[0][\"condition_hist\"]]\n",
    "    samples[0][\"procedures\"] = [samples[0][\"procedures\"]]\n",
    "    samples[0][\"drugs\"] = [samples[0][\"drugs\"]]\n",
    "\n",
    "    for i in range(1, len(samples)):\n",
    "        samples[i][\"condition_hist\"] = samples[i - 1][\"condition_hist\"] + [\n",
    "            samples[i][\"condition_hist\"]\n",
    "        ]\n",
    "        samples[i][\"procedures\"] = samples[i - 1][\"procedures\"] + [\n",
    "            samples[i][\"procedures\"]\n",
    "        ]\n",
    "        samples[i][\"drugs\"] = samples[i - 1][\"drugs\"] + [\n",
    "            samples[i][\"drugs\"]\n",
    "        ]\n",
    "\n",
    "    for i in range(len(samples)):\n",
    "        samples[i][\"condition_hist\"][i] = []\n",
    "\n",
    "    return samples"
   ]
  },
  {
   "cell_type": "markdown",
   "metadata": {},
   "source": [
    "#### Task Function 5 - Task Function for diagnosis recommendation related to Pancreatic Cancer using only history of diagnosis from past visits. This will add data samples with and without Pancreatic Cancer Diagnosis. So that model performance will be done more accurately.\n",
    "#### This function will create test dataset sample to be used in diagnosis recommendation of future visits using past visit's history."
   ]
  },
  {
   "cell_type": "code",
   "execution_count": 9,
   "metadata": {},
   "outputs": [],
   "source": [
    "def condition_recommendation_mimic4_fn_c25_test(patient):\n",
    "    samples = []\n",
    "\n",
    "    for visit in patient:\n",
    "\n",
    "        # step 1: obtain visit-level information, conditions, procedures, and drugs\n",
    "        conditions = visit.get_code_list(table=\"diagnoses_icd\")\n",
    "\n",
    "        # step 2: Select mixed samples. \n",
    "        #   Select visit data with atleast 2 visits has diagnosis code starts with 'C25'. \n",
    "\n",
    "        c25_cond =0\n",
    "\n",
    "        if len(samples) < 3:\n",
    "\n",
    "            for condition in conditions:\n",
    "                if condition[:3] != 'C25': continue\n",
    "                else:\n",
    "                    c25_cond = 1\n",
    "            if c25_cond == 0:\n",
    "                conditions = []\n",
    "\n",
    "\n",
    "        # step 3: exclusion criteria: cohort selection\n",
    "        if len(conditions) == 0: continue\n",
    "\n",
    "        # step 3: assemble the sample\n",
    "        # REMEMBER: the key here will be the \"feature_keys\" and \"label_key\" for initializing the downstream model\n",
    "        samples.append(\n",
    "            {\n",
    "                \"visit_id\": visit.visit_id,\n",
    "                \"patient_id\": patient.patient_id,\n",
    "                \"condition_hist\": conditions,\n",
    "                \"label\": c25_cond,\n",
    "            }\n",
    "        )\n",
    "\n",
    "    # step 4: patient-level cohort selection and other process\n",
    "    # exclude patients with less than 2 visit\n",
    "    if len(samples) < 2:\n",
    "        return []\n",
    "\n",
    "    \"\"\" \n",
    "    Add historical visit (use \"conditions\" key as an example)\n",
    "        before this step:\n",
    "            samples[0][\"conditions\"]: 1st visit\n",
    "            samples[1][\"conditions\"]: 2nd visit\n",
    "            samples[2][\"conditions\"]: 3rd visit\n",
    "            ...\n",
    "        \n",
    "        after this step:\n",
    "            samples[0][\"conditions\"]: [1st visit]\n",
    "            samples[1][\"conditions\"]: [1st visit, 2nd visit]\n",
    "            samples[2][\"conditions\"]: [1st visit, 2nd visit, 3rd visit]\n",
    "            ...\n",
    "    \"\"\"\n",
    "\n",
    "    samples[0][\"condition_hist\"] = [samples[0][\"condition_hist\"]]\n",
    "    \n",
    "    for i in range(1, len(samples)):\n",
    "        samples[i][\"condition_hist\"] = samples[i - 1][\"condition_hist\"] + [\n",
    "            samples[i][\"condition_hist\"] ]\n",
    "\n",
    "    return samples"
   ]
  },
  {
   "cell_type": "markdown",
   "metadata": {
    "id": "ABD4VhFZbehA"
   },
   "source": [
    "\n",
    "### Create Training, Valuation and Test Datasets and Dataloaders"
   ]
  },
  {
   "cell_type": "markdown",
   "metadata": {},
   "source": [
    "#### Create datasets and dataloaders for Model - 1 using Task Function 1 - \"condition_recommendation_mimic4_fn\""
   ]
  },
  {
   "cell_type": "code",
   "execution_count": 10,
   "metadata": {},
   "outputs": [],
   "source": [
    "import numpy as np\n",
    "from pyhealth.datasets.splitter import split_by_patient\n",
    "from pyhealth.datasets import split_by_patient, get_dataloader\n",
    "\n",
    "np.random.seed(1234)"
   ]
  },
  {
   "cell_type": "code",
   "execution_count": 11,
   "metadata": {},
   "outputs": [
    {
     "name": "stderr",
     "output_type": "stream",
     "text": [
      "Generating samples for condition_recommendation_mimic4_fn: 100%|████████████████████████████████████████████████████████████| 180733/180733 [00:47<00:00, 3817.20it/s]\n"
     ]
    },
    {
     "name": "stdout",
     "output_type": "stream",
     "text": [
      "For Model 1 - Sample data 1\n",
      "{'visit_id': '26840593', 'patient_id': '10001401', 'condition_hist': [['C675', 'I10', 'D259', 'Z87891', 'E785', 'E890'], []], 'procedures': [['0TTB4ZZ', '07BC4ZX', '0UT9FZZ', '0UTC7ZZ', '0UT2FZZ', '0UBG4ZZ', '0T1807C', '8E0W4CZ'], ['02HV33Z', '3E0436Z', '0W9J30Z']], 'drugs': [['B01AB01', 'A06AA02', 'N02BE01', 'G01AF20', 'N02AA01', 'M01AB15', 'J01XD01', 'J01DB04', 'A04AA01', 'H03AA01', 'B05BA03', 'C05BB56', 'N02AA05', 'N02AA03', 'C10AA05', 'A02BC02', 'B01AB05', 'R02AX02', 'M01AE01', 'A02AB01', 'A02AB02', 'A02AA04', 'G04BX01', 'A06AB02', 'A06AD10', 'A06AG02', 'R06AD02', 'B05XA03', 'N02BE05', 'D08AE03', 'R02AD01', 'J01XE01'], ['B01AB05', 'B05BA03', 'C05BB56', 'H03AA01', 'B01AB01', 'C01BB01', 'N02BE01', 'N02BE05', 'A02BC02', 'D08AE03', 'C05AD01', 'D04AB01', 'N05BA06', 'N02AA03', 'A03FA01', 'M01AB15', 'B05XA03', 'J01DD04', 'A06AB02', 'A06AD10', 'A06AG02', 'A02BC01', 'J01EE01', 'A06AA02', 'J01MA02', 'A06AB06', 'P01AB01', 'A09AA01', 'A08AA56', 'G04BE52', 'N02AA59', 'H03AA05', 'B03BA51', 'D01AE20', 'D11AC30', 'C05AX04', 'A07XA03', 'G01AF20', 'C02AA04', 'C03AB01', 'C02LA08', 'C02LA50', 'J01CA20', 'J01CR50', 'A11CC55', 'A12AA20', 'R06AD52', 'C02LA01', 'B03AD02', 'S03AA30', 'A06AD65', 'A12BA30', 'C10AD52', 'S01XA20', 'R03DA54', 'D11AC08', 'R06AA52', 'V03AF11', 'A01AA30', 'A01AA51', 'C02AA52', 'C02AA57', 'C02LA71', 'A06AB58', 'A07FA01', 'A07FA51', 'A12BA51', 'A12CD51', 'B03AE01', 'B03AE10', 'B03BB51', 'B05BA01', 'B05BA10', 'B05BB01', 'B05BB02', 'B05XA06', 'B05XA30', 'B05XA31', 'C05BX51', 'C05CA51', 'D05BX51', 'D07AB30', 'D07XB30', 'R03DA20', 'R07AB52', 'N01BA52', 'N02BB51', 'N02BB71', 'N05CX02', 'B05BB04', 'D09AB01', 'D09AB02', 'C01AA52', 'A06AB52', 'D07XB05', 'B05BA02', 'N02CA52', 'C01DA52', 'A06AB57', 'A07BC30', 'G03GA30', 'R03DA51', 'R03DA57', 'A03BB06', 'A03CB04', 'C05CA54', 'C01DA55', 'B05CB10', 'C01AB51', 'C02LA02', 'C02LA51', 'C02LA52', 'C02LG01', 'C02LG51', 'C03AB02', 'C03AB03', 'C03AB04', 'C03AB05', 'C03AB06', 'C03AB07', 'C03AB08', 'C03AB09', 'C03AH02', 'C03AX01', 'C03BA82', 'C03BB02', 'C03BB03', 'C03BB04', 'C03BB05', 'C03BB07', 'C03CB01', 'C03CB02', 'D08AC52', 'R06AD55', 'R07AB53', 'A06AX02', 'A06AG20', 'V03AG05', 'A06AD17', 'A06AG01', 'B05XA09', 'J01XD01']], 'condition': ['T814XXA', 'K651', 'N179', 'I82412', 'C679', 'I10', 'B966', 'R7881', 'Y838', 'Y9289', 'F17210', 'Z436', 'Z90710', 'D72829', 'Z96652']}\n",
      "For Model 1 - Sample data 2\n",
      "{'visit_id': '27012892', 'patient_id': '10001401', 'condition_hist': [['C675', 'I10', 'D259', 'Z87891', 'E785', 'E890'], ['T814XXA', 'K651', 'N179', 'I82412', 'C679', 'I10', 'B966', 'R7881', 'Y838', 'Y9289', 'F17210', 'Z436', 'Z90710', 'D72829', 'Z96652'], []], 'procedures': [['0TTB4ZZ', '07BC4ZX', '0UT9FZZ', '0UTC7ZZ', '0UT2FZZ', '0UBG4ZZ', '0T1807C', '8E0W4CZ'], ['02HV33Z', '3E0436Z', '0W9J30Z'], ['0T948ZX', '0TB68ZX', '0T783DZ', '02HV33Z']], 'drugs': [['B01AB01', 'A06AA02', 'N02BE01', 'G01AF20', 'N02AA01', 'M01AB15', 'J01XD01', 'J01DB04', 'A04AA01', 'H03AA01', 'B05BA03', 'C05BB56', 'N02AA05', 'N02AA03', 'C10AA05', 'A02BC02', 'B01AB05', 'R02AX02', 'M01AE01', 'A02AB01', 'A02AB02', 'A02AA04', 'G04BX01', 'A06AB02', 'A06AD10', 'A06AG02', 'R06AD02', 'B05XA03', 'N02BE05', 'D08AE03', 'R02AD01', 'J01XE01'], ['B01AB05', 'B05BA03', 'C05BB56', 'H03AA01', 'B01AB01', 'C01BB01', 'N02BE01', 'N02BE05', 'A02BC02', 'D08AE03', 'C05AD01', 'D04AB01', 'N05BA06', 'N02AA03', 'A03FA01', 'M01AB15', 'B05XA03', 'J01DD04', 'A06AB02', 'A06AD10', 'A06AG02', 'A02BC01', 'J01EE01', 'A06AA02', 'J01MA02', 'A06AB06', 'P01AB01', 'A09AA01', 'A08AA56', 'G04BE52', 'N02AA59', 'H03AA05', 'B03BA51', 'D01AE20', 'D11AC30', 'C05AX04', 'A07XA03', 'G01AF20', 'C02AA04', 'C03AB01', 'C02LA08', 'C02LA50', 'J01CA20', 'J01CR50', 'A11CC55', 'A12AA20', 'R06AD52', 'C02LA01', 'B03AD02', 'S03AA30', 'A06AD65', 'A12BA30', 'C10AD52', 'S01XA20', 'R03DA54', 'D11AC08', 'R06AA52', 'V03AF11', 'A01AA30', 'A01AA51', 'C02AA52', 'C02AA57', 'C02LA71', 'A06AB58', 'A07FA01', 'A07FA51', 'A12BA51', 'A12CD51', 'B03AE01', 'B03AE10', 'B03BB51', 'B05BA01', 'B05BA10', 'B05BB01', 'B05BB02', 'B05XA06', 'B05XA30', 'B05XA31', 'C05BX51', 'C05CA51', 'D05BX51', 'D07AB30', 'D07XB30', 'R03DA20', 'R07AB52', 'N01BA52', 'N02BB51', 'N02BB71', 'N05CX02', 'B05BB04', 'D09AB01', 'D09AB02', 'C01AA52', 'A06AB52', 'D07XB05', 'B05BA02', 'N02CA52', 'C01DA52', 'A06AB57', 'A07BC30', 'G03GA30', 'R03DA51', 'R03DA57', 'A03BB06', 'A03CB04', 'C05CA54', 'C01DA55', 'B05CB10', 'C01AB51', 'C02LA02', 'C02LA51', 'C02LA52', 'C02LG01', 'C02LG51', 'C03AB02', 'C03AB03', 'C03AB04', 'C03AB05', 'C03AB06', 'C03AB07', 'C03AB08', 'C03AB09', 'C03AH02', 'C03AX01', 'C03BA82', 'C03BB02', 'C03BB03', 'C03BB04', 'C03BB05', 'C03BB07', 'C03CB01', 'C03CB02', 'D08AC52', 'R06AD55', 'R07AB53', 'A06AX02', 'A06AG20', 'V03AG05', 'A06AD17', 'A06AG01', 'B05XA09', 'J01XD01'], ['B05XA03', 'J01CA01', 'H03AA01', 'A06AA02', 'A06AD15', 'B01AB01', 'N02BE51', 'N02BE01', 'J07BB02', 'B03BA01', 'N05CH02', 'J01DD02', 'J01XA01', 'N05BA06', 'J01DD04', 'C10AA05', 'C01BB01']], 'condition': ['T8140XA', 'A4181', 'R6520', 'N179', 'N1330', 'N12', 'T8144XA', 'Z936', 'I10', 'E785', 'E039', 'Z87891', 'Z8551', 'Z86718', 'Y848', 'Y92239']}\n"
     ]
    }
   ],
   "source": [
    "dataset = mimic4_ds.set_task(task_fn=condition_recommendation_mimic4_fn)\n",
    "\n",
    "print ('For Model 1 - Sample data 1')\n",
    "print(dataset.samples[1])\n",
    "print ('For Model 1 - Sample data 2')\n",
    "print(dataset.samples[2])\n",
    "\n",
    "# data split\n",
    "train_dataset, val_dataset, test_dataset = split_by_patient(dataset, [0.8, 0.1, 0.1])\n",
    "\n",
    "# create dataloaders (they are <torch.data.DataLoader> object)\n",
    "train_loader = get_dataloader(train_dataset, batch_size=64, shuffle=True)\n",
    "val_loader = get_dataloader(val_dataset, batch_size=64, shuffle=False)\n",
    "test_loader = get_dataloader(test_dataset, batch_size=64, shuffle=False)"
   ]
  },
  {
   "cell_type": "markdown",
   "metadata": {},
   "source": [
    "#### Create datasets and dataloaders for Model - 2 using Task Function 2 - \"condition_recommendation_mimic4_fn_diag\""
   ]
  },
  {
   "cell_type": "code",
   "execution_count": 12,
   "metadata": {},
   "outputs": [
    {
     "name": "stderr",
     "output_type": "stream",
     "text": [
      "Generating samples for condition_recommendation_mimic4_fn_diag: 100%|█████████████████████████████████████████████████████| 180733/180733 [00:01<00:00, 124337.76it/s]\n"
     ]
    },
    {
     "name": "stdout",
     "output_type": "stream",
     "text": [
      "For Model 2 - Sample data 1\n",
      "{'visit_id': '29888819', 'patient_id': '10000084', 'condition_hist': [['G3183', 'F0280', 'R441', 'R296', 'E785', 'Z8546'], []], 'condition': ['R4182', 'G20', 'F0280', 'R609', 'E785', 'Z8546']}\n",
      "For Model 2 - Sample data 2\n",
      "{'visit_id': '22927623', 'patient_id': '10000117', 'condition_hist': [[]], 'condition': []}\n"
     ]
    }
   ],
   "source": [
    "dataset_diag = mimic4_ds_diag.set_task(task_fn=condition_recommendation_mimic4_fn_diag)\n",
    "\n",
    "print ('For Model 2 - Sample data 1')\n",
    "print(dataset_diag.samples[1])\n",
    "print ('For Model 2 - Sample data 2')\n",
    "print(dataset_diag.samples[2])\n",
    "\n",
    "# data split\n",
    "train_dataset_diag, val_dataset_diag, test_dataset_diag = split_by_patient(dataset_diag, [0.8, 0.1, 0.1])\n",
    "\n",
    "# create dataloaders (they are <torch.data.DataLoader> object)\n",
    "train_loader_diag = get_dataloader(train_dataset_diag, batch_size=64, shuffle=True)\n",
    "val_loader_diag = get_dataloader(val_dataset_diag, batch_size=64, shuffle=False)\n",
    "test_loader_diag = get_dataloader(test_dataset_diag, batch_size=64, shuffle=False)"
   ]
  },
  {
   "cell_type": "markdown",
   "metadata": {},
   "source": [
    "#### Create datasets and dataloaders for Model - 3 using Task Function 3 - \"condition_recommendation_mimic4_fn_diag_c25\""
   ]
  },
  {
   "cell_type": "code",
   "execution_count": 13,
   "metadata": {},
   "outputs": [
    {
     "name": "stderr",
     "output_type": "stream",
     "text": [
      "Generating samples for condition_recommendation_mimic4_fn_diag_c25: 100%|█████████████████████████████████████████████████| 180733/180733 [00:00<00:00, 222660.61it/s]\n"
     ]
    },
    {
     "name": "stdout",
     "output_type": "stream",
     "text": [
      "For Model 3 - Sample data 1\n",
      "{'visit_id': '29888819', 'patient_id': '10000084', 'condition_hist': [['G3183', 'F0280', 'R441', 'R296', 'E785', 'Z8546'], ['R4182', 'G20', 'F0280', 'R609', 'E785', 'Z8546']], 'label': 0}\n",
      "For Model 3 - Sample data 2\n",
      "{'visit_id': '22927623', 'patient_id': '10000117', 'condition_hist': [['R1310', 'R0989', 'K31819', 'K219', 'K449', 'F419', 'I341', 'M810', 'Z87891']], 'label': 0}\n"
     ]
    }
   ],
   "source": [
    "dataset_diag_c25 = mimic4_ds_diag.set_task(task_fn=condition_recommendation_mimic4_fn_diag_c25)\n",
    "\n",
    "\n",
    "print ('For Model 3 - Sample data 1')\n",
    "print(dataset_diag_c25.samples[1])\n",
    "print ('For Model 3 - Sample data 2')\n",
    "print(dataset_diag_c25.samples[2])\n",
    "\n",
    "# data split\n",
    "train_dataset_diag_c25, val_dataset_diag_c25, test_dataset_diag_c25 = split_by_patient(dataset_diag_c25, [0.8, 0.1, 0.1])\n",
    "\n",
    "# create dataloaders (they are <torch.data.DataLoader> object)\n",
    "train_loader_diag_c25 = get_dataloader(train_dataset_diag_c25, batch_size=64, shuffle=True)\n",
    "val_loader_diag_c25 = get_dataloader(val_dataset_diag_c25, batch_size=64, shuffle=False)\n",
    "test_loader_diag_c25 = get_dataloader(test_dataset_diag_c25, batch_size=64, shuffle=False)"
   ]
  },
  {
   "cell_type": "markdown",
   "metadata": {},
   "source": [
    "#### Create Test datasets and dataloaders for Model - 1 using Task Function 4 - \"condition_recommendation_mimic4_fn_c25\""
   ]
  },
  {
   "cell_type": "code",
   "execution_count": 14,
   "metadata": {},
   "outputs": [
    {
     "name": "stderr",
     "output_type": "stream",
     "text": [
      "Generating samples for condition_recommendation_mimic4_fn_c25: 100%|███████████████████████████████████████████████████████| 180733/180733 [00:05<00:00, 34951.04it/s]"
     ]
    },
    {
     "name": "stdout",
     "output_type": "stream",
     "text": [
      "For Model 1 - Sample Test data 1\n",
      "{'visit_id': '25589898', 'patient_id': '10006431', 'condition_hist': [['G893', 'Z66', 'K8580', 'E43', 'C250', 'C787', 'C7900', 'I959', 'K219', 'Z681', 'I10', 'E049', 'E7800', 'K5900'], []], 'procedures': [['3E0T3GC'], ['0FBG3ZX']], 'drugs': [['N02AA03', 'A06AB06', 'A06AA02', 'G01AF20', 'A06AD15', 'C09AA03', 'B05XA01', 'A12CC02', 'B05XA05', 'V04CC02', 'B01AB01', 'N05AB04', 'A04AA01', 'A02BC03', 'N05AA01', 'N02AA05', 'A06AB02', 'A06AD10', 'A06AG02', 'B05BA03', 'C05BB56', 'B05XA03', 'N02BE51', 'N02BE01', 'C05AD01', 'D04AB01', 'A02AA04', 'G04BX01'], ['G01AF20', 'N02AA01', 'A04AA01', 'B01AB01', 'C09AA03', 'C10AC01', 'A02BC01', 'A11DA01', 'A12BA01', 'A06AA02', 'A06AB06', 'A06AD15']], 'condition': ['C250', 'H905', 'I10', 'E042', 'K838', 'L298', 'K219', 'D509', 'G4700', 'Z800']}\n",
      "Test Sample size:  699\n"
     ]
    },
    {
     "name": "stderr",
     "output_type": "stream",
     "text": [
      "\n"
     ]
    }
   ],
   "source": [
    "dataset_c25 = mimic4_ds.set_task(task_fn=condition_recommendation_mimic4_fn_c25)\n",
    "\n",
    "print ('For Model 1 - Sample Test data 1')\n",
    "print(dataset_c25.samples[1])\n",
    "print('Test Sample size: ', len(dataset_c25))\n",
    "\n",
    "test_loader_c25 = get_dataloader(dataset_c25, batch_size=64, shuffle=False)"
   ]
  },
  {
   "cell_type": "markdown",
   "metadata": {},
   "source": [
    "#### Create Test datasets and dataloaders for Model - 3 using Task Function 5 - \"condition_recommendation_mimic4_fn_c25_test\""
   ]
  },
  {
   "cell_type": "code",
   "execution_count": 15,
   "metadata": {},
   "outputs": [
    {
     "name": "stderr",
     "output_type": "stream",
     "text": [
      "Generating samples for condition_recommendation_mimic4_fn_c25_test: 100%|█████████████████████████████████████████████████| 180733/180733 [00:01<00:00, 108760.56it/s]"
     ]
    },
    {
     "name": "stdout",
     "output_type": "stream",
     "text": [
      "For Model 3 - Sample Test data 1\n",
      "{'visit_id': '25426298', 'patient_id': '10006029', 'condition_hist': [['N179', 'C221', 'C259', 'C7802', 'C7801', 'I10', 'E785', 'F419', 'N400', 'I129', 'E1122', 'N189', 'Z7984', 'Z87891', 'T464X5A', 'Y929', 'D6481', 'T451X5A', 'E039', 'Z794', 'Z905', 'I959', 'E860', 'Z7901'], ['C786', 'E43', 'C250', 'C787', 'C781', 'C771', 'N179', 'E871', 'G893', 'K8681', 'Z85528', 'Z8589', 'Z905', 'Z66', 'Z515', 'E1122', 'I129', 'N189', 'Z794', 'E7849', 'N400', 'K529', 'Z87891', 'K117', 'D630', 'E860', 'Z6826', 'Z7902', 'B001', 'F419', 'G4700', 'R739', 'T380X5A', 'Y92230', 'K5900']], 'label': 1}\n",
      "Test Sample size:  1295\n"
     ]
    },
    {
     "name": "stderr",
     "output_type": "stream",
     "text": [
      "\n"
     ]
    }
   ],
   "source": [
    "dataset_c25_test = mimic4_ds_diag.set_task(task_fn=condition_recommendation_mimic4_fn_c25_test)\n",
    "\n",
    "print ('For Model 3 - Sample Test data 1')\n",
    "print(dataset_c25_test.samples[1])\n",
    "print('Test Sample size: ', len(dataset_c25_test))\n",
    "\n",
    "test_loader_c25_test = get_dataloader(dataset_c25_test, batch_size=64, shuffle=False)"
   ]
  },
  {
   "cell_type": "markdown",
   "metadata": {},
   "source": [
    "### Model Details"
   ]
  },
  {
   "cell_type": "markdown",
   "metadata": {},
   "source": [
    "### Model 1 : Multilabel Recommendation with dataset with feature keys # Diagnostic history, Procedure History and Drugs prescribed history\n",
    "\n",
    "### Model Architecture:\n",
    "The model is based on the Transformer architecture, which is commonly used in natural language processing tasks.\n",
    "\n",
    "### Input Features:\n",
    "The model takes three types of input features: \"condition_hist\", \"procedures\", and \"drugs\". Each input feature is embedded using an embedding layer. The embedding size is 128 for each feature type.\n",
    "\n",
    "### Output Label:\n",
    "The task is multilabel classification, where the model predicts one or more labels for each input sample. The label to predict is \"condition\".\n",
    "\n",
    "### Transformer Layers:\n",
    "Each input feature has its own Transformer layer, which each consist of a stack of Transformer blocks.\n",
    "Each Transformer block contains:\n",
    "* MultiHeadedAttention layer: Performs attention mechanism.\n",
    "* PositionwiseFeedForward layer: Applies a feedforward neural network to each position separately and identically.\n",
    "* SublayerConnection: Adds residual connections around each sub-layer followed by layer normalization.\n",
    "* Dropout: Applies dropout regularization to prevent overfitting.\n",
    "\n",
    "### Output Layer:\n",
    "The output of the Transformer layers is concatenated and passed through a linear layer (fc) to produce the final output logits, which are used for classification."
   ]
  },
  {
   "cell_type": "code",
   "execution_count": 16,
   "metadata": {},
   "outputs": [],
   "source": [
    "from pyhealth.models import Transformer\n"
   ]
  },
  {
   "cell_type": "code",
   "execution_count": 17,
   "metadata": {},
   "outputs": [],
   "source": [
    "model = Transformer(\n",
    "    dataset = dataset,\n",
    "    feature_keys =[\"condition_hist\",\n",
    "                  \"procedures\",\n",
    "                  \"drugs\",\n",
    "                  ],\n",
    "    label_key = \"condition\",\n",
    "    mode = \"multilabel\"\n",
    ")"
   ]
  },
  {
   "cell_type": "markdown",
   "metadata": {},
   "source": [
    "### Model 2 : Multilabel Recommendation with dataset with feature keys # Diagnostics history"
   ]
  },
  {
   "cell_type": "markdown",
   "metadata": {},
   "source": [
    "### Model Architecture: \n",
    "This model is also based on the Transformer architecture, specifically designed for a multilabel classification task.\n",
    "\n",
    "### Input Features:\n",
    "The model takes one type of input feature: \"condition_hist\", which is embedded using an embedding layer with a size of 128.\n",
    "\n",
    "### Output Label:\n",
    "The task is multilabel classification, where the model predicts one or more labels for each input sample. The label to predict is \"condition\".\n",
    "\n",
    "### Transformer Layers:\n",
    "There is only one Transformer layer for the input feature \"condition_hist\"., which consists of a single Transformer block.\n",
    "The Transformer block contains:\n",
    "* MultiHeadedAttention layer: Performs attention mechanism.\n",
    "* PositionwiseFeedForward layer: Applies a feedforward neural network to each position separately and identically.\n",
    "* SublayerConnection: Adds residual connections around each sub-layer followed by layer normalization.\n",
    "* Dropout: Applies dropout regularization to prevent overfitting.\n",
    "\n",
    "### Output Layer:\n",
    "The output of the Transformer layer is passed through a linear layer (fc) to produce the final output logits, which are then used for classification.\n"
   ]
  },
  {
   "cell_type": "code",
   "execution_count": 18,
   "metadata": {},
   "outputs": [],
   "source": [
    "model_diag = Transformer(\n",
    "    dataset = dataset_diag,\n",
    "    feature_keys =[\"condition_hist\",],\n",
    "    label_key = \"condition\",\n",
    "    mode = \"multilabel\"\n",
    ")"
   ]
  },
  {
   "cell_type": "markdown",
   "metadata": {},
   "source": [
    "### Model 3 : Pancreatic Cancer Recommendation with dataset with feature keys # Diagnostics history"
   ]
  },
  {
   "cell_type": "markdown",
   "metadata": {},
   "source": [
    "### Model Architecture: \n",
    "This model is a Transformer architecture specifically tailored for a binary classification task.\n",
    "\n",
    "### Input Features:\n",
    "The model takes one type of input feature: \"condition_hist\", which is embedded using an embedding layer with a size of 128.\n",
    "\n",
    "### Output Label:\n",
    "The task is binary classification, where the model predicts a single label for each input sample. The label to predict is \"label\".\n",
    "\n",
    "### Transformer Layers:\n",
    "There is only one Transformer layer for the input feature \"condition_hist\", which consists of a single Transformer block.\n",
    "The Transformer block contains:\n",
    "* MultiHeadedAttention layer: Performs attention mechanism.\n",
    "* PositionwiseFeedForward layer: Applies a feedforward neural network to each position separately and identically.\n",
    "* SublayerConnection: Adds residual connections around each sub-layer followed by layer normalization.\n",
    "* Dropout: Applies dropout regularization to prevent overfitting.\n",
    "\n",
    "### Output Layer:\n",
    "The output of the Transformer layer is passed through a linear layer (fc) to produce the final output logits, which then used for binary classification, as there is a single output neuron with a sigmoid activation function.\n"
   ]
  },
  {
   "cell_type": "code",
   "execution_count": 19,
   "metadata": {},
   "outputs": [],
   "source": [
    "model_diag_c25 = Transformer(\n",
    "    dataset = dataset_diag_c25,\n",
    "    feature_keys =[\"condition_hist\",],\n",
    "    label_key = \"label\",\n",
    "    mode = \"binary\"\n",
    ")"
   ]
  },
  {
   "cell_type": "markdown",
   "metadata": {},
   "source": [
    "## Model Training "
   ]
  },
  {
   "cell_type": "markdown",
   "metadata": {},
   "source": [
    "#### Model 1 - Training"
   ]
  },
  {
   "cell_type": "code",
   "execution_count": 20,
   "metadata": {},
   "outputs": [],
   "source": [
    "from pyhealth.trainer import Trainer"
   ]
  },
  {
   "cell_type": "code",
   "execution_count": 21,
   "metadata": {},
   "outputs": [
    {
     "name": "stdout",
     "output_type": "stream",
     "text": [
      "Transformer(\n",
      "  (embeddings): ModuleDict(\n",
      "    (condition_hist): Embedding(9679, 128, padding_idx=0)\n",
      "    (procedures): Embedding(7751, 128, padding_idx=0)\n",
      "    (drugs): Embedding(1213, 128, padding_idx=0)\n",
      "  )\n",
      "  (linear_layers): ModuleDict()\n",
      "  (transformer): ModuleDict(\n",
      "    (condition_hist): TransformerLayer(\n",
      "      (transformer): ModuleList(\n",
      "        (0): TransformerBlock(\n",
      "          (attention): MultiHeadedAttention(\n",
      "            (linear_layers): ModuleList(\n",
      "              (0-2): 3 x Linear(in_features=128, out_features=128, bias=False)\n",
      "            )\n",
      "            (output_linear): Linear(in_features=128, out_features=128, bias=False)\n",
      "            (attention): Attention()\n",
      "            (dropout): Dropout(p=0.1, inplace=False)\n",
      "          )\n",
      "          (feed_forward): PositionwiseFeedForward(\n",
      "            (w_1): Linear(in_features=128, out_features=512, bias=True)\n",
      "            (w_2): Linear(in_features=512, out_features=128, bias=True)\n",
      "            (dropout): Dropout(p=0.5, inplace=False)\n",
      "            (activation): GELU(approximate='none')\n",
      "          )\n",
      "          (input_sublayer): SublayerConnection(\n",
      "            (norm): LayerNorm((128,), eps=1e-05, elementwise_affine=True)\n",
      "            (dropout): Dropout(p=0.5, inplace=False)\n",
      "          )\n",
      "          (output_sublayer): SublayerConnection(\n",
      "            (norm): LayerNorm((128,), eps=1e-05, elementwise_affine=True)\n",
      "            (dropout): Dropout(p=0.5, inplace=False)\n",
      "          )\n",
      "          (dropout): Dropout(p=0.5, inplace=False)\n",
      "        )\n",
      "      )\n",
      "    )\n",
      "    (procedures): TransformerLayer(\n",
      "      (transformer): ModuleList(\n",
      "        (0): TransformerBlock(\n",
      "          (attention): MultiHeadedAttention(\n",
      "            (linear_layers): ModuleList(\n",
      "              (0-2): 3 x Linear(in_features=128, out_features=128, bias=False)\n",
      "            )\n",
      "            (output_linear): Linear(in_features=128, out_features=128, bias=False)\n",
      "            (attention): Attention()\n",
      "            (dropout): Dropout(p=0.1, inplace=False)\n",
      "          )\n",
      "          (feed_forward): PositionwiseFeedForward(\n",
      "            (w_1): Linear(in_features=128, out_features=512, bias=True)\n",
      "            (w_2): Linear(in_features=512, out_features=128, bias=True)\n",
      "            (dropout): Dropout(p=0.5, inplace=False)\n",
      "            (activation): GELU(approximate='none')\n",
      "          )\n",
      "          (input_sublayer): SublayerConnection(\n",
      "            (norm): LayerNorm((128,), eps=1e-05, elementwise_affine=True)\n",
      "            (dropout): Dropout(p=0.5, inplace=False)\n",
      "          )\n",
      "          (output_sublayer): SublayerConnection(\n",
      "            (norm): LayerNorm((128,), eps=1e-05, elementwise_affine=True)\n",
      "            (dropout): Dropout(p=0.5, inplace=False)\n",
      "          )\n",
      "          (dropout): Dropout(p=0.5, inplace=False)\n",
      "        )\n",
      "      )\n",
      "    )\n",
      "    (drugs): TransformerLayer(\n",
      "      (transformer): ModuleList(\n",
      "        (0): TransformerBlock(\n",
      "          (attention): MultiHeadedAttention(\n",
      "            (linear_layers): ModuleList(\n",
      "              (0-2): 3 x Linear(in_features=128, out_features=128, bias=False)\n",
      "            )\n",
      "            (output_linear): Linear(in_features=128, out_features=128, bias=False)\n",
      "            (attention): Attention()\n",
      "            (dropout): Dropout(p=0.1, inplace=False)\n",
      "          )\n",
      "          (feed_forward): PositionwiseFeedForward(\n",
      "            (w_1): Linear(in_features=128, out_features=512, bias=True)\n",
      "            (w_2): Linear(in_features=512, out_features=128, bias=True)\n",
      "            (dropout): Dropout(p=0.5, inplace=False)\n",
      "            (activation): GELU(approximate='none')\n",
      "          )\n",
      "          (input_sublayer): SublayerConnection(\n",
      "            (norm): LayerNorm((128,), eps=1e-05, elementwise_affine=True)\n",
      "            (dropout): Dropout(p=0.5, inplace=False)\n",
      "          )\n",
      "          (output_sublayer): SublayerConnection(\n",
      "            (norm): LayerNorm((128,), eps=1e-05, elementwise_affine=True)\n",
      "            (dropout): Dropout(p=0.5, inplace=False)\n",
      "          )\n",
      "          (dropout): Dropout(p=0.5, inplace=False)\n",
      "        )\n",
      "      )\n",
      "    )\n",
      "  )\n",
      "  (fc): Linear(in_features=384, out_features=9601, bias=True)\n",
      ")\n",
      "Metrics: None\n",
      "Device: cpu\n",
      "\n",
      "Training:\n",
      "Batch size: 64\n",
      "Optimizer: <class 'torch.optim.adam.Adam'>\n",
      "Optimizer params: {'lr': 0.001}\n",
      "Weight decay: 0.0\n",
      "Max grad norm: None\n",
      "Val dataloader: <torch.utils.data.dataloader.DataLoader object at 0x33e10b1a0>\n",
      "Monitor: None\n",
      "Monitor criterion: max\n",
      "Epochs: 20\n",
      "\n"
     ]
    },
    {
     "data": {
      "application/json": {
       "ascii": false,
       "bar_format": null,
       "colour": null,
       "elapsed": 0.001699686050415039,
       "initial": 0,
       "n": 0,
       "ncols": null,
       "nrows": 16,
       "postfix": null,
       "prefix": "Epoch 0 / 20",
       "rate": null,
       "total": 489,
       "unit": "it",
       "unit_divisor": 1000,
       "unit_scale": false
      },
      "application/vnd.jupyter.widget-view+json": {
       "model_id": "54fcbb26385740489da2a73340ff5cac",
       "version_major": 2,
       "version_minor": 0
      },
      "text/plain": [
       "Epoch 0 / 20:   0%|          | 0/489 [00:00<?, ?it/s]"
      ]
     },
     "metadata": {},
     "output_type": "display_data"
    },
    {
     "name": "stdout",
     "output_type": "stream",
     "text": [
      "--- Train epoch-0, step-489 ---\n",
      "loss: 0.0308\n"
     ]
    },
    {
     "name": "stderr",
     "output_type": "stream",
     "text": [
      "Evaluation: 100%|█████████████████████████████████████████████████████████████████████████████████████████████████████████████████████| 60/60 [00:01<00:00, 34.64it/s]\n"
     ]
    },
    {
     "name": "stdout",
     "output_type": "stream",
     "text": [
      "--- Eval epoch-0, step-489 ---\n",
      "pr_auc_samples: 0.1750\n",
      "loss: 0.0071\n",
      "\n"
     ]
    },
    {
     "data": {
      "application/json": {
       "ascii": false,
       "bar_format": null,
       "colour": null,
       "elapsed": 0.0014011859893798828,
       "initial": 0,
       "n": 0,
       "ncols": null,
       "nrows": 16,
       "postfix": null,
       "prefix": "Epoch 1 / 20",
       "rate": null,
       "total": 489,
       "unit": "it",
       "unit_divisor": 1000,
       "unit_scale": false
      },
      "application/vnd.jupyter.widget-view+json": {
       "model_id": "87e18fdf232f4d3f81c471b208de7918",
       "version_major": 2,
       "version_minor": 0
      },
      "text/plain": [
       "Epoch 1 / 20:   0%|          | 0/489 [00:00<?, ?it/s]"
      ]
     },
     "metadata": {},
     "output_type": "display_data"
    },
    {
     "name": "stdout",
     "output_type": "stream",
     "text": [
      "--- Train epoch-1, step-978 ---\n",
      "loss: 0.0070\n"
     ]
    },
    {
     "name": "stderr",
     "output_type": "stream",
     "text": [
      "Evaluation: 100%|█████████████████████████████████████████████████████████████████████████████████████████████████████████████████████| 60/60 [00:01<00:00, 33.25it/s]\n"
     ]
    },
    {
     "name": "stdout",
     "output_type": "stream",
     "text": [
      "--- Eval epoch-1, step-978 ---\n",
      "pr_auc_samples: 0.1818\n",
      "loss: 0.0063\n",
      "\n"
     ]
    },
    {
     "data": {
      "application/json": {
       "ascii": false,
       "bar_format": null,
       "colour": null,
       "elapsed": 0.0018548965454101562,
       "initial": 0,
       "n": 0,
       "ncols": null,
       "nrows": 16,
       "postfix": null,
       "prefix": "Epoch 2 / 20",
       "rate": null,
       "total": 489,
       "unit": "it",
       "unit_divisor": 1000,
       "unit_scale": false
      },
      "application/vnd.jupyter.widget-view+json": {
       "model_id": "b55b80fb1dc543039fc30de0cf7d9b5d",
       "version_major": 2,
       "version_minor": 0
      },
      "text/plain": [
       "Epoch 2 / 20:   0%|          | 0/489 [00:00<?, ?it/s]"
      ]
     },
     "metadata": {},
     "output_type": "display_data"
    },
    {
     "name": "stdout",
     "output_type": "stream",
     "text": [
      "--- Train epoch-2, step-1467 ---\n",
      "loss: 0.0063\n"
     ]
    },
    {
     "name": "stderr",
     "output_type": "stream",
     "text": [
      "Evaluation: 100%|█████████████████████████████████████████████████████████████████████████████████████████████████████████████████████| 60/60 [00:01<00:00, 34.71it/s]\n"
     ]
    },
    {
     "name": "stdout",
     "output_type": "stream",
     "text": [
      "--- Eval epoch-2, step-1467 ---\n",
      "pr_auc_samples: 0.1848\n",
      "loss: 0.0062\n",
      "\n"
     ]
    },
    {
     "data": {
      "application/json": {
       "ascii": false,
       "bar_format": null,
       "colour": null,
       "elapsed": 0.0016341209411621094,
       "initial": 0,
       "n": 0,
       "ncols": null,
       "nrows": 16,
       "postfix": null,
       "prefix": "Epoch 3 / 20",
       "rate": null,
       "total": 489,
       "unit": "it",
       "unit_divisor": 1000,
       "unit_scale": false
      },
      "application/vnd.jupyter.widget-view+json": {
       "model_id": "902bb908dbe140b78367a00b2d03721f",
       "version_major": 2,
       "version_minor": 0
      },
      "text/plain": [
       "Epoch 3 / 20:   0%|          | 0/489 [00:00<?, ?it/s]"
      ]
     },
     "metadata": {},
     "output_type": "display_data"
    },
    {
     "name": "stdout",
     "output_type": "stream",
     "text": [
      "--- Train epoch-3, step-1956 ---\n",
      "loss: 0.0059\n"
     ]
    },
    {
     "name": "stderr",
     "output_type": "stream",
     "text": [
      "Evaluation: 100%|█████████████████████████████████████████████████████████████████████████████████████████████████████████████████████| 60/60 [00:01<00:00, 35.76it/s]\n"
     ]
    },
    {
     "name": "stdout",
     "output_type": "stream",
     "text": [
      "--- Eval epoch-3, step-1956 ---\n",
      "pr_auc_samples: 0.1881\n",
      "loss: 0.0061\n",
      "\n"
     ]
    },
    {
     "data": {
      "application/json": {
       "ascii": false,
       "bar_format": null,
       "colour": null,
       "elapsed": 0.0014777183532714844,
       "initial": 0,
       "n": 0,
       "ncols": null,
       "nrows": 16,
       "postfix": null,
       "prefix": "Epoch 4 / 20",
       "rate": null,
       "total": 489,
       "unit": "it",
       "unit_divisor": 1000,
       "unit_scale": false
      },
      "application/vnd.jupyter.widget-view+json": {
       "model_id": "72d4ab3265ca4ff3af9c6cdab45040ea",
       "version_major": 2,
       "version_minor": 0
      },
      "text/plain": [
       "Epoch 4 / 20:   0%|          | 0/489 [00:00<?, ?it/s]"
      ]
     },
     "metadata": {},
     "output_type": "display_data"
    },
    {
     "name": "stdout",
     "output_type": "stream",
     "text": [
      "--- Train epoch-4, step-2445 ---\n",
      "loss: 0.0057\n"
     ]
    },
    {
     "name": "stderr",
     "output_type": "stream",
     "text": [
      "Evaluation: 100%|█████████████████████████████████████████████████████████████████████████████████████████████████████████████████████| 60/60 [00:01<00:00, 35.16it/s]\n"
     ]
    },
    {
     "name": "stdout",
     "output_type": "stream",
     "text": [
      "--- Eval epoch-4, step-2445 ---\n",
      "pr_auc_samples: 0.1875\n",
      "loss: 0.0062\n",
      "\n"
     ]
    },
    {
     "data": {
      "application/json": {
       "ascii": false,
       "bar_format": null,
       "colour": null,
       "elapsed": 0.0016169548034667969,
       "initial": 0,
       "n": 0,
       "ncols": null,
       "nrows": 16,
       "postfix": null,
       "prefix": "Epoch 5 / 20",
       "rate": null,
       "total": 489,
       "unit": "it",
       "unit_divisor": 1000,
       "unit_scale": false
      },
      "application/vnd.jupyter.widget-view+json": {
       "model_id": "6c891b37213c40d9a23b25977ba818ef",
       "version_major": 2,
       "version_minor": 0
      },
      "text/plain": [
       "Epoch 5 / 20:   0%|          | 0/489 [00:00<?, ?it/s]"
      ]
     },
     "metadata": {},
     "output_type": "display_data"
    },
    {
     "name": "stdout",
     "output_type": "stream",
     "text": [
      "--- Train epoch-5, step-2934 ---\n",
      "loss: 0.0056\n"
     ]
    },
    {
     "name": "stderr",
     "output_type": "stream",
     "text": [
      "Evaluation: 100%|█████████████████████████████████████████████████████████████████████████████████████████████████████████████████████| 60/60 [00:01<00:00, 35.26it/s]\n"
     ]
    },
    {
     "name": "stdout",
     "output_type": "stream",
     "text": [
      "--- Eval epoch-5, step-2934 ---\n",
      "pr_auc_samples: 0.1899\n",
      "loss: 0.0061\n",
      "\n"
     ]
    },
    {
     "data": {
      "application/json": {
       "ascii": false,
       "bar_format": null,
       "colour": null,
       "elapsed": 0.001669168472290039,
       "initial": 0,
       "n": 0,
       "ncols": null,
       "nrows": 16,
       "postfix": null,
       "prefix": "Epoch 6 / 20",
       "rate": null,
       "total": 489,
       "unit": "it",
       "unit_divisor": 1000,
       "unit_scale": false
      },
      "application/vnd.jupyter.widget-view+json": {
       "model_id": "1039388885174c52aa5a96e27d228b73",
       "version_major": 2,
       "version_minor": 0
      },
      "text/plain": [
       "Epoch 6 / 20:   0%|          | 0/489 [00:00<?, ?it/s]"
      ]
     },
     "metadata": {},
     "output_type": "display_data"
    },
    {
     "name": "stdout",
     "output_type": "stream",
     "text": [
      "--- Train epoch-6, step-3423 ---\n",
      "loss: 0.0055\n"
     ]
    },
    {
     "name": "stderr",
     "output_type": "stream",
     "text": [
      "Evaluation: 100%|█████████████████████████████████████████████████████████████████████████████████████████████████████████████████████| 60/60 [00:01<00:00, 35.78it/s]\n"
     ]
    },
    {
     "name": "stdout",
     "output_type": "stream",
     "text": [
      "--- Eval epoch-6, step-3423 ---\n",
      "pr_auc_samples: 0.1940\n",
      "loss: 0.0060\n",
      "\n"
     ]
    },
    {
     "data": {
      "application/json": {
       "ascii": false,
       "bar_format": null,
       "colour": null,
       "elapsed": 0.001817941665649414,
       "initial": 0,
       "n": 0,
       "ncols": null,
       "nrows": 16,
       "postfix": null,
       "prefix": "Epoch 7 / 20",
       "rate": null,
       "total": 489,
       "unit": "it",
       "unit_divisor": 1000,
       "unit_scale": false
      },
      "application/vnd.jupyter.widget-view+json": {
       "model_id": "d34dc315b7154d01955d86236e21a56e",
       "version_major": 2,
       "version_minor": 0
      },
      "text/plain": [
       "Epoch 7 / 20:   0%|          | 0/489 [00:00<?, ?it/s]"
      ]
     },
     "metadata": {},
     "output_type": "display_data"
    },
    {
     "name": "stdout",
     "output_type": "stream",
     "text": [
      "--- Train epoch-7, step-3912 ---\n",
      "loss: 0.0054\n"
     ]
    },
    {
     "name": "stderr",
     "output_type": "stream",
     "text": [
      "Evaluation: 100%|█████████████████████████████████████████████████████████████████████████████████████████████████████████████████████| 60/60 [00:01<00:00, 36.20it/s]\n"
     ]
    },
    {
     "name": "stdout",
     "output_type": "stream",
     "text": [
      "--- Eval epoch-7, step-3912 ---\n",
      "pr_auc_samples: 0.1949\n",
      "loss: 0.0060\n",
      "\n"
     ]
    },
    {
     "data": {
      "application/json": {
       "ascii": false,
       "bar_format": null,
       "colour": null,
       "elapsed": 0.0014503002166748047,
       "initial": 0,
       "n": 0,
       "ncols": null,
       "nrows": 16,
       "postfix": null,
       "prefix": "Epoch 8 / 20",
       "rate": null,
       "total": 489,
       "unit": "it",
       "unit_divisor": 1000,
       "unit_scale": false
      },
      "application/vnd.jupyter.widget-view+json": {
       "model_id": "626dbc640aef4039aba17a51a717a006",
       "version_major": 2,
       "version_minor": 0
      },
      "text/plain": [
       "Epoch 8 / 20:   0%|          | 0/489 [00:00<?, ?it/s]"
      ]
     },
     "metadata": {},
     "output_type": "display_data"
    },
    {
     "name": "stdout",
     "output_type": "stream",
     "text": [
      "--- Train epoch-8, step-4401 ---\n",
      "loss: 0.0054\n"
     ]
    },
    {
     "name": "stderr",
     "output_type": "stream",
     "text": [
      "Evaluation: 100%|█████████████████████████████████████████████████████████████████████████████████████████████████████████████████████| 60/60 [00:01<00:00, 35.72it/s]\n"
     ]
    },
    {
     "name": "stdout",
     "output_type": "stream",
     "text": [
      "--- Eval epoch-8, step-4401 ---\n",
      "pr_auc_samples: 0.1960\n",
      "loss: 0.0061\n",
      "\n"
     ]
    },
    {
     "data": {
      "application/json": {
       "ascii": false,
       "bar_format": null,
       "colour": null,
       "elapsed": 0.0015301704406738281,
       "initial": 0,
       "n": 0,
       "ncols": null,
       "nrows": 16,
       "postfix": null,
       "prefix": "Epoch 9 / 20",
       "rate": null,
       "total": 489,
       "unit": "it",
       "unit_divisor": 1000,
       "unit_scale": false
      },
      "application/vnd.jupyter.widget-view+json": {
       "model_id": "8d0a1dc2fa0644228157a66d5a830fc5",
       "version_major": 2,
       "version_minor": 0
      },
      "text/plain": [
       "Epoch 9 / 20:   0%|          | 0/489 [00:00<?, ?it/s]"
      ]
     },
     "metadata": {},
     "output_type": "display_data"
    },
    {
     "name": "stdout",
     "output_type": "stream",
     "text": [
      "--- Train epoch-9, step-4890 ---\n",
      "loss: 0.0054\n"
     ]
    },
    {
     "name": "stderr",
     "output_type": "stream",
     "text": [
      "Evaluation: 100%|█████████████████████████████████████████████████████████████████████████████████████████████████████████████████████| 60/60 [00:01<00:00, 36.28it/s]\n"
     ]
    },
    {
     "name": "stdout",
     "output_type": "stream",
     "text": [
      "--- Eval epoch-9, step-4890 ---\n",
      "pr_auc_samples: 0.1955\n",
      "loss: 0.0061\n",
      "\n"
     ]
    },
    {
     "data": {
      "application/json": {
       "ascii": false,
       "bar_format": null,
       "colour": null,
       "elapsed": 0.0014770030975341797,
       "initial": 0,
       "n": 0,
       "ncols": null,
       "nrows": 16,
       "postfix": null,
       "prefix": "Epoch 10 / 20",
       "rate": null,
       "total": 489,
       "unit": "it",
       "unit_divisor": 1000,
       "unit_scale": false
      },
      "application/vnd.jupyter.widget-view+json": {
       "model_id": "4ca25a75ba39432788008f0c25182e98",
       "version_major": 2,
       "version_minor": 0
      },
      "text/plain": [
       "Epoch 10 / 20:   0%|          | 0/489 [00:00<?, ?it/s]"
      ]
     },
     "metadata": {},
     "output_type": "display_data"
    },
    {
     "name": "stdout",
     "output_type": "stream",
     "text": [
      "--- Train epoch-10, step-5379 ---\n",
      "loss: 0.0053\n"
     ]
    },
    {
     "name": "stderr",
     "output_type": "stream",
     "text": [
      "Evaluation: 100%|█████████████████████████████████████████████████████████████████████████████████████████████████████████████████████| 60/60 [00:01<00:00, 35.82it/s]\n"
     ]
    },
    {
     "name": "stdout",
     "output_type": "stream",
     "text": [
      "--- Eval epoch-10, step-5379 ---\n",
      "pr_auc_samples: 0.1959\n",
      "loss: 0.0061\n",
      "\n"
     ]
    },
    {
     "data": {
      "application/json": {
       "ascii": false,
       "bar_format": null,
       "colour": null,
       "elapsed": 0.001405954360961914,
       "initial": 0,
       "n": 0,
       "ncols": null,
       "nrows": 16,
       "postfix": null,
       "prefix": "Epoch 11 / 20",
       "rate": null,
       "total": 489,
       "unit": "it",
       "unit_divisor": 1000,
       "unit_scale": false
      },
      "application/vnd.jupyter.widget-view+json": {
       "model_id": "096de5282f274db68b245eedd1a80f1d",
       "version_major": 2,
       "version_minor": 0
      },
      "text/plain": [
       "Epoch 11 / 20:   0%|          | 0/489 [00:00<?, ?it/s]"
      ]
     },
     "metadata": {},
     "output_type": "display_data"
    },
    {
     "name": "stdout",
     "output_type": "stream",
     "text": [
      "--- Train epoch-11, step-5868 ---\n",
      "loss: 0.0053\n"
     ]
    },
    {
     "name": "stderr",
     "output_type": "stream",
     "text": [
      "Evaluation: 100%|█████████████████████████████████████████████████████████████████████████████████████████████████████████████████████| 60/60 [00:01<00:00, 35.47it/s]\n"
     ]
    },
    {
     "name": "stdout",
     "output_type": "stream",
     "text": [
      "--- Eval epoch-11, step-5868 ---\n",
      "pr_auc_samples: 0.1982\n",
      "loss: 0.0061\n",
      "\n"
     ]
    },
    {
     "data": {
      "application/json": {
       "ascii": false,
       "bar_format": null,
       "colour": null,
       "elapsed": 0.0016450881958007812,
       "initial": 0,
       "n": 0,
       "ncols": null,
       "nrows": 16,
       "postfix": null,
       "prefix": "Epoch 12 / 20",
       "rate": null,
       "total": 489,
       "unit": "it",
       "unit_divisor": 1000,
       "unit_scale": false
      },
      "application/vnd.jupyter.widget-view+json": {
       "model_id": "34ffca7c1f8048acab4e8ab68bd883ce",
       "version_major": 2,
       "version_minor": 0
      },
      "text/plain": [
       "Epoch 12 / 20:   0%|          | 0/489 [00:00<?, ?it/s]"
      ]
     },
     "metadata": {},
     "output_type": "display_data"
    },
    {
     "name": "stdout",
     "output_type": "stream",
     "text": [
      "--- Train epoch-12, step-6357 ---\n",
      "loss: 0.0052\n"
     ]
    },
    {
     "name": "stderr",
     "output_type": "stream",
     "text": [
      "Evaluation: 100%|█████████████████████████████████████████████████████████████████████████████████████████████████████████████████████| 60/60 [00:01<00:00, 36.21it/s]\n"
     ]
    },
    {
     "name": "stdout",
     "output_type": "stream",
     "text": [
      "--- Eval epoch-12, step-6357 ---\n",
      "pr_auc_samples: 0.1991\n",
      "loss: 0.0062\n",
      "\n"
     ]
    },
    {
     "data": {
      "application/json": {
       "ascii": false,
       "bar_format": null,
       "colour": null,
       "elapsed": 0.0016148090362548828,
       "initial": 0,
       "n": 0,
       "ncols": null,
       "nrows": 16,
       "postfix": null,
       "prefix": "Epoch 13 / 20",
       "rate": null,
       "total": 489,
       "unit": "it",
       "unit_divisor": 1000,
       "unit_scale": false
      },
      "application/vnd.jupyter.widget-view+json": {
       "model_id": "1d0278f6dd1c442bb816942770ea5e75",
       "version_major": 2,
       "version_minor": 0
      },
      "text/plain": [
       "Epoch 13 / 20:   0%|          | 0/489 [00:00<?, ?it/s]"
      ]
     },
     "metadata": {},
     "output_type": "display_data"
    },
    {
     "name": "stdout",
     "output_type": "stream",
     "text": [
      "--- Train epoch-13, step-6846 ---\n",
      "loss: 0.0052\n"
     ]
    },
    {
     "name": "stderr",
     "output_type": "stream",
     "text": [
      "Evaluation: 100%|█████████████████████████████████████████████████████████████████████████████████████████████████████████████████████| 60/60 [00:01<00:00, 35.38it/s]\n"
     ]
    },
    {
     "name": "stdout",
     "output_type": "stream",
     "text": [
      "--- Eval epoch-13, step-6846 ---\n",
      "pr_auc_samples: 0.2011\n",
      "loss: 0.0061\n",
      "\n"
     ]
    },
    {
     "data": {
      "application/json": {
       "ascii": false,
       "bar_format": null,
       "colour": null,
       "elapsed": 0.0016398429870605469,
       "initial": 0,
       "n": 0,
       "ncols": null,
       "nrows": 16,
       "postfix": null,
       "prefix": "Epoch 14 / 20",
       "rate": null,
       "total": 489,
       "unit": "it",
       "unit_divisor": 1000,
       "unit_scale": false
      },
      "application/vnd.jupyter.widget-view+json": {
       "model_id": "e6b58e225f734161812ea3c7002dbe78",
       "version_major": 2,
       "version_minor": 0
      },
      "text/plain": [
       "Epoch 14 / 20:   0%|          | 0/489 [00:00<?, ?it/s]"
      ]
     },
     "metadata": {},
     "output_type": "display_data"
    },
    {
     "name": "stdout",
     "output_type": "stream",
     "text": [
      "--- Train epoch-14, step-7335 ---\n",
      "loss: 0.0052\n"
     ]
    },
    {
     "name": "stderr",
     "output_type": "stream",
     "text": [
      "Evaluation: 100%|█████████████████████████████████████████████████████████████████████████████████████████████████████████████████████| 60/60 [00:01<00:00, 35.97it/s]\n"
     ]
    },
    {
     "name": "stdout",
     "output_type": "stream",
     "text": [
      "--- Eval epoch-14, step-7335 ---\n",
      "pr_auc_samples: 0.2000\n",
      "loss: 0.0063\n",
      "\n"
     ]
    },
    {
     "data": {
      "application/json": {
       "ascii": false,
       "bar_format": null,
       "colour": null,
       "elapsed": 0.0016560554504394531,
       "initial": 0,
       "n": 0,
       "ncols": null,
       "nrows": 16,
       "postfix": null,
       "prefix": "Epoch 15 / 20",
       "rate": null,
       "total": 489,
       "unit": "it",
       "unit_divisor": 1000,
       "unit_scale": false
      },
      "application/vnd.jupyter.widget-view+json": {
       "model_id": "856d86958fe14c0bb1af306de3866d46",
       "version_major": 2,
       "version_minor": 0
      },
      "text/plain": [
       "Epoch 15 / 20:   0%|          | 0/489 [00:00<?, ?it/s]"
      ]
     },
     "metadata": {},
     "output_type": "display_data"
    },
    {
     "name": "stdout",
     "output_type": "stream",
     "text": [
      "--- Train epoch-15, step-7824 ---\n",
      "loss: 0.0051\n"
     ]
    },
    {
     "name": "stderr",
     "output_type": "stream",
     "text": [
      "Evaluation: 100%|█████████████████████████████████████████████████████████████████████████████████████████████████████████████████████| 60/60 [00:01<00:00, 35.37it/s]\n"
     ]
    },
    {
     "name": "stdout",
     "output_type": "stream",
     "text": [
      "--- Eval epoch-15, step-7824 ---\n",
      "pr_auc_samples: 0.2027\n",
      "loss: 0.0062\n",
      "\n"
     ]
    },
    {
     "data": {
      "application/json": {
       "ascii": false,
       "bar_format": null,
       "colour": null,
       "elapsed": 0.0016551017761230469,
       "initial": 0,
       "n": 0,
       "ncols": null,
       "nrows": 16,
       "postfix": null,
       "prefix": "Epoch 16 / 20",
       "rate": null,
       "total": 489,
       "unit": "it",
       "unit_divisor": 1000,
       "unit_scale": false
      },
      "application/vnd.jupyter.widget-view+json": {
       "model_id": "4d65e9bb1ed24785ba351663889af453",
       "version_major": 2,
       "version_minor": 0
      },
      "text/plain": [
       "Epoch 16 / 20:   0%|          | 0/489 [00:00<?, ?it/s]"
      ]
     },
     "metadata": {},
     "output_type": "display_data"
    },
    {
     "name": "stdout",
     "output_type": "stream",
     "text": [
      "--- Train epoch-16, step-8313 ---\n",
      "loss: 0.0051\n"
     ]
    },
    {
     "name": "stderr",
     "output_type": "stream",
     "text": [
      "Evaluation: 100%|█████████████████████████████████████████████████████████████████████████████████████████████████████████████████████| 60/60 [00:01<00:00, 35.83it/s]\n"
     ]
    },
    {
     "name": "stdout",
     "output_type": "stream",
     "text": [
      "--- Eval epoch-16, step-8313 ---\n",
      "pr_auc_samples: 0.1994\n",
      "loss: 0.0064\n",
      "\n"
     ]
    },
    {
     "data": {
      "application/json": {
       "ascii": false,
       "bar_format": null,
       "colour": null,
       "elapsed": 0.001435995101928711,
       "initial": 0,
       "n": 0,
       "ncols": null,
       "nrows": 16,
       "postfix": null,
       "prefix": "Epoch 17 / 20",
       "rate": null,
       "total": 489,
       "unit": "it",
       "unit_divisor": 1000,
       "unit_scale": false
      },
      "application/vnd.jupyter.widget-view+json": {
       "model_id": "7ed3bdf98635401cb3dade6ffc3d213c",
       "version_major": 2,
       "version_minor": 0
      },
      "text/plain": [
       "Epoch 17 / 20:   0%|          | 0/489 [00:00<?, ?it/s]"
      ]
     },
     "metadata": {},
     "output_type": "display_data"
    },
    {
     "name": "stdout",
     "output_type": "stream",
     "text": [
      "--- Train epoch-17, step-8802 ---\n",
      "loss: 0.0051\n"
     ]
    },
    {
     "name": "stderr",
     "output_type": "stream",
     "text": [
      "Evaluation: 100%|█████████████████████████████████████████████████████████████████████████████████████████████████████████████████████| 60/60 [00:01<00:00, 36.11it/s]\n"
     ]
    },
    {
     "name": "stdout",
     "output_type": "stream",
     "text": [
      "--- Eval epoch-17, step-8802 ---\n",
      "pr_auc_samples: 0.2041\n",
      "loss: 0.0063\n",
      "\n"
     ]
    },
    {
     "data": {
      "application/json": {
       "ascii": false,
       "bar_format": null,
       "colour": null,
       "elapsed": 0.00150299072265625,
       "initial": 0,
       "n": 0,
       "ncols": null,
       "nrows": 16,
       "postfix": null,
       "prefix": "Epoch 18 / 20",
       "rate": null,
       "total": 489,
       "unit": "it",
       "unit_divisor": 1000,
       "unit_scale": false
      },
      "application/vnd.jupyter.widget-view+json": {
       "model_id": "c4edf23d44944d1ca7b3d99faf1537e5",
       "version_major": 2,
       "version_minor": 0
      },
      "text/plain": [
       "Epoch 18 / 20:   0%|          | 0/489 [00:00<?, ?it/s]"
      ]
     },
     "metadata": {},
     "output_type": "display_data"
    },
    {
     "name": "stdout",
     "output_type": "stream",
     "text": [
      "--- Train epoch-18, step-9291 ---\n",
      "loss: 0.0050\n"
     ]
    },
    {
     "name": "stderr",
     "output_type": "stream",
     "text": [
      "Evaluation: 100%|█████████████████████████████████████████████████████████████████████████████████████████████████████████████████████| 60/60 [00:01<00:00, 35.62it/s]\n"
     ]
    },
    {
     "name": "stdout",
     "output_type": "stream",
     "text": [
      "--- Eval epoch-18, step-9291 ---\n",
      "pr_auc_samples: 0.2047\n",
      "loss: 0.0063\n",
      "\n"
     ]
    },
    {
     "data": {
      "application/json": {
       "ascii": false,
       "bar_format": null,
       "colour": null,
       "elapsed": 0.001566171646118164,
       "initial": 0,
       "n": 0,
       "ncols": null,
       "nrows": 16,
       "postfix": null,
       "prefix": "Epoch 19 / 20",
       "rate": null,
       "total": 489,
       "unit": "it",
       "unit_divisor": 1000,
       "unit_scale": false
      },
      "application/vnd.jupyter.widget-view+json": {
       "model_id": "32ff4551c28f409699e1867070d3d3cb",
       "version_major": 2,
       "version_minor": 0
      },
      "text/plain": [
       "Epoch 19 / 20:   0%|          | 0/489 [00:00<?, ?it/s]"
      ]
     },
     "metadata": {},
     "output_type": "display_data"
    },
    {
     "name": "stdout",
     "output_type": "stream",
     "text": [
      "--- Train epoch-19, step-9780 ---\n",
      "loss: 0.0050\n"
     ]
    },
    {
     "name": "stderr",
     "output_type": "stream",
     "text": [
      "Evaluation: 100%|█████████████████████████████████████████████████████████████████████████████████████████████████████████████████████| 60/60 [00:01<00:00, 35.54it/s]\n"
     ]
    },
    {
     "name": "stdout",
     "output_type": "stream",
     "text": [
      "--- Eval epoch-19, step-9780 ---\n",
      "pr_auc_samples: 0.2025\n",
      "loss: 0.0063\n",
      "Loaded best model\n"
     ]
    }
   ],
   "source": [
    "trainer = Trainer(\n",
    "    model = model,\n",
    "    device = \"cpu\",\n",
    "    exp_name = \"diagnosis_recommendation\"\n",
    ")\n",
    "\n",
    "trainer.train(\n",
    "    train_dataloader = train_loader,\n",
    "    val_dataloader = val_loader,\n",
    "    #epochs = 5,\n",
    "    epochs = 20,\n",
    "    monitor_criterion = \"max\"\n",
    ")"
   ]
  },
  {
   "cell_type": "markdown",
   "metadata": {},
   "source": [
    "#### Model 2 - Training"
   ]
  },
  {
   "cell_type": "code",
   "execution_count": 22,
   "metadata": {},
   "outputs": [
    {
     "name": "stdout",
     "output_type": "stream",
     "text": [
      "Transformer(\n",
      "  (embeddings): ModuleDict(\n",
      "    (condition_hist): Embedding(12991, 128, padding_idx=0)\n",
      "  )\n",
      "  (linear_layers): ModuleDict()\n",
      "  (transformer): ModuleDict(\n",
      "    (condition_hist): TransformerLayer(\n",
      "      (transformer): ModuleList(\n",
      "        (0): TransformerBlock(\n",
      "          (attention): MultiHeadedAttention(\n",
      "            (linear_layers): ModuleList(\n",
      "              (0-2): 3 x Linear(in_features=128, out_features=128, bias=False)\n",
      "            )\n",
      "            (output_linear): Linear(in_features=128, out_features=128, bias=False)\n",
      "            (attention): Attention()\n",
      "            (dropout): Dropout(p=0.1, inplace=False)\n",
      "          )\n",
      "          (feed_forward): PositionwiseFeedForward(\n",
      "            (w_1): Linear(in_features=128, out_features=512, bias=True)\n",
      "            (w_2): Linear(in_features=512, out_features=128, bias=True)\n",
      "            (dropout): Dropout(p=0.5, inplace=False)\n",
      "            (activation): GELU(approximate='none')\n",
      "          )\n",
      "          (input_sublayer): SublayerConnection(\n",
      "            (norm): LayerNorm((128,), eps=1e-05, elementwise_affine=True)\n",
      "            (dropout): Dropout(p=0.5, inplace=False)\n",
      "          )\n",
      "          (output_sublayer): SublayerConnection(\n",
      "            (norm): LayerNorm((128,), eps=1e-05, elementwise_affine=True)\n",
      "            (dropout): Dropout(p=0.5, inplace=False)\n",
      "          )\n",
      "          (dropout): Dropout(p=0.5, inplace=False)\n",
      "        )\n",
      "      )\n",
      "    )\n",
      "  )\n",
      "  (fc): Linear(in_features=128, out_features=13018, bias=True)\n",
      ")\n",
      "Metrics: None\n",
      "Device: cpu\n",
      "\n",
      "Training:\n",
      "Batch size: 64\n",
      "Optimizer: <class 'torch.optim.adam.Adam'>\n",
      "Optimizer params: {'lr': 0.001}\n",
      "Weight decay: 0.0\n",
      "Max grad norm: None\n",
      "Val dataloader: <torch.utils.data.dataloader.DataLoader object at 0x37a7fd1f0>\n",
      "Monitor: None\n",
      "Monitor criterion: max\n",
      "Epochs: 20\n",
      "\n"
     ]
    },
    {
     "data": {
      "application/json": {
       "ascii": false,
       "bar_format": null,
       "colour": null,
       "elapsed": 0.0015780925750732422,
       "initial": 0,
       "n": 0,
       "ncols": null,
       "nrows": 16,
       "postfix": null,
       "prefix": "Epoch 0 / 20",
       "rate": null,
       "total": 1294,
       "unit": "it",
       "unit_divisor": 1000,
       "unit_scale": false
      },
      "application/vnd.jupyter.widget-view+json": {
       "model_id": "8671f8ab11324c469a793918938280c8",
       "version_major": 2,
       "version_minor": 0
      },
      "text/plain": [
       "Epoch 0 / 20:   0%|          | 0/1294 [00:00<?, ?it/s]"
      ]
     },
     "metadata": {},
     "output_type": "display_data"
    },
    {
     "name": "stdout",
     "output_type": "stream",
     "text": [
      "--- Train epoch-0, step-1294 ---\n",
      "loss: 0.1614\n"
     ]
    },
    {
     "name": "stderr",
     "output_type": "stream",
     "text": [
      "Evaluation: 100%|██████████████████████████████████████████████████████████████████████████████████████████████████████████████████| 161/161 [00:01<00:00, 112.48it/s]\n"
     ]
    },
    {
     "name": "stdout",
     "output_type": "stream",
     "text": [
      "--- Eval epoch-0, step-1294 ---\n",
      "pr_auc_samples: 0.1616\n",
      "loss: 0.0987\n",
      "\n"
     ]
    },
    {
     "data": {
      "application/json": {
       "ascii": false,
       "bar_format": null,
       "colour": null,
       "elapsed": 0.002925872802734375,
       "initial": 0,
       "n": 0,
       "ncols": null,
       "nrows": 16,
       "postfix": null,
       "prefix": "Epoch 1 / 20",
       "rate": null,
       "total": 1294,
       "unit": "it",
       "unit_divisor": 1000,
       "unit_scale": false
      },
      "application/vnd.jupyter.widget-view+json": {
       "model_id": "79ca9e0513b34768b0f92f2f7db6fa65",
       "version_major": 2,
       "version_minor": 0
      },
      "text/plain": [
       "Epoch 1 / 20:   0%|          | 0/1294 [00:00<?, ?it/s]"
      ]
     },
     "metadata": {},
     "output_type": "display_data"
    },
    {
     "name": "stdout",
     "output_type": "stream",
     "text": [
      "--- Train epoch-1, step-2588 ---\n",
      "loss: 0.0705\n"
     ]
    },
    {
     "name": "stderr",
     "output_type": "stream",
     "text": [
      "Evaluation: 100%|██████████████████████████████████████████████████████████████████████████████████████████████████████████████████| 161/161 [00:01<00:00, 105.86it/s]\n"
     ]
    },
    {
     "name": "stdout",
     "output_type": "stream",
     "text": [
      "--- Eval epoch-1, step-2588 ---\n",
      "pr_auc_samples: 0.1718\n",
      "loss: 0.0495\n",
      "\n"
     ]
    },
    {
     "data": {
      "application/json": {
       "ascii": false,
       "bar_format": null,
       "colour": null,
       "elapsed": 0.0020020008087158203,
       "initial": 0,
       "n": 0,
       "ncols": null,
       "nrows": 16,
       "postfix": null,
       "prefix": "Epoch 2 / 20",
       "rate": null,
       "total": 1294,
       "unit": "it",
       "unit_divisor": 1000,
       "unit_scale": false
      },
      "application/vnd.jupyter.widget-view+json": {
       "model_id": "f1eacb9d876a45a88760bd27f72ef407",
       "version_major": 2,
       "version_minor": 0
      },
      "text/plain": [
       "Epoch 2 / 20:   0%|          | 0/1294 [00:00<?, ?it/s]"
      ]
     },
     "metadata": {},
     "output_type": "display_data"
    },
    {
     "name": "stdout",
     "output_type": "stream",
     "text": [
      "--- Train epoch-2, step-3882 ---\n",
      "loss: 0.0372\n"
     ]
    },
    {
     "name": "stderr",
     "output_type": "stream",
     "text": [
      "Evaluation: 100%|██████████████████████████████████████████████████████████████████████████████████████████████████████████████████| 161/161 [00:01<00:00, 110.11it/s]\n"
     ]
    },
    {
     "name": "stdout",
     "output_type": "stream",
     "text": [
      "--- Eval epoch-2, step-3882 ---\n",
      "pr_auc_samples: 0.1796\n",
      "loss: 0.0276\n",
      "\n"
     ]
    },
    {
     "data": {
      "application/json": {
       "ascii": false,
       "bar_format": null,
       "colour": null,
       "elapsed": 0.0015358924865722656,
       "initial": 0,
       "n": 0,
       "ncols": null,
       "nrows": 16,
       "postfix": null,
       "prefix": "Epoch 3 / 20",
       "rate": null,
       "total": 1294,
       "unit": "it",
       "unit_divisor": 1000,
       "unit_scale": false
      },
      "application/vnd.jupyter.widget-view+json": {
       "model_id": "9fbea72aea344105852bfee550ad26b6",
       "version_major": 2,
       "version_minor": 0
      },
      "text/plain": [
       "Epoch 3 / 20:   0%|          | 0/1294 [00:00<?, ?it/s]"
      ]
     },
     "metadata": {},
     "output_type": "display_data"
    },
    {
     "name": "stdout",
     "output_type": "stream",
     "text": [
      "--- Train epoch-3, step-5176 ---\n",
      "loss: 0.0216\n"
     ]
    },
    {
     "name": "stderr",
     "output_type": "stream",
     "text": [
      "Evaluation: 100%|██████████████████████████████████████████████████████████████████████████████████████████████████████████████████| 161/161 [00:01<00:00, 111.00it/s]\n"
     ]
    },
    {
     "name": "stdout",
     "output_type": "stream",
     "text": [
      "--- Eval epoch-3, step-5176 ---\n",
      "pr_auc_samples: 0.1860\n",
      "loss: 0.0168\n",
      "\n"
     ]
    },
    {
     "data": {
      "application/json": {
       "ascii": false,
       "bar_format": null,
       "colour": null,
       "elapsed": 0.002218008041381836,
       "initial": 0,
       "n": 0,
       "ncols": null,
       "nrows": 16,
       "postfix": null,
       "prefix": "Epoch 4 / 20",
       "rate": null,
       "total": 1294,
       "unit": "it",
       "unit_divisor": 1000,
       "unit_scale": false
      },
      "application/vnd.jupyter.widget-view+json": {
       "model_id": "bce00b1695ea4b6aa0b63feb98a019a9",
       "version_major": 2,
       "version_minor": 0
      },
      "text/plain": [
       "Epoch 4 / 20:   0%|          | 0/1294 [00:00<?, ?it/s]"
      ]
     },
     "metadata": {},
     "output_type": "display_data"
    },
    {
     "name": "stdout",
     "output_type": "stream",
     "text": [
      "--- Train epoch-4, step-6470 ---\n",
      "loss: 0.0137\n"
     ]
    },
    {
     "name": "stderr",
     "output_type": "stream",
     "text": [
      "Evaluation: 100%|██████████████████████████████████████████████████████████████████████████████████████████████████████████████████| 161/161 [00:01<00:00, 110.98it/s]\n"
     ]
    },
    {
     "name": "stdout",
     "output_type": "stream",
     "text": [
      "--- Eval epoch-4, step-6470 ---\n",
      "pr_auc_samples: 0.1893\n",
      "loss: 0.0111\n",
      "\n"
     ]
    },
    {
     "data": {
      "application/json": {
       "ascii": false,
       "bar_format": null,
       "colour": null,
       "elapsed": 0.0017271041870117188,
       "initial": 0,
       "n": 0,
       "ncols": null,
       "nrows": 16,
       "postfix": null,
       "prefix": "Epoch 5 / 20",
       "rate": null,
       "total": 1294,
       "unit": "it",
       "unit_divisor": 1000,
       "unit_scale": false
      },
      "application/vnd.jupyter.widget-view+json": {
       "model_id": "0a614157aa43486195a00799482052e6",
       "version_major": 2,
       "version_minor": 0
      },
      "text/plain": [
       "Epoch 5 / 20:   0%|          | 0/1294 [00:00<?, ?it/s]"
      ]
     },
     "metadata": {},
     "output_type": "display_data"
    },
    {
     "name": "stdout",
     "output_type": "stream",
     "text": [
      "--- Train epoch-5, step-7764 ---\n",
      "loss: 0.0094\n"
     ]
    },
    {
     "name": "stderr",
     "output_type": "stream",
     "text": [
      "Evaluation: 100%|██████████████████████████████████████████████████████████████████████████████████████████████████████████████████| 161/161 [00:01<00:00, 112.80it/s]\n"
     ]
    },
    {
     "name": "stdout",
     "output_type": "stream",
     "text": [
      "--- Eval epoch-5, step-7764 ---\n",
      "pr_auc_samples: 0.1941\n",
      "loss: 0.0080\n",
      "\n"
     ]
    },
    {
     "data": {
      "application/json": {
       "ascii": false,
       "bar_format": null,
       "colour": null,
       "elapsed": 0.0019381046295166016,
       "initial": 0,
       "n": 0,
       "ncols": null,
       "nrows": 16,
       "postfix": null,
       "prefix": "Epoch 6 / 20",
       "rate": null,
       "total": 1294,
       "unit": "it",
       "unit_divisor": 1000,
       "unit_scale": false
      },
      "application/vnd.jupyter.widget-view+json": {
       "model_id": "0d36a45246794004a12c1977a6e6b64d",
       "version_major": 2,
       "version_minor": 0
      },
      "text/plain": [
       "Epoch 6 / 20:   0%|          | 0/1294 [00:00<?, ?it/s]"
      ]
     },
     "metadata": {},
     "output_type": "display_data"
    },
    {
     "name": "stdout",
     "output_type": "stream",
     "text": [
      "--- Train epoch-6, step-9058 ---\n",
      "loss: 0.0070\n"
     ]
    },
    {
     "name": "stderr",
     "output_type": "stream",
     "text": [
      "Evaluation: 100%|██████████████████████████████████████████████████████████████████████████████████████████████████████████████████| 161/161 [00:01<00:00, 106.02it/s]\n"
     ]
    },
    {
     "name": "stdout",
     "output_type": "stream",
     "text": [
      "--- Eval epoch-6, step-9058 ---\n",
      "pr_auc_samples: 0.1992\n",
      "loss: 0.0062\n",
      "\n"
     ]
    },
    {
     "data": {
      "application/json": {
       "ascii": false,
       "bar_format": null,
       "colour": null,
       "elapsed": 0.00286102294921875,
       "initial": 0,
       "n": 0,
       "ncols": null,
       "nrows": 16,
       "postfix": null,
       "prefix": "Epoch 7 / 20",
       "rate": null,
       "total": 1294,
       "unit": "it",
       "unit_divisor": 1000,
       "unit_scale": false
      },
      "application/vnd.jupyter.widget-view+json": {
       "model_id": "2155ba4b6ba445329ca6b887e9cf7e46",
       "version_major": 2,
       "version_minor": 0
      },
      "text/plain": [
       "Epoch 7 / 20:   0%|          | 0/1294 [00:00<?, ?it/s]"
      ]
     },
     "metadata": {},
     "output_type": "display_data"
    },
    {
     "name": "stdout",
     "output_type": "stream",
     "text": [
      "--- Train epoch-7, step-10352 ---\n",
      "loss: 0.0056\n"
     ]
    },
    {
     "name": "stderr",
     "output_type": "stream",
     "text": [
      "Evaluation: 100%|██████████████████████████████████████████████████████████████████████████████████████████████████████████████████| 161/161 [00:01<00:00, 112.06it/s]\n"
     ]
    },
    {
     "name": "stdout",
     "output_type": "stream",
     "text": [
      "--- Eval epoch-7, step-10352 ---\n",
      "pr_auc_samples: 0.2006\n",
      "loss: 0.0052\n",
      "\n"
     ]
    },
    {
     "data": {
      "application/json": {
       "ascii": false,
       "bar_format": null,
       "colour": null,
       "elapsed": 0.0020978450775146484,
       "initial": 0,
       "n": 0,
       "ncols": null,
       "nrows": 16,
       "postfix": null,
       "prefix": "Epoch 8 / 20",
       "rate": null,
       "total": 1294,
       "unit": "it",
       "unit_divisor": 1000,
       "unit_scale": false
      },
      "application/vnd.jupyter.widget-view+json": {
       "model_id": "4b0ea4cb17cf4441b929b314da8bf756",
       "version_major": 2,
       "version_minor": 0
      },
      "text/plain": [
       "Epoch 8 / 20:   0%|          | 0/1294 [00:00<?, ?it/s]"
      ]
     },
     "metadata": {},
     "output_type": "display_data"
    },
    {
     "name": "stdout",
     "output_type": "stream",
     "text": [
      "--- Train epoch-8, step-11646 ---\n",
      "loss: 0.0048\n"
     ]
    },
    {
     "name": "stderr",
     "output_type": "stream",
     "text": [
      "Evaluation: 100%|██████████████████████████████████████████████████████████████████████████████████████████████████████████████████| 161/161 [00:01<00:00, 112.34it/s]\n"
     ]
    },
    {
     "name": "stdout",
     "output_type": "stream",
     "text": [
      "--- Eval epoch-8, step-11646 ---\n",
      "pr_auc_samples: 0.2045\n",
      "loss: 0.0046\n",
      "\n"
     ]
    },
    {
     "data": {
      "application/json": {
       "ascii": false,
       "bar_format": null,
       "colour": null,
       "elapsed": 0.0016951560974121094,
       "initial": 0,
       "n": 0,
       "ncols": null,
       "nrows": 16,
       "postfix": null,
       "prefix": "Epoch 9 / 20",
       "rate": null,
       "total": 1294,
       "unit": "it",
       "unit_divisor": 1000,
       "unit_scale": false
      },
      "application/vnd.jupyter.widget-view+json": {
       "model_id": "93eeb76b5e204721a90eeabdcc03c221",
       "version_major": 2,
       "version_minor": 0
      },
      "text/plain": [
       "Epoch 9 / 20:   0%|          | 0/1294 [00:00<?, ?it/s]"
      ]
     },
     "metadata": {},
     "output_type": "display_data"
    },
    {
     "name": "stdout",
     "output_type": "stream",
     "text": [
      "--- Train epoch-9, step-12940 ---\n",
      "loss: 0.0043\n"
     ]
    },
    {
     "name": "stderr",
     "output_type": "stream",
     "text": [
      "Evaluation: 100%|██████████████████████████████████████████████████████████████████████████████████████████████████████████████████| 161/161 [00:01<00:00, 106.16it/s]\n"
     ]
    },
    {
     "name": "stdout",
     "output_type": "stream",
     "text": [
      "--- Eval epoch-9, step-12940 ---\n",
      "pr_auc_samples: 0.2075\n",
      "loss: 0.0042\n",
      "\n"
     ]
    },
    {
     "data": {
      "application/json": {
       "ascii": false,
       "bar_format": null,
       "colour": null,
       "elapsed": 0.0016140937805175781,
       "initial": 0,
       "n": 0,
       "ncols": null,
       "nrows": 16,
       "postfix": null,
       "prefix": "Epoch 10 / 20",
       "rate": null,
       "total": 1294,
       "unit": "it",
       "unit_divisor": 1000,
       "unit_scale": false
      },
      "application/vnd.jupyter.widget-view+json": {
       "model_id": "6c70f62b133f47a7a936696ab25fc4e6",
       "version_major": 2,
       "version_minor": 0
      },
      "text/plain": [
       "Epoch 10 / 20:   0%|          | 0/1294 [00:00<?, ?it/s]"
      ]
     },
     "metadata": {},
     "output_type": "display_data"
    },
    {
     "name": "stdout",
     "output_type": "stream",
     "text": [
      "--- Train epoch-10, step-14234 ---\n",
      "loss: 0.0041\n"
     ]
    },
    {
     "name": "stderr",
     "output_type": "stream",
     "text": [
      "Evaluation: 100%|██████████████████████████████████████████████████████████████████████████████████████████████████████████████████| 161/161 [00:01<00:00, 111.36it/s]\n"
     ]
    },
    {
     "name": "stdout",
     "output_type": "stream",
     "text": [
      "--- Eval epoch-10, step-14234 ---\n",
      "pr_auc_samples: 0.2088\n",
      "loss: 0.0040\n",
      "\n"
     ]
    },
    {
     "data": {
      "application/json": {
       "ascii": false,
       "bar_format": null,
       "colour": null,
       "elapsed": 0.0022220611572265625,
       "initial": 0,
       "n": 0,
       "ncols": null,
       "nrows": 16,
       "postfix": null,
       "prefix": "Epoch 11 / 20",
       "rate": null,
       "total": 1294,
       "unit": "it",
       "unit_divisor": 1000,
       "unit_scale": false
      },
      "application/vnd.jupyter.widget-view+json": {
       "model_id": "74509dc615a049fcacdbed66b59ca473",
       "version_major": 2,
       "version_minor": 0
      },
      "text/plain": [
       "Epoch 11 / 20:   0%|          | 0/1294 [00:00<?, ?it/s]"
      ]
     },
     "metadata": {},
     "output_type": "display_data"
    },
    {
     "name": "stdout",
     "output_type": "stream",
     "text": [
      "--- Train epoch-11, step-15528 ---\n",
      "loss: 0.0039\n"
     ]
    },
    {
     "name": "stderr",
     "output_type": "stream",
     "text": [
      "Evaluation: 100%|██████████████████████████████████████████████████████████████████████████████████████████████████████████████████| 161/161 [00:01<00:00, 110.89it/s]\n"
     ]
    },
    {
     "name": "stdout",
     "output_type": "stream",
     "text": [
      "--- Eval epoch-11, step-15528 ---\n",
      "pr_auc_samples: 0.2114\n",
      "loss: 0.0039\n",
      "\n"
     ]
    },
    {
     "data": {
      "application/json": {
       "ascii": false,
       "bar_format": null,
       "colour": null,
       "elapsed": 0.0017750263214111328,
       "initial": 0,
       "n": 0,
       "ncols": null,
       "nrows": 16,
       "postfix": null,
       "prefix": "Epoch 12 / 20",
       "rate": null,
       "total": 1294,
       "unit": "it",
       "unit_divisor": 1000,
       "unit_scale": false
      },
      "application/vnd.jupyter.widget-view+json": {
       "model_id": "ad5c81759209481a82407291218bad3f",
       "version_major": 2,
       "version_minor": 0
      },
      "text/plain": [
       "Epoch 12 / 20:   0%|          | 0/1294 [00:00<?, ?it/s]"
      ]
     },
     "metadata": {},
     "output_type": "display_data"
    },
    {
     "name": "stdout",
     "output_type": "stream",
     "text": [
      "--- Train epoch-12, step-16822 ---\n",
      "loss: 0.0038\n"
     ]
    },
    {
     "name": "stderr",
     "output_type": "stream",
     "text": [
      "Evaluation: 100%|██████████████████████████████████████████████████████████████████████████████████████████████████████████████████| 161/161 [00:01<00:00, 115.62it/s]\n"
     ]
    },
    {
     "name": "stdout",
     "output_type": "stream",
     "text": [
      "--- Eval epoch-12, step-16822 ---\n",
      "pr_auc_samples: 0.2116\n",
      "loss: 0.0038\n",
      "\n"
     ]
    },
    {
     "data": {
      "application/json": {
       "ascii": false,
       "bar_format": null,
       "colour": null,
       "elapsed": 0.0019807815551757812,
       "initial": 0,
       "n": 0,
       "ncols": null,
       "nrows": 16,
       "postfix": null,
       "prefix": "Epoch 13 / 20",
       "rate": null,
       "total": 1294,
       "unit": "it",
       "unit_divisor": 1000,
       "unit_scale": false
      },
      "application/vnd.jupyter.widget-view+json": {
       "model_id": "f973a3ba1cc543d29ab53420587df19a",
       "version_major": 2,
       "version_minor": 0
      },
      "text/plain": [
       "Epoch 13 / 20:   0%|          | 0/1294 [00:00<?, ?it/s]"
      ]
     },
     "metadata": {},
     "output_type": "display_data"
    },
    {
     "name": "stdout",
     "output_type": "stream",
     "text": [
      "--- Train epoch-13, step-18116 ---\n",
      "loss: 0.0037\n"
     ]
    },
    {
     "name": "stderr",
     "output_type": "stream",
     "text": [
      "Evaluation: 100%|██████████████████████████████████████████████████████████████████████████████████████████████████████████████████| 161/161 [00:01<00:00, 114.32it/s]\n"
     ]
    },
    {
     "name": "stdout",
     "output_type": "stream",
     "text": [
      "--- Eval epoch-13, step-18116 ---\n",
      "pr_auc_samples: 0.2131\n",
      "loss: 0.0038\n",
      "\n"
     ]
    },
    {
     "data": {
      "application/json": {
       "ascii": false,
       "bar_format": null,
       "colour": null,
       "elapsed": 0.0014438629150390625,
       "initial": 0,
       "n": 0,
       "ncols": null,
       "nrows": 16,
       "postfix": null,
       "prefix": "Epoch 14 / 20",
       "rate": null,
       "total": 1294,
       "unit": "it",
       "unit_divisor": 1000,
       "unit_scale": false
      },
      "application/vnd.jupyter.widget-view+json": {
       "model_id": "0ba562abb2e04df2a7cbc38da10d7b34",
       "version_major": 2,
       "version_minor": 0
      },
      "text/plain": [
       "Epoch 14 / 20:   0%|          | 0/1294 [00:00<?, ?it/s]"
      ]
     },
     "metadata": {},
     "output_type": "display_data"
    },
    {
     "name": "stdout",
     "output_type": "stream",
     "text": [
      "--- Train epoch-14, step-19410 ---\n",
      "loss: 0.0036\n"
     ]
    },
    {
     "name": "stderr",
     "output_type": "stream",
     "text": [
      "Evaluation: 100%|██████████████████████████████████████████████████████████████████████████████████████████████████████████████████| 161/161 [00:01<00:00, 115.68it/s]\n"
     ]
    },
    {
     "name": "stdout",
     "output_type": "stream",
     "text": [
      "--- Eval epoch-14, step-19410 ---\n",
      "pr_auc_samples: 0.2145\n",
      "loss: 0.0037\n",
      "\n"
     ]
    },
    {
     "data": {
      "application/json": {
       "ascii": false,
       "bar_format": null,
       "colour": null,
       "elapsed": 0.0016329288482666016,
       "initial": 0,
       "n": 0,
       "ncols": null,
       "nrows": 16,
       "postfix": null,
       "prefix": "Epoch 15 / 20",
       "rate": null,
       "total": 1294,
       "unit": "it",
       "unit_divisor": 1000,
       "unit_scale": false
      },
      "application/vnd.jupyter.widget-view+json": {
       "model_id": "e03718f0ebee4fbeac1cfd8cacf6f4ea",
       "version_major": 2,
       "version_minor": 0
      },
      "text/plain": [
       "Epoch 15 / 20:   0%|          | 0/1294 [00:00<?, ?it/s]"
      ]
     },
     "metadata": {},
     "output_type": "display_data"
    },
    {
     "name": "stdout",
     "output_type": "stream",
     "text": [
      "--- Train epoch-15, step-20704 ---\n",
      "loss: 0.0036\n"
     ]
    },
    {
     "name": "stderr",
     "output_type": "stream",
     "text": [
      "Evaluation: 100%|██████████████████████████████████████████████████████████████████████████████████████████████████████████████████| 161/161 [00:01<00:00, 114.10it/s]\n"
     ]
    },
    {
     "name": "stdout",
     "output_type": "stream",
     "text": [
      "--- Eval epoch-15, step-20704 ---\n",
      "pr_auc_samples: 0.2145\n",
      "loss: 0.0037\n",
      "\n"
     ]
    },
    {
     "data": {
      "application/json": {
       "ascii": false,
       "bar_format": null,
       "colour": null,
       "elapsed": 0.0015349388122558594,
       "initial": 0,
       "n": 0,
       "ncols": null,
       "nrows": 16,
       "postfix": null,
       "prefix": "Epoch 16 / 20",
       "rate": null,
       "total": 1294,
       "unit": "it",
       "unit_divisor": 1000,
       "unit_scale": false
      },
      "application/vnd.jupyter.widget-view+json": {
       "model_id": "5a20942bbe7a40aa84fd60b580353258",
       "version_major": 2,
       "version_minor": 0
      },
      "text/plain": [
       "Epoch 16 / 20:   0%|          | 0/1294 [00:00<?, ?it/s]"
      ]
     },
     "metadata": {},
     "output_type": "display_data"
    },
    {
     "name": "stdout",
     "output_type": "stream",
     "text": [
      "--- Train epoch-16, step-21998 ---\n",
      "loss: 0.0036\n"
     ]
    },
    {
     "name": "stderr",
     "output_type": "stream",
     "text": [
      "Evaluation: 100%|██████████████████████████████████████████████████████████████████████████████████████████████████████████████████| 161/161 [00:01<00:00, 114.81it/s]\n"
     ]
    },
    {
     "name": "stdout",
     "output_type": "stream",
     "text": [
      "--- Eval epoch-16, step-21998 ---\n",
      "pr_auc_samples: 0.2149\n",
      "loss: 0.0037\n",
      "\n"
     ]
    },
    {
     "data": {
      "application/json": {
       "ascii": false,
       "bar_format": null,
       "colour": null,
       "elapsed": 0.0014870166778564453,
       "initial": 0,
       "n": 0,
       "ncols": null,
       "nrows": 16,
       "postfix": null,
       "prefix": "Epoch 17 / 20",
       "rate": null,
       "total": 1294,
       "unit": "it",
       "unit_divisor": 1000,
       "unit_scale": false
      },
      "application/vnd.jupyter.widget-view+json": {
       "model_id": "e888e2757e454bf68eb53353a4cb9c86",
       "version_major": 2,
       "version_minor": 0
      },
      "text/plain": [
       "Epoch 17 / 20:   0%|          | 0/1294 [00:00<?, ?it/s]"
      ]
     },
     "metadata": {},
     "output_type": "display_data"
    },
    {
     "name": "stdout",
     "output_type": "stream",
     "text": [
      "--- Train epoch-17, step-23292 ---\n",
      "loss: 0.0035\n"
     ]
    },
    {
     "name": "stderr",
     "output_type": "stream",
     "text": [
      "Evaluation: 100%|██████████████████████████████████████████████████████████████████████████████████████████████████████████████████| 161/161 [00:01<00:00, 117.17it/s]\n"
     ]
    },
    {
     "name": "stdout",
     "output_type": "stream",
     "text": [
      "--- Eval epoch-17, step-23292 ---\n",
      "pr_auc_samples: 0.2151\n",
      "loss: 0.0037\n",
      "\n"
     ]
    },
    {
     "data": {
      "application/json": {
       "ascii": false,
       "bar_format": null,
       "colour": null,
       "elapsed": 0.0019888877868652344,
       "initial": 0,
       "n": 0,
       "ncols": null,
       "nrows": 16,
       "postfix": null,
       "prefix": "Epoch 18 / 20",
       "rate": null,
       "total": 1294,
       "unit": "it",
       "unit_divisor": 1000,
       "unit_scale": false
      },
      "application/vnd.jupyter.widget-view+json": {
       "model_id": "d740e23a0a5a4381aee17e0147465935",
       "version_major": 2,
       "version_minor": 0
      },
      "text/plain": [
       "Epoch 18 / 20:   0%|          | 0/1294 [00:00<?, ?it/s]"
      ]
     },
     "metadata": {},
     "output_type": "display_data"
    },
    {
     "name": "stdout",
     "output_type": "stream",
     "text": [
      "--- Train epoch-18, step-24586 ---\n",
      "loss: 0.0035\n"
     ]
    },
    {
     "name": "stderr",
     "output_type": "stream",
     "text": [
      "Evaluation: 100%|██████████████████████████████████████████████████████████████████████████████████████████████████████████████████| 161/161 [00:01<00:00, 116.50it/s]\n"
     ]
    },
    {
     "name": "stdout",
     "output_type": "stream",
     "text": [
      "--- Eval epoch-18, step-24586 ---\n",
      "pr_auc_samples: 0.2173\n",
      "loss: 0.0036\n",
      "\n"
     ]
    },
    {
     "data": {
      "application/json": {
       "ascii": false,
       "bar_format": null,
       "colour": null,
       "elapsed": 0.0015292167663574219,
       "initial": 0,
       "n": 0,
       "ncols": null,
       "nrows": 16,
       "postfix": null,
       "prefix": "Epoch 19 / 20",
       "rate": null,
       "total": 1294,
       "unit": "it",
       "unit_divisor": 1000,
       "unit_scale": false
      },
      "application/vnd.jupyter.widget-view+json": {
       "model_id": "a811648aa8154fcc86f1ab1c59ab9e8b",
       "version_major": 2,
       "version_minor": 0
      },
      "text/plain": [
       "Epoch 19 / 20:   0%|          | 0/1294 [00:00<?, ?it/s]"
      ]
     },
     "metadata": {},
     "output_type": "display_data"
    },
    {
     "name": "stdout",
     "output_type": "stream",
     "text": [
      "--- Train epoch-19, step-25880 ---\n",
      "loss: 0.0035\n"
     ]
    },
    {
     "name": "stderr",
     "output_type": "stream",
     "text": [
      "Evaluation: 100%|██████████████████████████████████████████████████████████████████████████████████████████████████████████████████| 161/161 [00:01<00:00, 113.70it/s]\n"
     ]
    },
    {
     "name": "stdout",
     "output_type": "stream",
     "text": [
      "--- Eval epoch-19, step-25880 ---\n",
      "pr_auc_samples: 0.2168\n",
      "loss: 0.0036\n"
     ]
    }
   ],
   "source": [
    "trainer_diag = Trainer(\n",
    "    model = model_diag,\n",
    "    device = \"cpu\",\n",
    "    exp_name = \"diagnosis_recommendation_2\"\n",
    ")\n",
    "\n",
    "trainer_diag.train(\n",
    "    train_dataloader = train_loader_diag,\n",
    "    val_dataloader = val_loader_diag,\n",
    "    #epochs = 5,\n",
    "    epochs = 20,\n",
    "    monitor_criterion = \"max\"\n",
    ")"
   ]
  },
  {
   "cell_type": "markdown",
   "metadata": {},
   "source": [
    "#### Model 3 - Training"
   ]
  },
  {
   "cell_type": "code",
   "execution_count": 23,
   "metadata": {},
   "outputs": [
    {
     "name": "stdout",
     "output_type": "stream",
     "text": [
      "Transformer(\n",
      "  (embeddings): ModuleDict(\n",
      "    (condition_hist): Embedding(14437, 128, padding_idx=0)\n",
      "  )\n",
      "  (linear_layers): ModuleDict()\n",
      "  (transformer): ModuleDict(\n",
      "    (condition_hist): TransformerLayer(\n",
      "      (transformer): ModuleList(\n",
      "        (0): TransformerBlock(\n",
      "          (attention): MultiHeadedAttention(\n",
      "            (linear_layers): ModuleList(\n",
      "              (0-2): 3 x Linear(in_features=128, out_features=128, bias=False)\n",
      "            )\n",
      "            (output_linear): Linear(in_features=128, out_features=128, bias=False)\n",
      "            (attention): Attention()\n",
      "            (dropout): Dropout(p=0.1, inplace=False)\n",
      "          )\n",
      "          (feed_forward): PositionwiseFeedForward(\n",
      "            (w_1): Linear(in_features=128, out_features=512, bias=True)\n",
      "            (w_2): Linear(in_features=512, out_features=128, bias=True)\n",
      "            (dropout): Dropout(p=0.5, inplace=False)\n",
      "            (activation): GELU(approximate='none')\n",
      "          )\n",
      "          (input_sublayer): SublayerConnection(\n",
      "            (norm): LayerNorm((128,), eps=1e-05, elementwise_affine=True)\n",
      "            (dropout): Dropout(p=0.5, inplace=False)\n",
      "          )\n",
      "          (output_sublayer): SublayerConnection(\n",
      "            (norm): LayerNorm((128,), eps=1e-05, elementwise_affine=True)\n",
      "            (dropout): Dropout(p=0.5, inplace=False)\n",
      "          )\n",
      "          (dropout): Dropout(p=0.5, inplace=False)\n",
      "        )\n",
      "      )\n",
      "    )\n",
      "  )\n",
      "  (fc): Linear(in_features=128, out_features=1, bias=True)\n",
      ")\n",
      "Metrics: None\n",
      "Device: cpu\n",
      "\n",
      "Training:\n",
      "Batch size: 64\n",
      "Optimizer: <class 'torch.optim.adam.Adam'>\n",
      "Optimizer params: {'lr': 0.001}\n",
      "Weight decay: 0.0\n",
      "Max grad norm: None\n",
      "Val dataloader: <torch.utils.data.dataloader.DataLoader object at 0x37bcf0590>\n",
      "Monitor: None\n",
      "Monitor criterion: max\n",
      "Epochs: 20\n",
      "\n"
     ]
    },
    {
     "data": {
      "application/json": {
       "ascii": false,
       "bar_format": null,
       "colour": null,
       "elapsed": 0.001421213150024414,
       "initial": 0,
       "n": 0,
       "ncols": null,
       "nrows": 16,
       "postfix": null,
       "prefix": "Epoch 0 / 20",
       "rate": null,
       "total": 1295,
       "unit": "it",
       "unit_divisor": 1000,
       "unit_scale": false
      },
      "application/vnd.jupyter.widget-view+json": {
       "model_id": "9d50c92b3e4047e3a7005b9e8dcab2d3",
       "version_major": 2,
       "version_minor": 0
      },
      "text/plain": [
       "Epoch 0 / 20:   0%|          | 0/1295 [00:00<?, ?it/s]"
      ]
     },
     "metadata": {},
     "output_type": "display_data"
    },
    {
     "name": "stdout",
     "output_type": "stream",
     "text": [
      "--- Train epoch-0, step-1295 ---\n",
      "loss: 0.0480\n"
     ]
    },
    {
     "name": "stderr",
     "output_type": "stream",
     "text": [
      "Evaluation: 100%|██████████████████████████████████████████████████████████████████████████████████████████████████████████████████| 161/161 [00:00<00:00, 188.93it/s]"
     ]
    },
    {
     "name": "stdout",
     "output_type": "stream",
     "text": [
      "--- Eval epoch-0, step-1295 ---\n",
      "pr_auc: 0.6935\n",
      "roc_auc: 0.9653\n",
      "f1: 0.6587\n",
      "loss: 0.0356\n",
      "\n"
     ]
    },
    {
     "name": "stderr",
     "output_type": "stream",
     "text": [
      "\n"
     ]
    },
    {
     "data": {
      "application/json": {
       "ascii": false,
       "bar_format": null,
       "colour": null,
       "elapsed": 0.0015637874603271484,
       "initial": 0,
       "n": 0,
       "ncols": null,
       "nrows": 16,
       "postfix": null,
       "prefix": "Epoch 1 / 20",
       "rate": null,
       "total": 1295,
       "unit": "it",
       "unit_divisor": 1000,
       "unit_scale": false
      },
      "application/vnd.jupyter.widget-view+json": {
       "model_id": "a8feebdc4975422d8634275c99f29d51",
       "version_major": 2,
       "version_minor": 0
      },
      "text/plain": [
       "Epoch 1 / 20:   0%|          | 0/1295 [00:00<?, ?it/s]"
      ]
     },
     "metadata": {},
     "output_type": "display_data"
    },
    {
     "name": "stdout",
     "output_type": "stream",
     "text": [
      "--- Train epoch-1, step-2590 ---\n",
      "loss: 0.0144\n"
     ]
    },
    {
     "name": "stderr",
     "output_type": "stream",
     "text": [
      "Evaluation: 100%|██████████████████████████████████████████████████████████████████████████████████████████████████████████████████| 161/161 [00:00<00:00, 185.66it/s]"
     ]
    },
    {
     "name": "stdout",
     "output_type": "stream",
     "text": [
      "--- Eval epoch-1, step-2590 ---\n",
      "pr_auc: 0.7268\n",
      "roc_auc: 0.9619\n",
      "f1: 0.7126\n",
      "loss: 0.0444\n",
      "\n"
     ]
    },
    {
     "name": "stderr",
     "output_type": "stream",
     "text": [
      "\n"
     ]
    },
    {
     "data": {
      "application/json": {
       "ascii": false,
       "bar_format": null,
       "colour": null,
       "elapsed": 0.0017578601837158203,
       "initial": 0,
       "n": 0,
       "ncols": null,
       "nrows": 16,
       "postfix": null,
       "prefix": "Epoch 2 / 20",
       "rate": null,
       "total": 1295,
       "unit": "it",
       "unit_divisor": 1000,
       "unit_scale": false
      },
      "application/vnd.jupyter.widget-view+json": {
       "model_id": "58c37d09e8a2453c9d4c1648cccd374e",
       "version_major": 2,
       "version_minor": 0
      },
      "text/plain": [
       "Epoch 2 / 20:   0%|          | 0/1295 [00:00<?, ?it/s]"
      ]
     },
     "metadata": {},
     "output_type": "display_data"
    },
    {
     "name": "stdout",
     "output_type": "stream",
     "text": [
      "--- Train epoch-2, step-3885 ---\n",
      "loss: 0.0101\n"
     ]
    },
    {
     "name": "stderr",
     "output_type": "stream",
     "text": [
      "Evaluation: 100%|██████████████████████████████████████████████████████████████████████████████████████████████████████████████████| 161/161 [00:00<00:00, 187.63it/s]"
     ]
    },
    {
     "name": "stdout",
     "output_type": "stream",
     "text": [
      "--- Eval epoch-2, step-3885 ---\n",
      "pr_auc: 0.7767\n",
      "roc_auc: 0.9719\n",
      "f1: 0.7556\n",
      "loss: 0.0450\n",
      "\n"
     ]
    },
    {
     "name": "stderr",
     "output_type": "stream",
     "text": [
      "\n"
     ]
    },
    {
     "data": {
      "application/json": {
       "ascii": false,
       "bar_format": null,
       "colour": null,
       "elapsed": 0.0017709732055664062,
       "initial": 0,
       "n": 0,
       "ncols": null,
       "nrows": 16,
       "postfix": null,
       "prefix": "Epoch 3 / 20",
       "rate": null,
       "total": 1295,
       "unit": "it",
       "unit_divisor": 1000,
       "unit_scale": false
      },
      "application/vnd.jupyter.widget-view+json": {
       "model_id": "88153f34476d4e6fb81a4531e296d124",
       "version_major": 2,
       "version_minor": 0
      },
      "text/plain": [
       "Epoch 3 / 20:   0%|          | 0/1295 [00:00<?, ?it/s]"
      ]
     },
     "metadata": {},
     "output_type": "display_data"
    },
    {
     "name": "stdout",
     "output_type": "stream",
     "text": [
      "--- Train epoch-3, step-5180 ---\n",
      "loss: 0.0096\n"
     ]
    },
    {
     "name": "stderr",
     "output_type": "stream",
     "text": [
      "Evaluation: 100%|██████████████████████████████████████████████████████████████████████████████████████████████████████████████████| 161/161 [00:00<00:00, 188.07it/s]"
     ]
    },
    {
     "name": "stdout",
     "output_type": "stream",
     "text": [
      "--- Eval epoch-3, step-5180 ---\n",
      "pr_auc: 0.7729\n",
      "roc_auc: 0.9763\n",
      "f1: 0.6857\n",
      "loss: 0.0502\n",
      "\n"
     ]
    },
    {
     "name": "stderr",
     "output_type": "stream",
     "text": [
      "\n"
     ]
    },
    {
     "data": {
      "application/json": {
       "ascii": false,
       "bar_format": null,
       "colour": null,
       "elapsed": 0.0016410350799560547,
       "initial": 0,
       "n": 0,
       "ncols": null,
       "nrows": 16,
       "postfix": null,
       "prefix": "Epoch 4 / 20",
       "rate": null,
       "total": 1295,
       "unit": "it",
       "unit_divisor": 1000,
       "unit_scale": false
      },
      "application/vnd.jupyter.widget-view+json": {
       "model_id": "c7bb1d040ccf4d8b85ce2118f8276214",
       "version_major": 2,
       "version_minor": 0
      },
      "text/plain": [
       "Epoch 4 / 20:   0%|          | 0/1295 [00:00<?, ?it/s]"
      ]
     },
     "metadata": {},
     "output_type": "display_data"
    },
    {
     "name": "stdout",
     "output_type": "stream",
     "text": [
      "--- Train epoch-4, step-6475 ---\n",
      "loss: 0.0075\n"
     ]
    },
    {
     "name": "stderr",
     "output_type": "stream",
     "text": [
      "Evaluation: 100%|██████████████████████████████████████████████████████████████████████████████████████████████████████████████████| 161/161 [00:00<00:00, 185.96it/s]"
     ]
    },
    {
     "name": "stdout",
     "output_type": "stream",
     "text": [
      "--- Eval epoch-4, step-6475 ---\n",
      "pr_auc: 0.7974\n",
      "roc_auc: 0.9753\n",
      "f1: 0.7364\n",
      "loss: 0.0643\n",
      "\n"
     ]
    },
    {
     "name": "stderr",
     "output_type": "stream",
     "text": [
      "\n"
     ]
    },
    {
     "data": {
      "application/json": {
       "ascii": false,
       "bar_format": null,
       "colour": null,
       "elapsed": 0.00164794921875,
       "initial": 0,
       "n": 0,
       "ncols": null,
       "nrows": 16,
       "postfix": null,
       "prefix": "Epoch 5 / 20",
       "rate": null,
       "total": 1295,
       "unit": "it",
       "unit_divisor": 1000,
       "unit_scale": false
      },
      "application/vnd.jupyter.widget-view+json": {
       "model_id": "c4733bed27354f208851cc390d70ee27",
       "version_major": 2,
       "version_minor": 0
      },
      "text/plain": [
       "Epoch 5 / 20:   0%|          | 0/1295 [00:00<?, ?it/s]"
      ]
     },
     "metadata": {},
     "output_type": "display_data"
    },
    {
     "name": "stdout",
     "output_type": "stream",
     "text": [
      "--- Train epoch-5, step-7770 ---\n",
      "loss: 0.0075\n"
     ]
    },
    {
     "name": "stderr",
     "output_type": "stream",
     "text": [
      "Evaluation: 100%|██████████████████████████████████████████████████████████████████████████████████████████████████████████████████| 161/161 [00:00<00:00, 186.96it/s]"
     ]
    },
    {
     "name": "stdout",
     "output_type": "stream",
     "text": [
      "--- Eval epoch-5, step-7770 ---\n",
      "pr_auc: 0.7194\n",
      "roc_auc: 0.9664\n",
      "f1: 0.6612\n",
      "loss: 0.0466\n",
      "\n"
     ]
    },
    {
     "name": "stderr",
     "output_type": "stream",
     "text": [
      "\n"
     ]
    },
    {
     "data": {
      "application/json": {
       "ascii": false,
       "bar_format": null,
       "colour": null,
       "elapsed": 0.0016739368438720703,
       "initial": 0,
       "n": 0,
       "ncols": null,
       "nrows": 16,
       "postfix": null,
       "prefix": "Epoch 6 / 20",
       "rate": null,
       "total": 1295,
       "unit": "it",
       "unit_divisor": 1000,
       "unit_scale": false
      },
      "application/vnd.jupyter.widget-view+json": {
       "model_id": "6385b0f553a942349dc36361d3fb780f",
       "version_major": 2,
       "version_minor": 0
      },
      "text/plain": [
       "Epoch 6 / 20:   0%|          | 0/1295 [00:00<?, ?it/s]"
      ]
     },
     "metadata": {},
     "output_type": "display_data"
    },
    {
     "name": "stdout",
     "output_type": "stream",
     "text": [
      "--- Train epoch-6, step-9065 ---\n",
      "loss: 0.0080\n"
     ]
    },
    {
     "name": "stderr",
     "output_type": "stream",
     "text": [
      "Evaluation: 100%|██████████████████████████████████████████████████████████████████████████████████████████████████████████████████| 161/161 [00:00<00:00, 181.04it/s]"
     ]
    },
    {
     "name": "stdout",
     "output_type": "stream",
     "text": [
      "--- Eval epoch-6, step-9065 ---\n",
      "pr_auc: 0.7450\n",
      "roc_auc: 0.9590\n",
      "f1: 0.7368\n",
      "loss: 0.0698\n",
      "\n"
     ]
    },
    {
     "name": "stderr",
     "output_type": "stream",
     "text": [
      "\n"
     ]
    },
    {
     "data": {
      "application/json": {
       "ascii": false,
       "bar_format": null,
       "colour": null,
       "elapsed": 0.0019130706787109375,
       "initial": 0,
       "n": 0,
       "ncols": null,
       "nrows": 16,
       "postfix": null,
       "prefix": "Epoch 7 / 20",
       "rate": null,
       "total": 1295,
       "unit": "it",
       "unit_divisor": 1000,
       "unit_scale": false
      },
      "application/vnd.jupyter.widget-view+json": {
       "model_id": "8f6c251f542f41678b109e1a53ae7af4",
       "version_major": 2,
       "version_minor": 0
      },
      "text/plain": [
       "Epoch 7 / 20:   0%|          | 0/1295 [00:00<?, ?it/s]"
      ]
     },
     "metadata": {},
     "output_type": "display_data"
    },
    {
     "name": "stdout",
     "output_type": "stream",
     "text": [
      "--- Train epoch-7, step-10360 ---\n",
      "loss: 0.0071\n"
     ]
    },
    {
     "name": "stderr",
     "output_type": "stream",
     "text": [
      "Evaluation: 100%|██████████████████████████████████████████████████████████████████████████████████████████████████████████████████| 161/161 [00:00<00:00, 183.44it/s]"
     ]
    },
    {
     "name": "stdout",
     "output_type": "stream",
     "text": [
      "--- Eval epoch-7, step-10360 ---\n",
      "pr_auc: 0.7845\n",
      "roc_auc: 0.9642\n",
      "f1: 0.7321\n",
      "loss: 0.0860\n",
      "\n"
     ]
    },
    {
     "name": "stderr",
     "output_type": "stream",
     "text": [
      "\n"
     ]
    },
    {
     "data": {
      "application/json": {
       "ascii": false,
       "bar_format": null,
       "colour": null,
       "elapsed": 0.0016520023345947266,
       "initial": 0,
       "n": 0,
       "ncols": null,
       "nrows": 16,
       "postfix": null,
       "prefix": "Epoch 8 / 20",
       "rate": null,
       "total": 1295,
       "unit": "it",
       "unit_divisor": 1000,
       "unit_scale": false
      },
      "application/vnd.jupyter.widget-view+json": {
       "model_id": "84340d557b124262a4a6408cf8095164",
       "version_major": 2,
       "version_minor": 0
      },
      "text/plain": [
       "Epoch 8 / 20:   0%|          | 0/1295 [00:00<?, ?it/s]"
      ]
     },
     "metadata": {},
     "output_type": "display_data"
    },
    {
     "name": "stdout",
     "output_type": "stream",
     "text": [
      "--- Train epoch-8, step-11655 ---\n",
      "loss: 0.0076\n"
     ]
    },
    {
     "name": "stderr",
     "output_type": "stream",
     "text": [
      "Evaluation: 100%|██████████████████████████████████████████████████████████████████████████████████████████████████████████████████| 161/161 [00:00<00:00, 186.11it/s]"
     ]
    },
    {
     "name": "stdout",
     "output_type": "stream",
     "text": [
      "--- Eval epoch-8, step-11655 ---\n",
      "pr_auc: 0.7477\n",
      "roc_auc: 0.9629\n",
      "f1: 0.7454\n",
      "loss: 0.0850\n",
      "\n"
     ]
    },
    {
     "name": "stderr",
     "output_type": "stream",
     "text": [
      "\n"
     ]
    },
    {
     "data": {
      "application/json": {
       "ascii": false,
       "bar_format": null,
       "colour": null,
       "elapsed": 0.0018887519836425781,
       "initial": 0,
       "n": 0,
       "ncols": null,
       "nrows": 16,
       "postfix": null,
       "prefix": "Epoch 9 / 20",
       "rate": null,
       "total": 1295,
       "unit": "it",
       "unit_divisor": 1000,
       "unit_scale": false
      },
      "application/vnd.jupyter.widget-view+json": {
       "model_id": "f4af08c1e21842d9b5231bf40493abc1",
       "version_major": 2,
       "version_minor": 0
      },
      "text/plain": [
       "Epoch 9 / 20:   0%|          | 0/1295 [00:00<?, ?it/s]"
      ]
     },
     "metadata": {},
     "output_type": "display_data"
    },
    {
     "name": "stdout",
     "output_type": "stream",
     "text": [
      "--- Train epoch-9, step-12950 ---\n",
      "loss: 0.0068\n"
     ]
    },
    {
     "name": "stderr",
     "output_type": "stream",
     "text": [
      "Evaluation: 100%|██████████████████████████████████████████████████████████████████████████████████████████████████████████████████| 161/161 [00:00<00:00, 185.57it/s]"
     ]
    },
    {
     "name": "stdout",
     "output_type": "stream",
     "text": [
      "--- Eval epoch-9, step-12950 ---\n",
      "pr_auc: 0.7983\n",
      "roc_auc: 0.9604\n",
      "f1: 0.7849\n",
      "loss: 0.0706\n",
      "\n"
     ]
    },
    {
     "name": "stderr",
     "output_type": "stream",
     "text": [
      "\n"
     ]
    },
    {
     "data": {
      "application/json": {
       "ascii": false,
       "bar_format": null,
       "colour": null,
       "elapsed": 0.0016849040985107422,
       "initial": 0,
       "n": 0,
       "ncols": null,
       "nrows": 16,
       "postfix": null,
       "prefix": "Epoch 10 / 20",
       "rate": null,
       "total": 1295,
       "unit": "it",
       "unit_divisor": 1000,
       "unit_scale": false
      },
      "application/vnd.jupyter.widget-view+json": {
       "model_id": "34640fdc10da41ca8fabe8b9687e9fb7",
       "version_major": 2,
       "version_minor": 0
      },
      "text/plain": [
       "Epoch 10 / 20:   0%|          | 0/1295 [00:00<?, ?it/s]"
      ]
     },
     "metadata": {},
     "output_type": "display_data"
    },
    {
     "name": "stdout",
     "output_type": "stream",
     "text": [
      "--- Train epoch-10, step-14245 ---\n",
      "loss: 0.0063\n"
     ]
    },
    {
     "name": "stderr",
     "output_type": "stream",
     "text": [
      "Evaluation: 100%|██████████████████████████████████████████████████████████████████████████████████████████████████████████████████| 161/161 [00:00<00:00, 183.84it/s]"
     ]
    },
    {
     "name": "stdout",
     "output_type": "stream",
     "text": [
      "--- Eval epoch-10, step-14245 ---\n",
      "pr_auc: 0.8021\n",
      "roc_auc: 0.9650\n",
      "f1: 0.7749\n",
      "loss: 0.0753\n",
      "\n"
     ]
    },
    {
     "name": "stderr",
     "output_type": "stream",
     "text": [
      "\n"
     ]
    },
    {
     "data": {
      "application/json": {
       "ascii": false,
       "bar_format": null,
       "colour": null,
       "elapsed": 0.0016057491302490234,
       "initial": 0,
       "n": 0,
       "ncols": null,
       "nrows": 16,
       "postfix": null,
       "prefix": "Epoch 11 / 20",
       "rate": null,
       "total": 1295,
       "unit": "it",
       "unit_divisor": 1000,
       "unit_scale": false
      },
      "application/vnd.jupyter.widget-view+json": {
       "model_id": "0c6f61789c9d41d19f6804b979509810",
       "version_major": 2,
       "version_minor": 0
      },
      "text/plain": [
       "Epoch 11 / 20:   0%|          | 0/1295 [00:00<?, ?it/s]"
      ]
     },
     "metadata": {},
     "output_type": "display_data"
    },
    {
     "name": "stdout",
     "output_type": "stream",
     "text": [
      "--- Train epoch-11, step-15540 ---\n",
      "loss: 0.0066\n"
     ]
    },
    {
     "name": "stderr",
     "output_type": "stream",
     "text": [
      "Evaluation: 100%|██████████████████████████████████████████████████████████████████████████████████████████████████████████████████| 161/161 [00:00<00:00, 183.39it/s]"
     ]
    },
    {
     "name": "stdout",
     "output_type": "stream",
     "text": [
      "--- Eval epoch-11, step-15540 ---\n",
      "pr_auc: 0.7985\n",
      "roc_auc: 0.9617\n",
      "f1: 0.7900\n",
      "loss: 0.1133\n",
      "\n"
     ]
    },
    {
     "name": "stderr",
     "output_type": "stream",
     "text": [
      "\n"
     ]
    },
    {
     "data": {
      "application/json": {
       "ascii": false,
       "bar_format": null,
       "colour": null,
       "elapsed": 0.0016620159149169922,
       "initial": 0,
       "n": 0,
       "ncols": null,
       "nrows": 16,
       "postfix": null,
       "prefix": "Epoch 12 / 20",
       "rate": null,
       "total": 1295,
       "unit": "it",
       "unit_divisor": 1000,
       "unit_scale": false
      },
      "application/vnd.jupyter.widget-view+json": {
       "model_id": "78a81f851fbf48dabf070fd6ab699905",
       "version_major": 2,
       "version_minor": 0
      },
      "text/plain": [
       "Epoch 12 / 20:   0%|          | 0/1295 [00:00<?, ?it/s]"
      ]
     },
     "metadata": {},
     "output_type": "display_data"
    },
    {
     "name": "stdout",
     "output_type": "stream",
     "text": [
      "--- Train epoch-12, step-16835 ---\n",
      "loss: 0.0066\n"
     ]
    },
    {
     "name": "stderr",
     "output_type": "stream",
     "text": [
      "Evaluation: 100%|██████████████████████████████████████████████████████████████████████████████████████████████████████████████████| 161/161 [00:00<00:00, 189.07it/s]"
     ]
    },
    {
     "name": "stdout",
     "output_type": "stream",
     "text": [
      "--- Eval epoch-12, step-16835 ---\n",
      "pr_auc: 0.7745\n",
      "roc_auc: 0.9620\n",
      "f1: 0.7388\n",
      "loss: 0.0764\n",
      "\n"
     ]
    },
    {
     "name": "stderr",
     "output_type": "stream",
     "text": [
      "\n"
     ]
    },
    {
     "data": {
      "application/json": {
       "ascii": false,
       "bar_format": null,
       "colour": null,
       "elapsed": 0.0016589164733886719,
       "initial": 0,
       "n": 0,
       "ncols": null,
       "nrows": 16,
       "postfix": null,
       "prefix": "Epoch 13 / 20",
       "rate": null,
       "total": 1295,
       "unit": "it",
       "unit_divisor": 1000,
       "unit_scale": false
      },
      "application/vnd.jupyter.widget-view+json": {
       "model_id": "29bc3432fa304e3690126b283647533d",
       "version_major": 2,
       "version_minor": 0
      },
      "text/plain": [
       "Epoch 13 / 20:   0%|          | 0/1295 [00:00<?, ?it/s]"
      ]
     },
     "metadata": {},
     "output_type": "display_data"
    },
    {
     "name": "stdout",
     "output_type": "stream",
     "text": [
      "--- Train epoch-13, step-18130 ---\n",
      "loss: 0.0057\n"
     ]
    },
    {
     "name": "stderr",
     "output_type": "stream",
     "text": [
      "Evaluation: 100%|██████████████████████████████████████████████████████████████████████████████████████████████████████████████████| 161/161 [00:00<00:00, 192.04it/s]\n"
     ]
    },
    {
     "name": "stdout",
     "output_type": "stream",
     "text": [
      "--- Eval epoch-13, step-18130 ---\n",
      "pr_auc: 0.7854\n",
      "roc_auc: 0.9674\n",
      "f1: 0.7491\n",
      "loss: 0.1472\n",
      "\n"
     ]
    },
    {
     "data": {
      "application/json": {
       "ascii": false,
       "bar_format": null,
       "colour": null,
       "elapsed": 0.0017311573028564453,
       "initial": 0,
       "n": 0,
       "ncols": null,
       "nrows": 16,
       "postfix": null,
       "prefix": "Epoch 14 / 20",
       "rate": null,
       "total": 1295,
       "unit": "it",
       "unit_divisor": 1000,
       "unit_scale": false
      },
      "application/vnd.jupyter.widget-view+json": {
       "model_id": "bf2ae175c4e645d198d49de9e31a0f20",
       "version_major": 2,
       "version_minor": 0
      },
      "text/plain": [
       "Epoch 14 / 20:   0%|          | 0/1295 [00:00<?, ?it/s]"
      ]
     },
     "metadata": {},
     "output_type": "display_data"
    },
    {
     "name": "stdout",
     "output_type": "stream",
     "text": [
      "--- Train epoch-14, step-19425 ---\n",
      "loss: 0.0052\n"
     ]
    },
    {
     "name": "stderr",
     "output_type": "stream",
     "text": [
      "Evaluation: 100%|██████████████████████████████████████████████████████████████████████████████████████████████████████████████████| 161/161 [00:00<00:00, 185.25it/s]"
     ]
    },
    {
     "name": "stdout",
     "output_type": "stream",
     "text": [
      "--- Eval epoch-14, step-19425 ---\n",
      "pr_auc: 0.7379\n",
      "roc_auc: 0.9559\n",
      "f1: 0.7328\n",
      "loss: 0.1775\n",
      "\n"
     ]
    },
    {
     "name": "stderr",
     "output_type": "stream",
     "text": [
      "\n"
     ]
    },
    {
     "data": {
      "application/json": {
       "ascii": false,
       "bar_format": null,
       "colour": null,
       "elapsed": 0.0016922950744628906,
       "initial": 0,
       "n": 0,
       "ncols": null,
       "nrows": 16,
       "postfix": null,
       "prefix": "Epoch 15 / 20",
       "rate": null,
       "total": 1295,
       "unit": "it",
       "unit_divisor": 1000,
       "unit_scale": false
      },
      "application/vnd.jupyter.widget-view+json": {
       "model_id": "339a9217b2634df0acb5be5a7d1bc988",
       "version_major": 2,
       "version_minor": 0
      },
      "text/plain": [
       "Epoch 15 / 20:   0%|          | 0/1295 [00:00<?, ?it/s]"
      ]
     },
     "metadata": {},
     "output_type": "display_data"
    },
    {
     "name": "stdout",
     "output_type": "stream",
     "text": [
      "--- Train epoch-15, step-20720 ---\n",
      "loss: 0.0051\n"
     ]
    },
    {
     "name": "stderr",
     "output_type": "stream",
     "text": [
      "Evaluation: 100%|██████████████████████████████████████████████████████████████████████████████████████████████████████████████████| 161/161 [00:00<00:00, 186.89it/s]"
     ]
    },
    {
     "name": "stdout",
     "output_type": "stream",
     "text": [
      "--- Eval epoch-15, step-20720 ---\n",
      "pr_auc: 0.7105\n",
      "roc_auc: 0.9562\n",
      "f1: 0.6984\n",
      "loss: 0.2115\n",
      "\n"
     ]
    },
    {
     "name": "stderr",
     "output_type": "stream",
     "text": [
      "\n"
     ]
    },
    {
     "data": {
      "application/json": {
       "ascii": false,
       "bar_format": null,
       "colour": null,
       "elapsed": 0.0016260147094726562,
       "initial": 0,
       "n": 0,
       "ncols": null,
       "nrows": 16,
       "postfix": null,
       "prefix": "Epoch 16 / 20",
       "rate": null,
       "total": 1295,
       "unit": "it",
       "unit_divisor": 1000,
       "unit_scale": false
      },
      "application/vnd.jupyter.widget-view+json": {
       "model_id": "9f86b086766946ee94c69f14d716c257",
       "version_major": 2,
       "version_minor": 0
      },
      "text/plain": [
       "Epoch 16 / 20:   0%|          | 0/1295 [00:00<?, ?it/s]"
      ]
     },
     "metadata": {},
     "output_type": "display_data"
    },
    {
     "name": "stdout",
     "output_type": "stream",
     "text": [
      "--- Train epoch-16, step-22015 ---\n",
      "loss: 0.0057\n"
     ]
    },
    {
     "name": "stderr",
     "output_type": "stream",
     "text": [
      "Evaluation: 100%|██████████████████████████████████████████████████████████████████████████████████████████████████████████████████| 161/161 [00:00<00:00, 184.98it/s]"
     ]
    },
    {
     "name": "stdout",
     "output_type": "stream",
     "text": [
      "--- Eval epoch-16, step-22015 ---\n",
      "pr_auc: 0.7302\n",
      "roc_auc: 0.9421\n",
      "f1: 0.7528\n",
      "loss: 0.1897\n",
      "\n"
     ]
    },
    {
     "name": "stderr",
     "output_type": "stream",
     "text": [
      "\n"
     ]
    },
    {
     "data": {
      "application/json": {
       "ascii": false,
       "bar_format": null,
       "colour": null,
       "elapsed": 0.0017976760864257812,
       "initial": 0,
       "n": 0,
       "ncols": null,
       "nrows": 16,
       "postfix": null,
       "prefix": "Epoch 17 / 20",
       "rate": null,
       "total": 1295,
       "unit": "it",
       "unit_divisor": 1000,
       "unit_scale": false
      },
      "application/vnd.jupyter.widget-view+json": {
       "model_id": "9fd6b287e4264ba0bfaa0f180de9c34b",
       "version_major": 2,
       "version_minor": 0
      },
      "text/plain": [
       "Epoch 17 / 20:   0%|          | 0/1295 [00:00<?, ?it/s]"
      ]
     },
     "metadata": {},
     "output_type": "display_data"
    },
    {
     "name": "stdout",
     "output_type": "stream",
     "text": [
      "--- Train epoch-17, step-23310 ---\n",
      "loss: 0.0069\n"
     ]
    },
    {
     "name": "stderr",
     "output_type": "stream",
     "text": [
      "Evaluation: 100%|██████████████████████████████████████████████████████████████████████████████████████████████████████████████████| 161/161 [00:00<00:00, 182.09it/s]"
     ]
    },
    {
     "name": "stdout",
     "output_type": "stream",
     "text": [
      "--- Eval epoch-17, step-23310 ---\n",
      "pr_auc: 0.7635\n",
      "roc_auc: 0.9724\n",
      "f1: 0.7426\n",
      "loss: 0.0766\n",
      "\n"
     ]
    },
    {
     "name": "stderr",
     "output_type": "stream",
     "text": [
      "\n"
     ]
    },
    {
     "data": {
      "application/json": {
       "ascii": false,
       "bar_format": null,
       "colour": null,
       "elapsed": 0.0019218921661376953,
       "initial": 0,
       "n": 0,
       "ncols": null,
       "nrows": 16,
       "postfix": null,
       "prefix": "Epoch 18 / 20",
       "rate": null,
       "total": 1295,
       "unit": "it",
       "unit_divisor": 1000,
       "unit_scale": false
      },
      "application/vnd.jupyter.widget-view+json": {
       "model_id": "91deba12b995433fa3aad2a67457ac71",
       "version_major": 2,
       "version_minor": 0
      },
      "text/plain": [
       "Epoch 18 / 20:   0%|          | 0/1295 [00:00<?, ?it/s]"
      ]
     },
     "metadata": {},
     "output_type": "display_data"
    },
    {
     "name": "stdout",
     "output_type": "stream",
     "text": [
      "--- Train epoch-18, step-24605 ---\n",
      "loss: 0.0064\n"
     ]
    },
    {
     "name": "stderr",
     "output_type": "stream",
     "text": [
      "Evaluation: 100%|██████████████████████████████████████████████████████████████████████████████████████████████████████████████████| 161/161 [00:00<00:00, 187.58it/s]"
     ]
    },
    {
     "name": "stdout",
     "output_type": "stream",
     "text": [
      "--- Eval epoch-18, step-24605 ---\n",
      "pr_auc: 0.8004\n",
      "roc_auc: 0.9644\n",
      "f1: 0.7328\n",
      "loss: 0.1021\n",
      "\n"
     ]
    },
    {
     "name": "stderr",
     "output_type": "stream",
     "text": [
      "\n"
     ]
    },
    {
     "data": {
      "application/json": {
       "ascii": false,
       "bar_format": null,
       "colour": null,
       "elapsed": 0.0016193389892578125,
       "initial": 0,
       "n": 0,
       "ncols": null,
       "nrows": 16,
       "postfix": null,
       "prefix": "Epoch 19 / 20",
       "rate": null,
       "total": 1295,
       "unit": "it",
       "unit_divisor": 1000,
       "unit_scale": false
      },
      "application/vnd.jupyter.widget-view+json": {
       "model_id": "c52e2027af7c4ecb8c45050fde8e7f57",
       "version_major": 2,
       "version_minor": 0
      },
      "text/plain": [
       "Epoch 19 / 20:   0%|          | 0/1295 [00:00<?, ?it/s]"
      ]
     },
     "metadata": {},
     "output_type": "display_data"
    },
    {
     "name": "stdout",
     "output_type": "stream",
     "text": [
      "--- Train epoch-19, step-25900 ---\n",
      "loss: 0.0058\n"
     ]
    },
    {
     "name": "stderr",
     "output_type": "stream",
     "text": [
      "Evaluation: 100%|██████████████████████████████████████████████████████████████████████████████████████████████████████████████████| 161/161 [00:00<00:00, 184.47it/s]"
     ]
    },
    {
     "name": "stdout",
     "output_type": "stream",
     "text": [
      "--- Eval epoch-19, step-25900 ---\n",
      "pr_auc: 0.7757\n",
      "roc_auc: 0.9663\n",
      "f1: 0.7224\n",
      "loss: 0.1159\n"
     ]
    },
    {
     "name": "stderr",
     "output_type": "stream",
     "text": [
      "\n"
     ]
    }
   ],
   "source": [
    "trainer_diag_c25 = Trainer(\n",
    "    model = model_diag_c25,\n",
    "    device = \"cpu\",\n",
    "    exp_name = \"diagnosis_recommendation_3\"\n",
    ")\n",
    "\n",
    "trainer_diag_c25.train(\n",
    "    train_dataloader = train_loader_diag_c25,\n",
    "    val_dataloader = val_loader_diag_c25,\n",
    "    #epochs = 5,\n",
    "    epochs = 20,\n",
    "    monitor_criterion = \"max\"\n",
    ")\n"
   ]
  },
  {
   "cell_type": "markdown",
   "metadata": {},
   "source": [
    "## Run Evaluation"
   ]
  },
  {
   "cell_type": "markdown",
   "metadata": {},
   "source": [
    "#### Model 1 Evaluation"
   ]
  },
  {
   "cell_type": "markdown",
   "metadata": {},
   "source": [
    "#### Model 1 Evaluation - with Test Loader"
   ]
  },
  {
   "cell_type": "code",
   "execution_count": 24,
   "metadata": {},
   "outputs": [
    {
     "name": "stderr",
     "output_type": "stream",
     "text": [
      "Evaluation: 100%|█████████████████████████████████████████████████████████████████████████████████████████████████████████████████████| 62/62 [00:01<00:00, 31.54it/s]\n"
     ]
    },
    {
     "name": "stdout",
     "output_type": "stream",
     "text": [
      "{'pr_auc_samples': 0.180920802683624, 'loss': 0.006193562996603789}\n"
     ]
    },
    {
     "name": "stderr",
     "output_type": "stream",
     "text": [
      "Evaluation: 100%|█████████████████████████████████████████████████████████████████████████████████████████████████████████████████████| 62/62 [00:01<00:00, 33.89it/s]\n"
     ]
    }
   ],
   "source": [
    "result = trainer.evaluate(test_loader)\n",
    "\n",
    "\n",
    "print (result)\n",
    "\n",
    "# obtain the true label, predicted probability, evaluation loss \n",
    "y_true, y_prob, loss = trainer.inference(test_loader)\n",
    "\n"
   ]
  },
  {
   "cell_type": "markdown",
   "metadata": {},
   "source": [
    "#### Run Evaluation with Test dataset with Diagnosis Code related to Pancreatic Cancer"
   ]
  },
  {
   "cell_type": "code",
   "execution_count": 25,
   "metadata": {},
   "outputs": [
    {
     "name": "stderr",
     "output_type": "stream",
     "text": [
      "Evaluation: 100%|█████████████████████████████████████████████████████████████████████████████████████████████████████████████████████| 11/11 [00:00<00:00, 41.47it/s]\n"
     ]
    },
    {
     "name": "stdout",
     "output_type": "stream",
     "text": [
      "{'pr_auc_samples': 0.1922124065909024, 'loss': 0.005139602813869715}\n"
     ]
    },
    {
     "name": "stderr",
     "output_type": "stream",
     "text": [
      "Evaluation: 100%|█████████████████████████████████████████████████████████████████████████████████████████████████████████████████████| 11/11 [00:00<00:00, 43.27it/s]\n"
     ]
    }
   ],
   "source": [
    "result_c25 = trainer.evaluate(test_loader_c25)\n",
    "\n",
    "\n",
    "print (result_c25)\n",
    "\n",
    "# obtain the true label, predicted probability, evaluation loss \n",
    "y_true_c25, y_prob_c25, loss_c25 = trainer.inference(test_loader_c25)"
   ]
  },
  {
   "cell_type": "markdown",
   "metadata": {},
   "source": [
    "#### Model 2 Evaluation"
   ]
  },
  {
   "cell_type": "code",
   "execution_count": 26,
   "metadata": {},
   "outputs": [
    {
     "name": "stderr",
     "output_type": "stream",
     "text": [
      "Evaluation: 100%|██████████████████████████████████████████████████████████████████████████████████████████████████████████████████| 161/161 [00:01<00:00, 111.31it/s]\n"
     ]
    },
    {
     "name": "stdout",
     "output_type": "stream",
     "text": [
      "{'pr_auc_samples': 0.2143027041066091, 'loss': 0.003703831157051258}\n"
     ]
    },
    {
     "name": "stderr",
     "output_type": "stream",
     "text": [
      "Evaluation: 100%|██████████████████████████████████████████████████████████████████████████████████████████████████████████████████| 161/161 [00:01<00:00, 107.09it/s]\n"
     ]
    }
   ],
   "source": [
    "result_diag = trainer_diag.evaluate(test_loader_diag)\n",
    "\n",
    "\n",
    "print (result_diag)\n",
    "\n",
    "# obtain the true label, predicted probability, evaluation loss \n",
    "y_true_diag, y_prob_diag, loss_diag = trainer_diag.inference(test_loader_diag)"
   ]
  },
  {
   "cell_type": "markdown",
   "metadata": {},
   "source": [
    "#### Model 3 Evaluation"
   ]
  },
  {
   "cell_type": "markdown",
   "metadata": {},
   "source": [
    "#### Model 3 Evaluation using Test Loader Data Samples"
   ]
  },
  {
   "cell_type": "code",
   "execution_count": 27,
   "metadata": {},
   "outputs": [
    {
     "name": "stderr",
     "output_type": "stream",
     "text": [
      "Evaluation: 100%|██████████████████████████████████████████████████████████████████████████████████████████████████████████████████| 160/160 [00:00<00:00, 166.11it/s]\n"
     ]
    },
    {
     "name": "stdout",
     "output_type": "stream",
     "text": [
      "{'pr_auc': 0.8516015562769194, 'roc_auc': 0.9879223224016647, 'f1': 0.7817258883248731, 'loss': 0.06038461152346599}\n"
     ]
    },
    {
     "name": "stderr",
     "output_type": "stream",
     "text": [
      "Evaluation: 100%|██████████████████████████████████████████████████████████████████████████████████████████████████████████████████| 160/160 [00:01<00:00, 139.10it/s]\n"
     ]
    }
   ],
   "source": [
    "result_diag_c25 = trainer_diag_c25.evaluate(test_loader_diag_c25)\n",
    "\n",
    "\n",
    "print (result_diag_c25)\n",
    "\n",
    "# obtain the true label, predicted probability, evaluation loss \n",
    "y_true_diag_c25, y_prob_diag_c25, loss_diag_c25 = trainer_diag_c25.inference(test_loader_diag_c25)"
   ]
  },
  {
   "cell_type": "markdown",
   "metadata": {},
   "source": [
    "#### Model 3 Evaluation using using Test Loader Data Samples mixed with Pancreatic Cancer Samples"
   ]
  },
  {
   "cell_type": "code",
   "execution_count": 28,
   "metadata": {},
   "outputs": [
    {
     "name": "stderr",
     "output_type": "stream",
     "text": [
      "Evaluation: 100%|████████████████████████████████████████████████████████████████████████████████████████████████████████████████████| 21/21 [00:00<00:00, 180.18it/s]\n"
     ]
    },
    {
     "name": "stdout",
     "output_type": "stream",
     "text": [
      "{'pr_auc': 0.7513873521018024, 'roc_auc': 0.5674012506639625, 'f1': 0.8450839328537171, 'loss': 1.977556742372967}\n"
     ]
    },
    {
     "name": "stderr",
     "output_type": "stream",
     "text": [
      "Evaluation: 100%|████████████████████████████████████████████████████████████████████████████████████████████████████████████████████| 21/21 [00:00<00:00, 169.64it/s]\n"
     ]
    }
   ],
   "source": [
    "result_diag_c25_test = trainer_diag_c25.evaluate(test_loader_c25_test)\n",
    "\n",
    "\n",
    "print (result_diag_c25_test)\n",
    "\n",
    "# obtain the true label, predicted probability, evaluation loss \n",
    "y_true_diag_c25_t, y_prob_diag_c25_t, loss_diag_c25_t = trainer_diag_c25.inference(test_loader_c25_test)"
   ]
  },
  {
   "cell_type": "markdown",
   "metadata": {},
   "source": [
    "## Generate Result Metrics"
   ]
  },
  {
   "cell_type": "markdown",
   "metadata": {},
   "source": [
    "#### Generate Result Metrics from Model 1"
   ]
  },
  {
   "cell_type": "code",
   "execution_count": 29,
   "metadata": {},
   "outputs": [],
   "source": [
    "from pyhealth.metrics import multilabel_metrics_fn, binary_metrics_fn"
   ]
  },
  {
   "cell_type": "code",
   "execution_count": 30,
   "metadata": {},
   "outputs": [
    {
     "name": "stdout",
     "output_type": "stream",
     "text": [
      "Result Metrics from Model 1 using Test loadser samples :  {'pr_auc_samples': 0.180920802683624}\n",
      "Result Metrics from Model 1 using Test loadser samples with Pancreatic Cancer diagnosis code:  {'pr_auc_samples': 0.180920802683624}\n"
     ]
    }
   ],
   "source": [
    "result = multilabel_metrics_fn(y_true, y_prob)\n",
    "\n",
    "\n",
    "print ('Result Metrics from Model 1 using Test loadser samples : ', result)\n",
    "\n",
    "# Result Metrics using Test Loader Dataset with Pancreatic Cancer diagnosis code\n",
    "\n",
    "result_c25 = multilabel_metrics_fn(y_true_c25, y_prob_c25)\n",
    "\n",
    "print ('Result Metrics from Model 1 using Test loadser samples with Pancreatic Cancer diagnosis code: ', result)\n",
    "\n"
   ]
  },
  {
   "cell_type": "markdown",
   "metadata": {},
   "source": [
    "#### Generate Result Metrics from Model 2"
   ]
  },
  {
   "cell_type": "code",
   "execution_count": 31,
   "metadata": {},
   "outputs": [
    {
     "name": "stdout",
     "output_type": "stream",
     "text": [
      "Result Metrics from Model 2 using Test loadser samples :  {'pr_auc_samples': 0.2143027041066091}\n"
     ]
    }
   ],
   "source": [
    "result_diag = multilabel_metrics_fn(y_true_diag, y_prob_diag)\n",
    "\n",
    "print ('Result Metrics from Model 2 using Test loadser samples : ', result_diag)\n"
   ]
  },
  {
   "cell_type": "markdown",
   "metadata": {},
   "source": [
    "#### Generate Result Metrics from Model 3"
   ]
  },
  {
   "cell_type": "code",
   "execution_count": 32,
   "metadata": {},
   "outputs": [
    {
     "name": "stdout",
     "output_type": "stream",
     "text": [
      "Result Metrics from Model 3 using Test loadser samples with Pancreatic Cancer diagnosis code:  {'pr_auc': 0.7513873521018024, 'roc_auc': 0.5674012506639625, 'f1': 0.8450839328537171}\n"
     ]
    }
   ],
   "source": [
    "\n",
    "\n",
    "# Result Metrics using dataset mixed with Pancreatic Cancer Diagnosis samples\n",
    "result_diag_c25_test = binary_metrics_fn(y_true_diag_c25_t, y_prob_diag_c25_t)\n",
    "\n",
    "print ('Result Metrics from Model 3 using Test loadser samples with Pancreatic Cancer diagnosis code: ', result_diag_c25_test)\n",
    "\n"
   ]
  },
  {
   "cell_type": "code",
   "execution_count": 33,
   "metadata": {},
   "outputs": [
    {
     "data": {
      "text/plain": [
       "<sklearn.metrics._plot.roc_curve.RocCurveDisplay at 0x378628ec0>"
      ]
     },
     "execution_count": 33,
     "metadata": {},
     "output_type": "execute_result"
    },
    {
     "data": {
      "image/png": "[encoded data removed]",
      "text/plain": [
       "<Figure size 640x480 with 1 Axes>"
      ]
     },
     "metadata": {},
     "output_type": "display_data"
    }
   ],
   "source": [
    "import matplotlib.pyplot as plt\n",
    "import numpy as np\n",
    "from sklearn import metrics\n",
    "\n",
    "fpr, tpr, thresholds = metrics.roc_curve(y_true_diag_c25_t, y_prob_diag_c25_t)\n",
    "\n",
    "roc_auc = metrics.auc(fpr, tpr)\n",
    "\n",
    "display = metrics.RocCurveDisplay(fpr=fpr, tpr=tpr, roc_auc=roc_auc,estimator_name='Model 3')\n",
    "display.plot()"
   ]
  },
  {
   "cell_type": "code",
   "execution_count": null,
   "metadata": {},
   "outputs": [],
   "source": []
  },
  {
   "cell_type": "markdown",
   "metadata": {
    "id": "qH75TNU71eRH"
   },
   "source": [
    "# Discussion\n",
    "\n",
    "\n",
    "The results of the paper present insights into the use cases for Pancreatic Cancer and international PTSD. However, reproducing these results was challenging due to several factors.\n",
    "\n",
    "The paper, unfortunately, falls short of being reproducible due to various obstacles encountered during the reproduction process.\n",
    "\n",
    "Accessing the dataset utilized in the original study presented a significant challenge. The dataset's availability and accessibility were limited, impeding efforts to replicate the paper's findings accurately. This lack of easy access to crucial data hindered the replication process from the outset, highlighting the importance of transparent and readily available datasets for ensuring reproducibility in scientific research.\n",
    "\n",
    "The absence of direct communication channels with the paper's authors further compounded the challenges faced during reproduction. Unfortunately, the lack of such communication avenues hindered the resolution of ambiguities and obstacles encountered during the reproduction process.\n",
    "\n",
    "Furthermore, an analysis of the code repository provided alongside the paper revealed critical deficiencies. Key elements essential for reproducing the experiments, such as 'dataset.py' and tokenizer information, were missing from the repository. This incompleteness significantly impeded the replication efforts.\n",
    "\n",
    "Additionally, attempts to utilize pre-trained tokenizer and models were met with access errors (401), further complicating the reproduction process. These errors likely stemmed from issues related to dependencies or data access permissions.\n",
    "\n",
    "Though Understanding the paper's conceptual ideas and methodologies and Initial setup and configuration of the reproduction environment is easy. The difficulties of reproducing the result of original paper are - \n",
    "* Accessing the dataset and ensuring its compatibility with the provided code.\n",
    "* Resolving missing elements in the code repository.\n",
    "* Overcoming access errors while utilizing pre-trained models and tokenizers.\n",
    "* Adapting to discrepancies in sample sizes between the original dataset and the available dataset. \n",
    "\n",
    "Addressing these challenges arrive at reccomneations for concerted efforts to improve data accessibility, enhance communication channels between authors and reproducers, ensure completeness of code repositories, resolve access errors, and maintain consistency in dataset sizes.\n",
    "\n",
    "\n",
    "\n",
    "\n",
    "\n",
    "\n"
   ]
  },
  {
   "cell_type": "markdown",
   "metadata": {
    "id": "SHMI2chl9omn"
   },
   "source": [
    "# References\n",
    "\n",
    "1.   Yang, Z., Mitra, A., Liu, W. et al. TransformEHR: transformer-based encoder-decoder generative model to enhance prediction of disease outcomes using electronic health records. Nat Commun 14, 7857 (2023). https://doi.org/10.1038/s41467-023-43715-z\n",
    "\n"
   ]
  },
  {
   "cell_type": "markdown",
   "metadata": {},
   "source": []
  },
  {
   "cell_type": "markdown",
   "metadata": {
    "id": "xmVuzQ724HbO"
   },
   "source": [
    "# Feel free to add new sections"
   ]
  }
 ],
 "metadata": {
  "colab": {
   "private_outputs": true,
   "provenance": [],
   "toc_visible": true
  },
  "kernelspec": {
   "display_name": "Python 3 (ipykernel)",
   "language": "python",
   "name": "python3"
  },
  "language_info": {
   "codemirror_mode": {
    "name": "ipython",
    "version": 3
   },
   "file_extension": ".py",
   "mimetype": "text/x-python",
   "name": "python",
   "nbconvert_exporter": "python",
   "pygments_lexer": "ipython3",
   "version": "3.12.3"
  }
 },
 "nbformat": 4,
 "nbformat_minor": 4
}
