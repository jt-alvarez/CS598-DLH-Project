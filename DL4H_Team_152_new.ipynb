{
 "cells": [
  {
   "cell_type": "markdown",
   "metadata": {
    "id": "j01aH0PR4Sg-"
   },
   "source": [
    "# Before you use this template\n",
    "\n",
    "This template is just a recommended template for project Report. It only considers the general type of research in our paper pool. Feel free to edit it to better fit your project. You will iteratively update the same notebook submission for your draft and the final submission. Please check the project rubriks to get a sense of what is expected in the template.\n",
    "\n",
    "---\n",
    "\n",
    "# FAQ and Attentions\n",
    "* Copy and move this template to your Google Drive. Name your notebook by your team ID (upper-left corner). Don't eidt this original file.\n",
    "* This template covers most questions we want to ask about your reproduction experiment. You don't need to exactly follow the template, however, you should address the questions. Please feel free to customize your report accordingly.\n",
    "* any report must have run-able codes and necessary annotations (in text and code comments).\n",
    "* The notebook is like a demo and only uses small-size data (a subset of original data or processed data), the entire runtime of the notebook including data reading, data process, model training, printing, figure plotting, etc,\n",
    "must be within 8 min, otherwise, you may get penalty on the grade.\n",
    "  * If the raw dataset is too large to be loaded  you can select a subset of data and pre-process the data, then, upload the subset or processed data to Google Drive and load them in this notebook.\n",
    "  * If the whole training is too long to run, you can only set the number of training epoch to a small number, e.g., 3, just show that the training is runable.\n",
    "  * For results model validation, you can train the model outside this notebook in advance, then, load pretrained model and use it for validation (display the figures, print the metrics).\n",
    "* The post-process is important! For post-process of the results,please use plots/figures. The code to summarize results and plot figures may be tedious, however, it won't be waste of time since these figures can be used for presentation. While plotting in code, the figures should have titles or captions if necessary (e.g., title your figure with \"Figure 1. xxxx\")\n",
    "* There is not page limit to your notebook report, you can also use separate notebooks for the report, just make sure your grader can access and run/test them.\n",
    "* If you use outside resources, please refer them (in any formats). Include the links to the resources if necessary."
   ]
  },
  {
   "cell_type": "markdown",
   "metadata": {
    "id": "dlv6knX04FiY"
   },
   "source": [
    "# Mount Notebook to Google Drive\n",
    "Upload the data, pretrianed model, figures, etc to your Google Drive, then mount this notebook to Google Drive. After that, you can access the resources freely.\n",
    "\n",
    "Instruction: https://colab.research.google.com/notebooks/io.ipynb\n",
    "\n",
    "Example: https://colab.research.google.com/drive/1srw_HFWQ2SMgmWIawucXfusGzrj1_U0q\n",
    "\n",
    "Video: https://www.youtube.com/watch?v=zc8g8lGcwQU"
   ]
  },
  {
   "cell_type": "markdown",
   "metadata": {},
   "source": [
    "# Preprocessing of Data\n",
    "\n",
    "## Select records with ICD-VERSION = 10 from diagnosis_icd.csv"
   ]
  },
  {
   "cell_type": "code",
   "execution_count": 1,
   "metadata": {},
   "outputs": [
    {
     "name": "stdout",
     "output_type": "stream",
     "text": [
      "After preprocessing Data in diagnosis_icd\n",
      "   subject_id   hadm_id  seq_num icd_code icd_version\n",
      "40   10000084  23052089        1    G3183          10\n",
      "41   10000084  23052089        2    F0280          10\n",
      "42   10000084  23052089        3     R441          10\n"
     ]
    }
   ],
   "source": [
    "import csv\n",
    "import pandas as pd\n",
    "import torch\n",
    "\n",
    "\n",
    "data_df = pd.read_csv('./mimic-iv-2.2/hosp/diagnoses_icd.csv.gz', nrows=None, compression='gzip',\n",
    "            dtype={'subject_id': str, 'hadm_id': str, 'icd_code': str, 'icd_version': str},\n",
    "            on_bad_lines='skip')\n",
    "\n",
    "\n",
    "# Select records with ICD-VERSION =10\n",
    "\n",
    "data_df_icd_10 = data_df[data_df['icd_version'] == \"10\"]\n",
    "\n",
    "dir_path = './mimic-iv-2.2/hosp/diagnosis_icd10.csv'\n",
    "\n",
    "data_df_icd_10.to_csv(dir_path, index=False)\n",
    "\n",
    "print('After preprocessing Data in diagnosis_icd')\n",
    "print(data_df_icd_10.iloc[:3])\n"
   ]
  },
  {
   "cell_type": "markdown",
   "metadata": {},
   "source": [
    "# In Below Section we'll be showing 3 models:\n",
    "\n",
    "## Model-1 : Run Multilabel prediction using dataset with feature keys: Diagnosis code, procedure code and drugs prescribed.\n",
    "## Model-2 : Run Multilabel prediction using dataset with feature key - Diagnosis code.\n",
    "## Model-3 : Run Binary prediction using dataset with feature key - Diagnosis code."
   ]
  },
  {
   "cell_type": "markdown",
   "metadata": {},
   "source": [
    "# Dataset Preparation"
   ]
  },
  {
   "cell_type": "code",
   "execution_count": 2,
   "metadata": {},
   "outputs": [],
   "source": [
    "import warnings\n",
    "warnings.filterwarnings('ignore')\n",
    "\n",
    "from pyhealth.datasets import MIMIC4Dataset"
   ]
  },
  {
   "cell_type": "markdown",
   "metadata": {},
   "source": [
    "# Dataset with information such as diagnosis code, procedure code, prescription history of past visits of patients"
   ]
  },
  {
   "cell_type": "code",
   "execution_count": 3,
   "metadata": {},
   "outputs": [
    {
     "name": "stdout",
     "output_type": "stream",
     "text": [
      "\n",
      "Statistics of base dataset (dev=False):\n",
      "\t- Dataset: MIMIC4Dataset\n",
      "\t- Number of patients: 180733\n",
      "\t- Number of visits: 431231\n",
      "\t- Number of visits per patient: 2.3860\n",
      "\t- Number of events per visit in diagnoses_icd: 4.6134\n",
      "\t- Number of events per visit in procedures_icd: 1.5518\n",
      "\t- Number of events per visit in prescriptions: 54.2354\n",
      "\n"
     ]
    },
    {
     "data": {
      "text/plain": [
       "'\\nStatistics of base dataset (dev=False):\\n\\t- Dataset: MIMIC4Dataset\\n\\t- Number of patients: 180733\\n\\t- Number of visits: 431231\\n\\t- Number of visits per patient: 2.3860\\n\\t- Number of events per visit in diagnoses_icd: 4.6134\\n\\t- Number of events per visit in procedures_icd: 1.5518\\n\\t- Number of events per visit in prescriptions: 54.2354\\n'"
      ]
     },
     "execution_count": 3,
     "metadata": {},
     "output_type": "execute_result"
    }
   ],
   "source": [
    "# Dataset with Diagnosis code, procedure code and drugs prescribed\n",
    "mimic4_ds = MIMIC4Dataset(\n",
    "        root=\"./mimic-iv-2.2/hosp\",\n",
    "        tables=[\"diagnoses_icd\", \"procedures_icd\", \"prescriptions\"],\n",
    "        code_mapping={\"NDC\": (\"ATC\")},\n",
    "        refresh_cache=False,\n",
    ")\n",
    "\n",
    "# Show the statistics below.\n",
    "mimic4_ds.stat()"
   ]
  },
  {
   "cell_type": "markdown",
   "metadata": {},
   "source": [
    "# Dataset with information such as - diagnosis code history of past visits of patients"
   ]
  },
  {
   "cell_type": "code",
   "execution_count": 4,
   "metadata": {},
   "outputs": [
    {
     "name": "stdout",
     "output_type": "stream",
     "text": [
      "\n",
      "Statistics of base dataset (dev=False):\n",
      "\t- Dataset: MIMIC4Dataset\n",
      "\t- Number of patients: 180733\n",
      "\t- Number of visits: 431231\n",
      "\t- Number of visits per patient: 2.3860\n",
      "\t- Number of events per visit in diagnoses_icd: 4.6134\n",
      "\n"
     ]
    },
    {
     "data": {
      "text/plain": [
       "'\\nStatistics of base dataset (dev=False):\\n\\t- Dataset: MIMIC4Dataset\\n\\t- Number of patients: 180733\\n\\t- Number of visits: 431231\\n\\t- Number of visits per patient: 2.3860\\n\\t- Number of events per visit in diagnoses_icd: 4.6134\\n'"
      ]
     },
     "execution_count": 4,
     "metadata": {},
     "output_type": "execute_result"
    }
   ],
   "source": [
    "# Dataset with Diagnosis code\n",
    "mimic4_ds_diag = MIMIC4Dataset(\n",
    "        root=\"./mimic-iv-2.2/hosp\",\n",
    "        tables=[\"diagnoses_icd\"],\n",
    "        refresh_cache=False,\n",
    ")\n",
    "\n",
    "# Show the statistics below.\n",
    "mimic4_ds_diag.stat()"
   ]
  },
  {
   "cell_type": "markdown",
   "metadata": {},
   "source": [
    "# Task Functions"
   ]
  },
  {
   "cell_type": "markdown",
   "metadata": {},
   "source": [
    "## Task Function 1 - Task Function for diagnosis recommendation.\n",
    "## This function will create dataset sample to be used in diagnosis recommendation of future visits using past visit's history."
   ]
  },
  {
   "cell_type": "code",
   "execution_count": 5,
   "metadata": {},
   "outputs": [],
   "source": [
    "def condition_recommendation_mimic4_fn(patient):\n",
    "    samples = []\n",
    "    for visit in patient:\n",
    "\n",
    "        # step 1: obtain visit-level information, conditions, procedures, and drugs\n",
    "        conditions = visit.get_code_list(table=\"diagnoses_icd\")\n",
    "        procedures = visit.get_code_list(table=\"procedures_icd\")\n",
    "        drugs = visit.get_code_list(table=\"prescriptions\")\n",
    "      \n",
    "        # step 2: exclusion criteria: cohort selection\n",
    "        if len(conditions) * len(procedures) * len(drugs) == 0: continue\n",
    "\n",
    "        # step 3: assemble the sample\n",
    "        # REMEMBER: the key here will be the \"feature_keys\" and \"label_key\" for initializing the downstream model\n",
    "        samples.append(\n",
    "            {\n",
    "                \"visit_id\": visit.visit_id,\n",
    "                \"patient_id\": patient.patient_id,\n",
    "                \"condition_hist\": conditions,\n",
    "                \"procedures\": procedures,\n",
    "                \"drugs\": drugs,\n",
    "                \"condition\": conditions,\n",
    "            }\n",
    "        )\n",
    "\n",
    "    # step 4: patient-level cohort selection and other process\n",
    "    # exclude patients with less than 2 visit\n",
    "    if len(samples) < 2:\n",
    "        return []\n",
    "\n",
    "    \"\"\" \n",
    "    Add historical visit (use \"conditions\" key as an example)\n",
    "        before this step:\n",
    "            samples[0][\"conditions\"]: 1st visit\n",
    "            samples[1][\"conditions\"]: 2nd visit\n",
    "            samples[2][\"conditions\"]: 3rd visit\n",
    "            ...\n",
    "        \n",
    "        after this step:\n",
    "            samples[0][\"conditions\"]: [1st visit]\n",
    "            samples[1][\"conditions\"]: [1st visit, 2nd visit]\n",
    "            samples[2][\"conditions\"]: [1st visit, 2nd visit, 3rd visit]\n",
    "            ...\n",
    "    \"\"\"\n",
    "    # Note - For first visit - condition and condition history both will be empty list\n",
    "    samples[0][\"condition\"] = []\n",
    "    samples[0][\"condition_hist\"] = [samples[0][\"condition_hist\"]]\n",
    "    samples[0][\"procedures\"] = [samples[0][\"procedures\"]]\n",
    "    samples[0][\"drugs\"] = [samples[0][\"drugs\"]]\n",
    "\n",
    "    for i in range(1, len(samples)):\n",
    "        samples[i][\"condition_hist\"] = samples[i - 1][\"condition_hist\"] + [\n",
    "            samples[i][\"condition_hist\"]\n",
    "        ]\n",
    "        samples[i][\"procedures\"] = samples[i - 1][\"procedures\"] + [\n",
    "            samples[i][\"procedures\"]\n",
    "        ]\n",
    "        samples[i][\"drugs\"] = samples[i - 1][\"drugs\"] + [\n",
    "            samples[i][\"drugs\"]\n",
    "        ]\n",
    " \n",
    "    for i in range(len(samples)):\n",
    "        samples[i][\"condition_hist\"][i] = []\n",
    "\n",
    "    return samples"
   ]
  },
  {
   "cell_type": "markdown",
   "metadata": {},
   "source": [
    "## Task Function 2 - Task Function for diagnosis recommendation using only history of diagnosis from past visits..\n",
    "## This function will create dataset sample to be used in diagnosis recommendation of future visits using past visit's history."
   ]
  },
  {
   "cell_type": "code",
   "execution_count": 6,
   "metadata": {},
   "outputs": [],
   "source": [
    "def condition_recommendation_mimic4_fn_diag(patient):\n",
    "    samples = []\n",
    "    for visit in patient:\n",
    "\n",
    "        # step 1: obtain visit-level information, conditions, procedures, and drugs\n",
    "        conditions = visit.get_code_list(table=\"diagnoses_icd\")\n",
    "\n",
    "        # step 2: exclusion criteria: cohort selection\n",
    "        if len(conditions) == 0: continue\n",
    "\n",
    "        # step 3: assemble the sample\n",
    "        # REMEMBER: the key here will be the \"feature_keys\" and \"label_key\" for initializing the downstream model\n",
    "        samples.append(\n",
    "            {\n",
    "                \"visit_id\": visit.visit_id,\n",
    "                \"patient_id\": patient.patient_id,\n",
    "                \"condition_hist\": conditions,\n",
    "                \"condition\": conditions,\n",
    "            }\n",
    "        )\n",
    "\n",
    "    # step 4: patient-level cohort selection and other process\n",
    "    # exclude patients with less than 2 visit\n",
    "    if len(samples) < 2:\n",
    "        return []\n",
    "\n",
    "    \"\"\" \n",
    "    Add historical visit (use \"conditions\" key as an example)\n",
    "        before this step:\n",
    "            samples[0][\"conditions\"]: 1st visit\n",
    "            samples[1][\"conditions\"]: 2nd visit\n",
    "            samples[2][\"conditions\"]: 3rd visit\n",
    "            ...\n",
    "        \n",
    "        after this step:\n",
    "            samples[0][\"conditions\"]: [1st visit]\n",
    "            samples[1][\"conditions\"]: [1st visit, 2nd visit]\n",
    "            samples[2][\"conditions\"]: [1st visit, 2nd visit, 3rd visit]\n",
    "            ...\n",
    "    \"\"\"\n",
    "    # Note - For first visit - condition and condition history both will be empty list\n",
    "    samples[0][\"condition\"] = []\n",
    "    samples[0][\"condition_hist\"] = [samples[0][\"condition_hist\"]]\n",
    "\n",
    "    for i in range(1, len(samples)):\n",
    "        samples[i][\"condition_hist\"] = samples[i - 1][\"condition_hist\"] + [\n",
    "            samples[i][\"condition_hist\"]\n",
    "        ]\n",
    "\n",
    "    for i in range(len(samples)):\n",
    "        samples[i][\"condition_hist\"][i] = []\n",
    "\n",
    "    return samples"
   ]
  },
  {
   "cell_type": "markdown",
   "metadata": {},
   "source": [
    "## Task Function 3 - Task Function for diagnosis recommendation related to Pancreatic Cancer using only history of diagnosis from past visits.\n",
    "## This function will create dataset sample to be used in diagnosis recommendation of future visits using past visit's history."
   ]
  },
  {
   "cell_type": "code",
   "execution_count": 7,
   "metadata": {},
   "outputs": [],
   "source": [
    "def condition_recommendation_mimic4_fn_diag_c25(patient):\n",
    "    samples = []\n",
    "    for visit in patient:\n",
    "\n",
    "        # step 1: obtain visit-level information, conditions, procedures, and drugs\n",
    "        conditions = visit.get_code_list(table=\"diagnoses_icd\")\n",
    "\n",
    "        c25_cond = 0\n",
    "\n",
    "        for condition in conditions:\n",
    "            if condition[:3] != 'C25': continue\n",
    "            else:\n",
    "                c25_cond = 1\n",
    "\n",
    "\n",
    "        # step 2: exclusion criteria: cohort selection\n",
    "       \n",
    "        if len(conditions) == 0: continue\n",
    "            \n",
    "\n",
    "        # step 3: assemble the sample\n",
    "        # REMEMBER: the key here will be the \"feature_keys\" and \"label_key\" for initializing the downstream model\n",
    "        # Set label to True if any diagnosis code start with 'C25' present in visit history.\n",
    "        samples.append(\n",
    "            {\n",
    "                \"visit_id\": visit.visit_id,\n",
    "                \"patient_id\": patient.patient_id,\n",
    "                \"condition_hist\": conditions,\n",
    "                \"label\": c25_cond,\n",
    "            }\n",
    "        )\n",
    "\n",
    "    # step 4: patient-level cohort selection and other process\n",
    "    # exclude patients with less than 2 visit\n",
    "    if len(samples) < 2:\n",
    "        return []\n",
    "\n",
    "    \"\"\" \n",
    "    Add historical visit (use \"conditions\" key as an example)\n",
    "        before this step:\n",
    "            samples[0][\"conditions\"]: 1st visit\n",
    "            samples[1][\"conditions\"]: 2nd visit\n",
    "            samples[2][\"conditions\"]: 3rd visit\n",
    "            ...\n",
    "        \n",
    "        after this step:\n",
    "            samples[0][\"conditions\"]: [1st visit]\n",
    "            samples[1][\"conditions\"]: [1st visit, 2nd visit]\n",
    "            samples[2][\"conditions\"]: [1st visit, 2nd visit, 3rd visit]\n",
    "            ...\n",
    "    \"\"\"\n",
    "\n",
    "    samples[0][\"condition_hist\"] = [samples[0][\"condition_hist\"]]\n",
    "\n",
    "    for i in range(1, len(samples)):\n",
    "        samples[i][\"condition_hist\"] = samples[i - 1][\"condition_hist\"] + [\n",
    "            samples[i][\"condition_hist\"]\n",
    "        ]\n",
    "\n",
    "    return samples"
   ]
  },
  {
   "cell_type": "markdown",
   "metadata": {},
   "source": [
    "## Task Functions to create Test Datasets "
   ]
  },
  {
   "cell_type": "markdown",
   "metadata": {},
   "source": [
    "## Task Function 4 - Task Function for diagnosis recommendation related to Pancreatic Cancer using history of Diagnosis, Procedure and Drugs Prescribed from past visits.\n",
    "## This function will create test dataset sample to be used in diagnosis recommendation of future visits using past visit's history."
   ]
  },
  {
   "cell_type": "code",
   "execution_count": 8,
   "metadata": {},
   "outputs": [],
   "source": [
    "def condition_recommendation_mimic4_fn_c25(patient):\n",
    "    samples = []\n",
    "    for visit in patient:\n",
    "\n",
    "        # step 1: obtain visit-level information, conditions, procedures, and drugs\n",
    "        conditions = visit.get_code_list(table=\"diagnoses_icd\")\n",
    "        procedures = visit.get_code_list(table=\"procedures_icd\")\n",
    "        drugs = visit.get_code_list(table=\"prescriptions\")\n",
    "\n",
    "        # step 2: Select visits with diagnosis code starts with C25\n",
    "        c25_cond ='n'\n",
    "\n",
    "        for condition in conditions:\n",
    "            if condition[:3] != 'C25': continue\n",
    "            else:\n",
    "                c25_cond = 'y'\n",
    "        if c25_cond == 'n':\n",
    "            conditions = []\n",
    "\n",
    "\n",
    "        # step 3: exclusion criteria: cohort selection\n",
    "\n",
    "        if len(conditions) * len(procedures) * len(drugs) == 0: continue\n",
    "\n",
    "        # step 4: assemble the sample\n",
    "        # REMEMBER: the key here will be the \"feature_keys\" and \"label_key\" for initializing the downstream model\n",
    "        samples.append(\n",
    "            {\n",
    "                \"visit_id\": visit.visit_id,\n",
    "                \"patient_id\": patient.patient_id,\n",
    "                \"condition_hist\": conditions,\n",
    "                \"procedures\": procedures,\n",
    "                \"drugs\": drugs,\n",
    "                \"condition\": conditions,\n",
    "            }\n",
    "        )\n",
    "\n",
    "    # step 5: patient-level cohort selection and other process\n",
    "    # exclude patients with less than 2 visit\n",
    "    if len(samples) < 2:\n",
    "        return []\n",
    "\n",
    "    \"\"\" \n",
    "    Add historical visit (use \"conditions\" key as an example)\n",
    "        before this step:\n",
    "            samples[0][\"conditions\"]: 1st visit\n",
    "            samples[1][\"conditions\"]: 2nd visit\n",
    "            samples[2][\"conditions\"]: 3rd visit\n",
    "            ...\n",
    "        \n",
    "        after this step:\n",
    "            samples[0][\"conditions\"]: [1st visit]\n",
    "            samples[1][\"conditions\"]: [1st visit, 2nd visit]\n",
    "            samples[2][\"conditions\"]: [1st visit, 2nd visit, 3rd visit]\n",
    "            ...\n",
    "    \"\"\"\n",
    "    samples[0][\"condition\"] = []\n",
    "    samples[0][\"condition_hist\"] = [samples[0][\"condition_hist\"]]\n",
    "    samples[0][\"procedures\"] = [samples[0][\"procedures\"]]\n",
    "    samples[0][\"drugs\"] = [samples[0][\"drugs\"]]\n",
    "\n",
    "    for i in range(1, len(samples)):\n",
    "        samples[i][\"condition_hist\"] = samples[i - 1][\"condition_hist\"] + [\n",
    "            samples[i][\"condition_hist\"]\n",
    "        ]\n",
    "        samples[i][\"procedures\"] = samples[i - 1][\"procedures\"] + [\n",
    "            samples[i][\"procedures\"]\n",
    "        ]\n",
    "        samples[i][\"drugs\"] = samples[i - 1][\"drugs\"] + [\n",
    "            samples[i][\"drugs\"]\n",
    "        ]\n",
    "\n",
    "    for i in range(len(samples)):\n",
    "        samples[i][\"condition_hist\"][i] = []\n",
    "\n",
    "    return samples"
   ]
  },
  {
   "cell_type": "markdown",
   "metadata": {},
   "source": [
    "## Task Function 5 - Task Function for diagnosis recommendation related to Pancreatic Cancer using only history of diagnosis from past visits. This will add data samples with and without Pancreatic Cancer Diagnosis. So that model performance will be done more accurately.\n",
    "## This function will create test dataset sample to be used in diagnosis recommendation of future visits using past visit's history."
   ]
  },
  {
   "cell_type": "code",
   "execution_count": 9,
   "metadata": {},
   "outputs": [],
   "source": [
    "def condition_recommendation_mimic4_fn_c25_test(patient):\n",
    "    samples = []\n",
    "\n",
    "    for visit in patient:\n",
    "\n",
    "        # step 1: obtain visit-level information, conditions, procedures, and drugs\n",
    "        conditions = visit.get_code_list(table=\"diagnoses_icd\")\n",
    "\n",
    "        # step 2: Select mixed samples. \n",
    "        #   Select visit data with atleast 2 visits has diagnosis code starts with 'C25'. \n",
    "\n",
    "        c25_cond =0\n",
    "\n",
    "        if len(samples) < 3:\n",
    "\n",
    "            for condition in conditions:\n",
    "                if condition[:3] != 'C25': continue\n",
    "                else:\n",
    "                    c25_cond = 1\n",
    "            if c25_cond == 0:\n",
    "                conditions = []\n",
    "\n",
    "\n",
    "        # step 3: exclusion criteria: cohort selection\n",
    "        if len(conditions) == 0: continue\n",
    "\n",
    "        # step 3: assemble the sample\n",
    "        # REMEMBER: the key here will be the \"feature_keys\" and \"label_key\" for initializing the downstream model\n",
    "        samples.append(\n",
    "            {\n",
    "                \"visit_id\": visit.visit_id,\n",
    "                \"patient_id\": patient.patient_id,\n",
    "                \"condition_hist\": conditions,\n",
    "                \"label\": c25_cond,\n",
    "            }\n",
    "        )\n",
    "\n",
    "    # step 4: patient-level cohort selection and other process\n",
    "    # exclude patients with less than 2 visit\n",
    "    if len(samples) < 2:\n",
    "        return []\n",
    "\n",
    "    \"\"\" \n",
    "    Add historical visit (use \"conditions\" key as an example)\n",
    "        before this step:\n",
    "            samples[0][\"conditions\"]: 1st visit\n",
    "            samples[1][\"conditions\"]: 2nd visit\n",
    "            samples[2][\"conditions\"]: 3rd visit\n",
    "            ...\n",
    "        \n",
    "        after this step:\n",
    "            samples[0][\"conditions\"]: [1st visit]\n",
    "            samples[1][\"conditions\"]: [1st visit, 2nd visit]\n",
    "            samples[2][\"conditions\"]: [1st visit, 2nd visit, 3rd visit]\n",
    "            ...\n",
    "    \"\"\"\n",
    "\n",
    "    samples[0][\"condition_hist\"] = [samples[0][\"condition_hist\"]]\n",
    "    \n",
    "    for i in range(1, len(samples)):\n",
    "        samples[i][\"condition_hist\"] = samples[i - 1][\"condition_hist\"] + [\n",
    "            samples[i][\"condition_hist\"] ]\n",
    "\n",
    "    return samples"
   ]
  },
  {
   "cell_type": "markdown",
   "metadata": {
    "id": "ABD4VhFZbehA"
   },
   "source": [
    "\n",
    "# Create Training, Valuation and Test Datasets and Dataloaders"
   ]
  },
  {
   "cell_type": "markdown",
   "metadata": {},
   "source": [
    "## Create datasets and dataloaders for Model - 1 using Task Function 1 - \"condition_recommendation_mimic4_fn\""
   ]
  },
  {
   "cell_type": "code",
   "execution_count": 10,
   "metadata": {},
   "outputs": [],
   "source": [
    "import numpy as np\n",
    "from pyhealth.datasets.splitter import split_by_patient\n",
    "from pyhealth.datasets import split_by_patient, get_dataloader\n",
    "\n",
    "np.random.seed(1234)"
   ]
  },
  {
   "cell_type": "code",
   "execution_count": 11,
   "metadata": {},
   "outputs": [
    {
     "name": "stderr",
     "output_type": "stream",
     "text": [
      "Generating samples for condition_recommendation_mimic4_fn: 100%|████████████████████████████████████████████████████████████| 180733/180733 [00:47<00:00, 3820.66it/s]\n"
     ]
    },
    {
     "name": "stdout",
     "output_type": "stream",
     "text": [
      "For Model 1 - Sample data 1\n",
      "{'visit_id': '26840593', 'patient_id': '10001401', 'condition_hist': [['C675', 'I10', 'D259', 'Z87891', 'E785', 'E890'], []], 'procedures': [['0TTB4ZZ', '07BC4ZX', '0UT9FZZ', '0UTC7ZZ', '0UT2FZZ', '0UBG4ZZ', '0T1807C', '8E0W4CZ'], ['02HV33Z', '3E0436Z', '0W9J30Z']], 'drugs': [['B01AB01', 'A06AA02', 'N02BE01', 'G01AF20', 'N02AA01', 'M01AB15', 'J01XD01', 'J01DB04', 'A04AA01', 'H03AA01', 'B05BA03', 'C05BB56', 'N02AA05', 'N02AA03', 'C10AA05', 'A02BC02', 'B01AB05', 'R02AX02', 'M01AE01', 'A02AB01', 'A02AB02', 'A02AA04', 'G04BX01', 'A06AB02', 'A06AD10', 'A06AG02', 'R06AD02', 'B05XA03', 'N02BE05', 'D08AE03', 'R02AD01', 'J01XE01'], ['B01AB05', 'B05BA03', 'C05BB56', 'H03AA01', 'B01AB01', 'C01BB01', 'N02BE01', 'N02BE05', 'A02BC02', 'D08AE03', 'C05AD01', 'D04AB01', 'N05BA06', 'N02AA03', 'A03FA01', 'M01AB15', 'B05XA03', 'J01DD04', 'A06AB02', 'A06AD10', 'A06AG02', 'A02BC01', 'J01EE01', 'A06AA02', 'J01MA02', 'A06AB06', 'P01AB01', 'A09AA01', 'A08AA56', 'G04BE52', 'N02AA59', 'H03AA05', 'B03BA51', 'D01AE20', 'D11AC30', 'C05AX04', 'A07XA03', 'G01AF20', 'C02AA04', 'C03AB01', 'C02LA08', 'C02LA50', 'J01CA20', 'J01CR50', 'A11CC55', 'A12AA20', 'R06AD52', 'C02LA01', 'B03AD02', 'S03AA30', 'A06AD65', 'A12BA30', 'C10AD52', 'S01XA20', 'R03DA54', 'D11AC08', 'R06AA52', 'V03AF11', 'A01AA30', 'A01AA51', 'C02AA52', 'C02AA57', 'C02LA71', 'A06AB58', 'A07FA01', 'A07FA51', 'A12BA51', 'A12CD51', 'B03AE01', 'B03AE10', 'B03BB51', 'B05BA01', 'B05BA10', 'B05BB01', 'B05BB02', 'B05XA06', 'B05XA30', 'B05XA31', 'C05BX51', 'C05CA51', 'D05BX51', 'D07AB30', 'D07XB30', 'R03DA20', 'R07AB52', 'N01BA52', 'N02BB51', 'N02BB71', 'N05CX02', 'B05BB04', 'D09AB01', 'D09AB02', 'C01AA52', 'A06AB52', 'D07XB05', 'B05BA02', 'N02CA52', 'C01DA52', 'A06AB57', 'A07BC30', 'G03GA30', 'R03DA51', 'R03DA57', 'A03BB06', 'A03CB04', 'C05CA54', 'C01DA55', 'B05CB10', 'C01AB51', 'C02LA02', 'C02LA51', 'C02LA52', 'C02LG01', 'C02LG51', 'C03AB02', 'C03AB03', 'C03AB04', 'C03AB05', 'C03AB06', 'C03AB07', 'C03AB08', 'C03AB09', 'C03AH02', 'C03AX01', 'C03BA82', 'C03BB02', 'C03BB03', 'C03BB04', 'C03BB05', 'C03BB07', 'C03CB01', 'C03CB02', 'D08AC52', 'R06AD55', 'R07AB53', 'A06AX02', 'A06AG20', 'V03AG05', 'A06AD17', 'A06AG01', 'B05XA09', 'J01XD01']], 'condition': ['T814XXA', 'K651', 'N179', 'I82412', 'C679', 'I10', 'B966', 'R7881', 'Y838', 'Y9289', 'F17210', 'Z436', 'Z90710', 'D72829', 'Z96652']}\n",
      "For Model 1 - Sample data 2\n",
      "{'visit_id': '27012892', 'patient_id': '10001401', 'condition_hist': [['C675', 'I10', 'D259', 'Z87891', 'E785', 'E890'], ['T814XXA', 'K651', 'N179', 'I82412', 'C679', 'I10', 'B966', 'R7881', 'Y838', 'Y9289', 'F17210', 'Z436', 'Z90710', 'D72829', 'Z96652'], []], 'procedures': [['0TTB4ZZ', '07BC4ZX', '0UT9FZZ', '0UTC7ZZ', '0UT2FZZ', '0UBG4ZZ', '0T1807C', '8E0W4CZ'], ['02HV33Z', '3E0436Z', '0W9J30Z'], ['0T948ZX', '0TB68ZX', '0T783DZ', '02HV33Z']], 'drugs': [['B01AB01', 'A06AA02', 'N02BE01', 'G01AF20', 'N02AA01', 'M01AB15', 'J01XD01', 'J01DB04', 'A04AA01', 'H03AA01', 'B05BA03', 'C05BB56', 'N02AA05', 'N02AA03', 'C10AA05', 'A02BC02', 'B01AB05', 'R02AX02', 'M01AE01', 'A02AB01', 'A02AB02', 'A02AA04', 'G04BX01', 'A06AB02', 'A06AD10', 'A06AG02', 'R06AD02', 'B05XA03', 'N02BE05', 'D08AE03', 'R02AD01', 'J01XE01'], ['B01AB05', 'B05BA03', 'C05BB56', 'H03AA01', 'B01AB01', 'C01BB01', 'N02BE01', 'N02BE05', 'A02BC02', 'D08AE03', 'C05AD01', 'D04AB01', 'N05BA06', 'N02AA03', 'A03FA01', 'M01AB15', 'B05XA03', 'J01DD04', 'A06AB02', 'A06AD10', 'A06AG02', 'A02BC01', 'J01EE01', 'A06AA02', 'J01MA02', 'A06AB06', 'P01AB01', 'A09AA01', 'A08AA56', 'G04BE52', 'N02AA59', 'H03AA05', 'B03BA51', 'D01AE20', 'D11AC30', 'C05AX04', 'A07XA03', 'G01AF20', 'C02AA04', 'C03AB01', 'C02LA08', 'C02LA50', 'J01CA20', 'J01CR50', 'A11CC55', 'A12AA20', 'R06AD52', 'C02LA01', 'B03AD02', 'S03AA30', 'A06AD65', 'A12BA30', 'C10AD52', 'S01XA20', 'R03DA54', 'D11AC08', 'R06AA52', 'V03AF11', 'A01AA30', 'A01AA51', 'C02AA52', 'C02AA57', 'C02LA71', 'A06AB58', 'A07FA01', 'A07FA51', 'A12BA51', 'A12CD51', 'B03AE01', 'B03AE10', 'B03BB51', 'B05BA01', 'B05BA10', 'B05BB01', 'B05BB02', 'B05XA06', 'B05XA30', 'B05XA31', 'C05BX51', 'C05CA51', 'D05BX51', 'D07AB30', 'D07XB30', 'R03DA20', 'R07AB52', 'N01BA52', 'N02BB51', 'N02BB71', 'N05CX02', 'B05BB04', 'D09AB01', 'D09AB02', 'C01AA52', 'A06AB52', 'D07XB05', 'B05BA02', 'N02CA52', 'C01DA52', 'A06AB57', 'A07BC30', 'G03GA30', 'R03DA51', 'R03DA57', 'A03BB06', 'A03CB04', 'C05CA54', 'C01DA55', 'B05CB10', 'C01AB51', 'C02LA02', 'C02LA51', 'C02LA52', 'C02LG01', 'C02LG51', 'C03AB02', 'C03AB03', 'C03AB04', 'C03AB05', 'C03AB06', 'C03AB07', 'C03AB08', 'C03AB09', 'C03AH02', 'C03AX01', 'C03BA82', 'C03BB02', 'C03BB03', 'C03BB04', 'C03BB05', 'C03BB07', 'C03CB01', 'C03CB02', 'D08AC52', 'R06AD55', 'R07AB53', 'A06AX02', 'A06AG20', 'V03AG05', 'A06AD17', 'A06AG01', 'B05XA09', 'J01XD01'], ['B05XA03', 'J01CA01', 'H03AA01', 'A06AA02', 'A06AD15', 'B01AB01', 'N02BE51', 'N02BE01', 'J07BB02', 'B03BA01', 'N05CH02', 'J01DD02', 'J01XA01', 'N05BA06', 'J01DD04', 'C10AA05', 'C01BB01']], 'condition': ['T8140XA', 'A4181', 'R6520', 'N179', 'N1330', 'N12', 'T8144XA', 'Z936', 'I10', 'E785', 'E039', 'Z87891', 'Z8551', 'Z86718', 'Y848', 'Y92239']}\n"
     ]
    }
   ],
   "source": [
    "dataset = mimic4_ds.set_task(task_fn=condition_recommendation_mimic4_fn)\n",
    "\n",
    "print ('For Model 1 - Sample data 1')\n",
    "print(dataset.samples[1])\n",
    "print ('For Model 1 - Sample data 2')\n",
    "print(dataset.samples[2])\n",
    "\n",
    "# data split\n",
    "train_dataset, val_dataset, test_dataset = split_by_patient(dataset, [0.8, 0.1, 0.1])\n",
    "\n",
    "# create dataloaders (they are <torch.data.DataLoader> object)\n",
    "train_loader = get_dataloader(train_dataset, batch_size=64, shuffle=True)\n",
    "val_loader = get_dataloader(val_dataset, batch_size=64, shuffle=False)\n",
    "test_loader = get_dataloader(test_dataset, batch_size=64, shuffle=False)"
   ]
  },
  {
   "cell_type": "markdown",
   "metadata": {},
   "source": [
    "## Create datasets and dataloaders for Model - 2 using Task Function 2 - \"condition_recommendation_mimic4_fn_diag\""
   ]
  },
  {
   "cell_type": "code",
   "execution_count": 12,
   "metadata": {},
   "outputs": [
    {
     "name": "stderr",
     "output_type": "stream",
     "text": [
      "Generating samples for condition_recommendation_mimic4_fn_diag: 100%|█████████████████████████████████████████████████████| 180733/180733 [00:01<00:00, 124644.90it/s]\n"
     ]
    },
    {
     "name": "stdout",
     "output_type": "stream",
     "text": [
      "For Model 2 - Sample data 1\n",
      "{'visit_id': '29888819', 'patient_id': '10000084', 'condition_hist': [['G3183', 'F0280', 'R441', 'R296', 'E785', 'Z8546'], []], 'condition': ['R4182', 'G20', 'F0280', 'R609', 'E785', 'Z8546']}\n",
      "For Model 2 - Sample data 2\n",
      "{'visit_id': '22927623', 'patient_id': '10000117', 'condition_hist': [[]], 'condition': []}\n"
     ]
    }
   ],
   "source": [
    "dataset_diag = mimic4_ds_diag.set_task(task_fn=condition_recommendation_mimic4_fn_diag)\n",
    "\n",
    "print ('For Model 2 - Sample data 1')\n",
    "print(dataset_diag.samples[1])\n",
    "print ('For Model 2 - Sample data 2')\n",
    "print(dataset_diag.samples[2])\n",
    "\n",
    "# data split\n",
    "train_dataset_diag, val_dataset_diag, test_dataset_diag = split_by_patient(dataset_diag, [0.8, 0.1, 0.1])\n",
    "\n",
    "# create dataloaders (they are <torch.data.DataLoader> object)\n",
    "train_loader_diag = get_dataloader(train_dataset_diag, batch_size=64, shuffle=True)\n",
    "val_loader_diag = get_dataloader(val_dataset_diag, batch_size=64, shuffle=False)\n",
    "test_loader_diag = get_dataloader(test_dataset_diag, batch_size=64, shuffle=False)"
   ]
  },
  {
   "cell_type": "markdown",
   "metadata": {},
   "source": [
    "## Create datasets and dataloaders for Model - 3 using Task Function 3 - \"condition_recommendation_mimic4_fn_diag_c25\""
   ]
  },
  {
   "cell_type": "code",
   "execution_count": 13,
   "metadata": {},
   "outputs": [
    {
     "name": "stderr",
     "output_type": "stream",
     "text": [
      "Generating samples for condition_recommendation_mimic4_fn_diag_c25: 100%|█████████████████████████████████████████████████| 180733/180733 [00:00<00:00, 216526.82it/s]\n"
     ]
    },
    {
     "name": "stdout",
     "output_type": "stream",
     "text": [
      "For Model 3 - Sample data 1\n",
      "{'visit_id': '29888819', 'patient_id': '10000084', 'condition_hist': [['G3183', 'F0280', 'R441', 'R296', 'E785', 'Z8546'], ['R4182', 'G20', 'F0280', 'R609', 'E785', 'Z8546']], 'label': 0}\n",
      "For Model 3 - Sample data 2\n",
      "{'visit_id': '22927623', 'patient_id': '10000117', 'condition_hist': [['R1310', 'R0989', 'K31819', 'K219', 'K449', 'F419', 'I341', 'M810', 'Z87891']], 'label': 0}\n"
     ]
    }
   ],
   "source": [
    "dataset_diag_c25 = mimic4_ds_diag.set_task(task_fn=condition_recommendation_mimic4_fn_diag_c25)\n",
    "\n",
    "\n",
    "print ('For Model 3 - Sample data 1')\n",
    "print(dataset_diag_c25.samples[1])\n",
    "print ('For Model 3 - Sample data 2')\n",
    "print(dataset_diag_c25.samples[2])\n",
    "\n",
    "# data split\n",
    "train_dataset_diag_c25, val_dataset_diag_c25, test_dataset_diag_c25 = split_by_patient(dataset_diag_c25, [0.8, 0.1, 0.1])\n",
    "\n",
    "# create dataloaders (they are <torch.data.DataLoader> object)\n",
    "train_loader_diag_c25 = get_dataloader(train_dataset_diag_c25, batch_size=64, shuffle=True)\n",
    "val_loader_diag_c25 = get_dataloader(val_dataset_diag_c25, batch_size=64, shuffle=False)\n",
    "test_loader_diag_c25 = get_dataloader(test_dataset_diag_c25, batch_size=64, shuffle=False)"
   ]
  },
  {
   "cell_type": "markdown",
   "metadata": {},
   "source": [
    "## Create Test datasets and dataloaders for Model - 1 using Task Function 4 - \"condition_recommendation_mimic4_fn_c25\""
   ]
  },
  {
   "cell_type": "code",
   "execution_count": 14,
   "metadata": {},
   "outputs": [
    {
     "name": "stderr",
     "output_type": "stream",
     "text": [
      "Generating samples for condition_recommendation_mimic4_fn_c25: 100%|███████████████████████████████████████████████████████| 180733/180733 [00:05<00:00, 35676.70it/s]"
     ]
    },
    {
     "name": "stdout",
     "output_type": "stream",
     "text": [
      "For Model 1 - Sample Test data 1\n",
      "{'visit_id': '25589898', 'patient_id': '10006431', 'condition_hist': [['G893', 'Z66', 'K8580', 'E43', 'C250', 'C787', 'C7900', 'I959', 'K219', 'Z681', 'I10', 'E049', 'E7800', 'K5900'], []], 'procedures': [['3E0T3GC'], ['0FBG3ZX']], 'drugs': [['N02AA03', 'A06AB06', 'A06AA02', 'G01AF20', 'A06AD15', 'C09AA03', 'B05XA01', 'A12CC02', 'B05XA05', 'V04CC02', 'B01AB01', 'N05AB04', 'A04AA01', 'A02BC03', 'N05AA01', 'N02AA05', 'A06AB02', 'A06AD10', 'A06AG02', 'B05BA03', 'C05BB56', 'B05XA03', 'N02BE51', 'N02BE01', 'C05AD01', 'D04AB01', 'A02AA04', 'G04BX01'], ['G01AF20', 'N02AA01', 'A04AA01', 'B01AB01', 'C09AA03', 'C10AC01', 'A02BC01', 'A11DA01', 'A12BA01', 'A06AA02', 'A06AB06', 'A06AD15']], 'condition': ['C250', 'H905', 'I10', 'E042', 'K838', 'L298', 'K219', 'D509', 'G4700', 'Z800']}\n",
      "Test Sample size:  699\n"
     ]
    },
    {
     "name": "stderr",
     "output_type": "stream",
     "text": [
      "\n"
     ]
    }
   ],
   "source": [
    "dataset_c25 = mimic4_ds.set_task(task_fn=condition_recommendation_mimic4_fn_c25)\n",
    "\n",
    "print ('For Model 1 - Sample Test data 1')\n",
    "print(dataset_c25.samples[1])\n",
    "print('Test Sample size: ', len(dataset_c25))\n",
    "\n",
    "test_loader_c25 = get_dataloader(dataset_c25, batch_size=64, shuffle=False)"
   ]
  },
  {
   "cell_type": "markdown",
   "metadata": {},
   "source": [
    "## Create Test datasets and dataloaders for Model - 3 using Task Function 5 - \"condition_recommendation_mimic4_fn_c25_test\""
   ]
  },
  {
   "cell_type": "code",
   "execution_count": 15,
   "metadata": {},
   "outputs": [
    {
     "name": "stderr",
     "output_type": "stream",
     "text": [
      "Generating samples for condition_recommendation_mimic4_fn_c25_test: 100%|█████████████████████████████████████████████████| 180733/180733 [00:01<00:00, 106893.15it/s]"
     ]
    },
    {
     "name": "stdout",
     "output_type": "stream",
     "text": [
      "For Model 3 - Sample Test data 1\n",
      "{'visit_id': '25426298', 'patient_id': '10006029', 'condition_hist': [['N179', 'C221', 'C259', 'C7802', 'C7801', 'I10', 'E785', 'F419', 'N400', 'I129', 'E1122', 'N189', 'Z7984', 'Z87891', 'T464X5A', 'Y929', 'D6481', 'T451X5A', 'E039', 'Z794', 'Z905', 'I959', 'E860', 'Z7901'], ['C786', 'E43', 'C250', 'C787', 'C781', 'C771', 'N179', 'E871', 'G893', 'K8681', 'Z85528', 'Z8589', 'Z905', 'Z66', 'Z515', 'E1122', 'I129', 'N189', 'Z794', 'E7849', 'N400', 'K529', 'Z87891', 'K117', 'D630', 'E860', 'Z6826', 'Z7902', 'B001', 'F419', 'G4700', 'R739', 'T380X5A', 'Y92230', 'K5900']], 'label': 1}\n",
      "Test Sample size:  1295\n"
     ]
    },
    {
     "name": "stderr",
     "output_type": "stream",
     "text": [
      "\n"
     ]
    }
   ],
   "source": [
    "dataset_c25_test = mimic4_ds_diag.set_task(task_fn=condition_recommendation_mimic4_fn_c25_test)\n",
    "\n",
    "print ('For Model 3 - Sample Test data 1')\n",
    "print(dataset_c25_test.samples[1])\n",
    "print('Test Sample size: ', len(dataset_c25_test))\n",
    "\n",
    "test_loader_c25_test = get_dataloader(dataset_c25_test, batch_size=64, shuffle=False)"
   ]
  },
  {
   "cell_type": "markdown",
   "metadata": {},
   "source": [
    "# Model Details"
   ]
  },
  {
   "cell_type": "markdown",
   "metadata": {},
   "source": [
    "## Model 1 : Multilabel Recommendation with dataset with feature keys # Diagnostic history, Procedure History and Drugs prescribed history"
   ]
  },
  {
   "cell_type": "code",
   "execution_count": 16,
   "metadata": {},
   "outputs": [],
   "source": [
    "from pyhealth.models import Transformer\n"
   ]
  },
  {
   "cell_type": "code",
   "execution_count": 17,
   "metadata": {},
   "outputs": [],
   "source": [
    "model = Transformer(\n",
    "    dataset = dataset,\n",
    "    feature_keys =[\"condition_hist\",\n",
    "                  \"procedures\",\n",
    "                  \"drugs\",\n",
    "                  ],\n",
    "    label_key = \"condition\",\n",
    "    mode = \"multilabel\"\n",
    ")"
   ]
  },
  {
   "cell_type": "markdown",
   "metadata": {},
   "source": [
    "## Model 2 : Multilabel Recommendation with dataset with feature keys # Diagnostics history"
   ]
  },
  {
   "cell_type": "code",
   "execution_count": 18,
   "metadata": {},
   "outputs": [],
   "source": [
    "model_diag = Transformer(\n",
    "    dataset = dataset_diag,\n",
    "    feature_keys =[\"condition_hist\",],\n",
    "    label_key = \"condition\",\n",
    "    mode = \"multilabel\"\n",
    ")"
   ]
  },
  {
   "cell_type": "markdown",
   "metadata": {},
   "source": [
    "## Model 3 : Pancreatic Cancer Recommendation with dataset with feature keys # Diagnostics history"
   ]
  },
  {
   "cell_type": "code",
   "execution_count": 19,
   "metadata": {},
   "outputs": [],
   "source": [
    "model_diag_c25 = Transformer(\n",
    "    dataset = dataset_diag_c25,\n",
    "    feature_keys =[\"condition_hist\",],\n",
    "    label_key = \"label\",\n",
    "    mode = \"binary\"\n",
    ")"
   ]
  },
  {
   "cell_type": "markdown",
   "metadata": {},
   "source": [
    "# Model Training "
   ]
  },
  {
   "cell_type": "markdown",
   "metadata": {},
   "source": [
    "## Model 1 - Training"
   ]
  },
  {
   "cell_type": "code",
   "execution_count": 20,
   "metadata": {},
   "outputs": [],
   "source": [
    "from pyhealth.trainer import Trainer"
   ]
  },
  {
   "cell_type": "code",
   "execution_count": 21,
   "metadata": {},
   "outputs": [
    {
     "name": "stdout",
     "output_type": "stream",
     "text": [
      "Transformer(\n",
      "  (embeddings): ModuleDict(\n",
      "    (condition_hist): Embedding(9679, 128, padding_idx=0)\n",
      "    (procedures): Embedding(7751, 128, padding_idx=0)\n",
      "    (drugs): Embedding(1213, 128, padding_idx=0)\n",
      "  )\n",
      "  (linear_layers): ModuleDict()\n",
      "  (transformer): ModuleDict(\n",
      "    (condition_hist): TransformerLayer(\n",
      "      (transformer): ModuleList(\n",
      "        (0): TransformerBlock(\n",
      "          (attention): MultiHeadedAttention(\n",
      "            (linear_layers): ModuleList(\n",
      "              (0-2): 3 x Linear(in_features=128, out_features=128, bias=False)\n",
      "            )\n",
      "            (output_linear): Linear(in_features=128, out_features=128, bias=False)\n",
      "            (attention): Attention()\n",
      "            (dropout): Dropout(p=0.1, inplace=False)\n",
      "          )\n",
      "          (feed_forward): PositionwiseFeedForward(\n",
      "            (w_1): Linear(in_features=128, out_features=512, bias=True)\n",
      "            (w_2): Linear(in_features=512, out_features=128, bias=True)\n",
      "            (dropout): Dropout(p=0.5, inplace=False)\n",
      "            (activation): GELU(approximate='none')\n",
      "          )\n",
      "          (input_sublayer): SublayerConnection(\n",
      "            (norm): LayerNorm((128,), eps=1e-05, elementwise_affine=True)\n",
      "            (dropout): Dropout(p=0.5, inplace=False)\n",
      "          )\n",
      "          (output_sublayer): SublayerConnection(\n",
      "            (norm): LayerNorm((128,), eps=1e-05, elementwise_affine=True)\n",
      "            (dropout): Dropout(p=0.5, inplace=False)\n",
      "          )\n",
      "          (dropout): Dropout(p=0.5, inplace=False)\n",
      "        )\n",
      "      )\n",
      "    )\n",
      "    (procedures): TransformerLayer(\n",
      "      (transformer): ModuleList(\n",
      "        (0): TransformerBlock(\n",
      "          (attention): MultiHeadedAttention(\n",
      "            (linear_layers): ModuleList(\n",
      "              (0-2): 3 x Linear(in_features=128, out_features=128, bias=False)\n",
      "            )\n",
      "            (output_linear): Linear(in_features=128, out_features=128, bias=False)\n",
      "            (attention): Attention()\n",
      "            (dropout): Dropout(p=0.1, inplace=False)\n",
      "          )\n",
      "          (feed_forward): PositionwiseFeedForward(\n",
      "            (w_1): Linear(in_features=128, out_features=512, bias=True)\n",
      "            (w_2): Linear(in_features=512, out_features=128, bias=True)\n",
      "            (dropout): Dropout(p=0.5, inplace=False)\n",
      "            (activation): GELU(approximate='none')\n",
      "          )\n",
      "          (input_sublayer): SublayerConnection(\n",
      "            (norm): LayerNorm((128,), eps=1e-05, elementwise_affine=True)\n",
      "            (dropout): Dropout(p=0.5, inplace=False)\n",
      "          )\n",
      "          (output_sublayer): SublayerConnection(\n",
      "            (norm): LayerNorm((128,), eps=1e-05, elementwise_affine=True)\n",
      "            (dropout): Dropout(p=0.5, inplace=False)\n",
      "          )\n",
      "          (dropout): Dropout(p=0.5, inplace=False)\n",
      "        )\n",
      "      )\n",
      "    )\n",
      "    (drugs): TransformerLayer(\n",
      "      (transformer): ModuleList(\n",
      "        (0): TransformerBlock(\n",
      "          (attention): MultiHeadedAttention(\n",
      "            (linear_layers): ModuleList(\n",
      "              (0-2): 3 x Linear(in_features=128, out_features=128, bias=False)\n",
      "            )\n",
      "            (output_linear): Linear(in_features=128, out_features=128, bias=False)\n",
      "            (attention): Attention()\n",
      "            (dropout): Dropout(p=0.1, inplace=False)\n",
      "          )\n",
      "          (feed_forward): PositionwiseFeedForward(\n",
      "            (w_1): Linear(in_features=128, out_features=512, bias=True)\n",
      "            (w_2): Linear(in_features=512, out_features=128, bias=True)\n",
      "            (dropout): Dropout(p=0.5, inplace=False)\n",
      "            (activation): GELU(approximate='none')\n",
      "          )\n",
      "          (input_sublayer): SublayerConnection(\n",
      "            (norm): LayerNorm((128,), eps=1e-05, elementwise_affine=True)\n",
      "            (dropout): Dropout(p=0.5, inplace=False)\n",
      "          )\n",
      "          (output_sublayer): SublayerConnection(\n",
      "            (norm): LayerNorm((128,), eps=1e-05, elementwise_affine=True)\n",
      "            (dropout): Dropout(p=0.5, inplace=False)\n",
      "          )\n",
      "          (dropout): Dropout(p=0.5, inplace=False)\n",
      "        )\n",
      "      )\n",
      "    )\n",
      "  )\n",
      "  (fc): Linear(in_features=384, out_features=9601, bias=True)\n",
      ")\n",
      "Metrics: None\n",
      "Device: cpu\n",
      "\n",
      "Training:\n",
      "Batch size: 64\n",
      "Optimizer: <class 'torch.optim.adam.Adam'>\n",
      "Optimizer params: {'lr': 0.001}\n",
      "Weight decay: 0.0\n",
      "Max grad norm: None\n",
      "Val dataloader: <torch.utils.data.dataloader.DataLoader object at 0x32a029280>\n",
      "Monitor: None\n",
      "Monitor criterion: max\n",
      "Epochs: 5\n",
      "\n"
     ]
    },
    {
     "data": {
      "application/json": {
       "ascii": false,
       "bar_format": null,
       "colour": null,
       "elapsed": 0.001741170883178711,
       "initial": 0,
       "n": 0,
       "ncols": null,
       "nrows": 7,
       "postfix": null,
       "prefix": "Epoch 0 / 5",
       "rate": null,
       "total": 489,
       "unit": "it",
       "unit_divisor": 1000,
       "unit_scale": false
      },
      "application/vnd.jupyter.widget-view+json": {
       "model_id": "76bd7ef7589247a6ac0e43bf2bb2043c",
       "version_major": 2,
       "version_minor": 0
      },
      "text/plain": [
       "Epoch 0 / 5:   0%|          | 0/489 [00:00<?, ?it/s]"
      ]
     },
     "metadata": {},
     "output_type": "display_data"
    },
    {
     "name": "stdout",
     "output_type": "stream",
     "text": [
      "--- Train epoch-0, step-489 ---\n",
      "loss: 0.0308\n"
     ]
    },
    {
     "name": "stderr",
     "output_type": "stream",
     "text": [
      "Evaluation: 100%|█████████████████████████████████████████████████████████████████████████████████████████████████████████████████████| 60/60 [00:01<00:00, 36.65it/s]\n"
     ]
    },
    {
     "name": "stdout",
     "output_type": "stream",
     "text": [
      "--- Eval epoch-0, step-489 ---\n",
      "pr_auc_samples: 0.1750\n",
      "loss: 0.0071\n",
      "\n"
     ]
    },
    {
     "data": {
      "application/json": {
       "ascii": false,
       "bar_format": null,
       "colour": null,
       "elapsed": 0.0017049312591552734,
       "initial": 0,
       "n": 0,
       "ncols": null,
       "nrows": 7,
       "postfix": null,
       "prefix": "Epoch 1 / 5",
       "rate": null,
       "total": 489,
       "unit": "it",
       "unit_divisor": 1000,
       "unit_scale": false
      },
      "application/vnd.jupyter.widget-view+json": {
       "model_id": "bceeb3841f154fcd990d5eba92db5d1b",
       "version_major": 2,
       "version_minor": 0
      },
      "text/plain": [
       "Epoch 1 / 5:   0%|          | 0/489 [00:00<?, ?it/s]"
      ]
     },
     "metadata": {},
     "output_type": "display_data"
    },
    {
     "name": "stdout",
     "output_type": "stream",
     "text": [
      "--- Train epoch-1, step-978 ---\n",
      "loss: 0.0070\n"
     ]
    },
    {
     "name": "stderr",
     "output_type": "stream",
     "text": [
      "Evaluation: 100%|█████████████████████████████████████████████████████████████████████████████████████████████████████████████████████| 60/60 [00:01<00:00, 36.47it/s]\n"
     ]
    },
    {
     "name": "stdout",
     "output_type": "stream",
     "text": [
      "--- Eval epoch-1, step-978 ---\n",
      "pr_auc_samples: 0.1818\n",
      "loss: 0.0063\n",
      "\n"
     ]
    },
    {
     "data": {
      "application/json": {
       "ascii": false,
       "bar_format": null,
       "colour": null,
       "elapsed": 0.0014350414276123047,
       "initial": 0,
       "n": 0,
       "ncols": null,
       "nrows": 7,
       "postfix": null,
       "prefix": "Epoch 2 / 5",
       "rate": null,
       "total": 489,
       "unit": "it",
       "unit_divisor": 1000,
       "unit_scale": false
      },
      "application/vnd.jupyter.widget-view+json": {
       "model_id": "91d3e2fbe1654fecbc21b0befbe20e65",
       "version_major": 2,
       "version_minor": 0
      },
      "text/plain": [
       "Epoch 2 / 5:   0%|          | 0/489 [00:00<?, ?it/s]"
      ]
     },
     "metadata": {},
     "output_type": "display_data"
    },
    {
     "name": "stdout",
     "output_type": "stream",
     "text": [
      "--- Train epoch-2, step-1467 ---\n",
      "loss: 0.0063\n"
     ]
    },
    {
     "name": "stderr",
     "output_type": "stream",
     "text": [
      "Evaluation: 100%|█████████████████████████████████████████████████████████████████████████████████████████████████████████████████████| 60/60 [00:01<00:00, 36.48it/s]\n"
     ]
    },
    {
     "name": "stdout",
     "output_type": "stream",
     "text": [
      "--- Eval epoch-2, step-1467 ---\n",
      "pr_auc_samples: 0.1848\n",
      "loss: 0.0062\n",
      "\n"
     ]
    },
    {
     "data": {
      "application/json": {
       "ascii": false,
       "bar_format": null,
       "colour": null,
       "elapsed": 0.00164794921875,
       "initial": 0,
       "n": 0,
       "ncols": null,
       "nrows": 7,
       "postfix": null,
       "prefix": "Epoch 3 / 5",
       "rate": null,
       "total": 489,
       "unit": "it",
       "unit_divisor": 1000,
       "unit_scale": false
      },
      "application/vnd.jupyter.widget-view+json": {
       "model_id": "e7d5c814d74248e390b44eeb63df0329",
       "version_major": 2,
       "version_minor": 0
      },
      "text/plain": [
       "Epoch 3 / 5:   0%|          | 0/489 [00:00<?, ?it/s]"
      ]
     },
     "metadata": {},
     "output_type": "display_data"
    },
    {
     "name": "stdout",
     "output_type": "stream",
     "text": [
      "--- Train epoch-3, step-1956 ---\n",
      "loss: 0.0059\n"
     ]
    },
    {
     "name": "stderr",
     "output_type": "stream",
     "text": [
      "Evaluation: 100%|█████████████████████████████████████████████████████████████████████████████████████████████████████████████████████| 60/60 [00:01<00:00, 36.11it/s]\n"
     ]
    },
    {
     "name": "stdout",
     "output_type": "stream",
     "text": [
      "--- Eval epoch-3, step-1956 ---\n",
      "pr_auc_samples: 0.1881\n",
      "loss: 0.0061\n",
      "\n"
     ]
    },
    {
     "data": {
      "application/json": {
       "ascii": false,
       "bar_format": null,
       "colour": null,
       "elapsed": 0.001444101333618164,
       "initial": 0,
       "n": 0,
       "ncols": null,
       "nrows": 7,
       "postfix": null,
       "prefix": "Epoch 4 / 5",
       "rate": null,
       "total": 489,
       "unit": "it",
       "unit_divisor": 1000,
       "unit_scale": false
      },
      "application/vnd.jupyter.widget-view+json": {
       "model_id": "d205aae312404a18bd22b8ee67740db9",
       "version_major": 2,
       "version_minor": 0
      },
      "text/plain": [
       "Epoch 4 / 5:   0%|          | 0/489 [00:00<?, ?it/s]"
      ]
     },
     "metadata": {},
     "output_type": "display_data"
    },
    {
     "name": "stdout",
     "output_type": "stream",
     "text": [
      "--- Train epoch-4, step-2445 ---\n",
      "loss: 0.0057\n"
     ]
    },
    {
     "name": "stderr",
     "output_type": "stream",
     "text": [
      "Evaluation: 100%|█████████████████████████████████████████████████████████████████████████████████████████████████████████████████████| 60/60 [00:01<00:00, 35.22it/s]\n"
     ]
    },
    {
     "name": "stdout",
     "output_type": "stream",
     "text": [
      "--- Eval epoch-4, step-2445 ---\n",
      "pr_auc_samples: 0.1875\n",
      "loss: 0.0062\n",
      "Loaded best model\n"
     ]
    }
   ],
   "source": [
    "trainer = Trainer(\n",
    "    model = model,\n",
    "    device = \"cpu\",\n",
    "    exp_name = \"diagnosis_recommendation\"\n",
    ")\n",
    "\n",
    "trainer.train(\n",
    "    train_dataloader = train_loader,\n",
    "    val_dataloader = val_loader,\n",
    "    epochs = 5,\n",
    "    #epochs = 20,\n",
    "    monitor_criterion = \"max\"\n",
    ")"
   ]
  },
  {
   "cell_type": "markdown",
   "metadata": {},
   "source": [
    "## Model 2 - Training"
   ]
  },
  {
   "cell_type": "code",
   "execution_count": 22,
   "metadata": {},
   "outputs": [
    {
     "name": "stdout",
     "output_type": "stream",
     "text": [
      "Transformer(\n",
      "  (embeddings): ModuleDict(\n",
      "    (condition_hist): Embedding(12991, 128, padding_idx=0)\n",
      "  )\n",
      "  (linear_layers): ModuleDict()\n",
      "  (transformer): ModuleDict(\n",
      "    (condition_hist): TransformerLayer(\n",
      "      (transformer): ModuleList(\n",
      "        (0): TransformerBlock(\n",
      "          (attention): MultiHeadedAttention(\n",
      "            (linear_layers): ModuleList(\n",
      "              (0-2): 3 x Linear(in_features=128, out_features=128, bias=False)\n",
      "            )\n",
      "            (output_linear): Linear(in_features=128, out_features=128, bias=False)\n",
      "            (attention): Attention()\n",
      "            (dropout): Dropout(p=0.1, inplace=False)\n",
      "          )\n",
      "          (feed_forward): PositionwiseFeedForward(\n",
      "            (w_1): Linear(in_features=128, out_features=512, bias=True)\n",
      "            (w_2): Linear(in_features=512, out_features=128, bias=True)\n",
      "            (dropout): Dropout(p=0.5, inplace=False)\n",
      "            (activation): GELU(approximate='none')\n",
      "          )\n",
      "          (input_sublayer): SublayerConnection(\n",
      "            (norm): LayerNorm((128,), eps=1e-05, elementwise_affine=True)\n",
      "            (dropout): Dropout(p=0.5, inplace=False)\n",
      "          )\n",
      "          (output_sublayer): SublayerConnection(\n",
      "            (norm): LayerNorm((128,), eps=1e-05, elementwise_affine=True)\n",
      "            (dropout): Dropout(p=0.5, inplace=False)\n",
      "          )\n",
      "          (dropout): Dropout(p=0.5, inplace=False)\n",
      "        )\n",
      "      )\n",
      "    )\n",
      "  )\n",
      "  (fc): Linear(in_features=128, out_features=13018, bias=True)\n",
      ")\n",
      "Metrics: None\n",
      "Device: cpu\n",
      "\n",
      "Training:\n",
      "Batch size: 64\n",
      "Optimizer: <class 'torch.optim.adam.Adam'>\n",
      "Optimizer params: {'lr': 0.001}\n",
      "Weight decay: 0.0\n",
      "Max grad norm: None\n",
      "Val dataloader: <torch.utils.data.dataloader.DataLoader object at 0x36666c140>\n",
      "Monitor: None\n",
      "Monitor criterion: max\n",
      "Epochs: 5\n",
      "\n"
     ]
    },
    {
     "data": {
      "application/json": {
       "ascii": false,
       "bar_format": null,
       "colour": null,
       "elapsed": 0.0016641616821289062,
       "initial": 0,
       "n": 0,
       "ncols": null,
       "nrows": 7,
       "postfix": null,
       "prefix": "Epoch 0 / 5",
       "rate": null,
       "total": 1294,
       "unit": "it",
       "unit_divisor": 1000,
       "unit_scale": false
      },
      "application/vnd.jupyter.widget-view+json": {
       "model_id": "415e7b7a79294851923803e148788a50",
       "version_major": 2,
       "version_minor": 0
      },
      "text/plain": [
       "Epoch 0 / 5:   0%|          | 0/1294 [00:00<?, ?it/s]"
      ]
     },
     "metadata": {},
     "output_type": "display_data"
    },
    {
     "name": "stdout",
     "output_type": "stream",
     "text": [
      "--- Train epoch-0, step-1294 ---\n",
      "loss: 0.1615\n"
     ]
    },
    {
     "name": "stderr",
     "output_type": "stream",
     "text": [
      "Evaluation: 100%|██████████████████████████████████████████████████████████████████████████████████████████████████████████████████| 161/161 [00:01<00:00, 102.09it/s]\n"
     ]
    },
    {
     "name": "stdout",
     "output_type": "stream",
     "text": [
      "--- Eval epoch-0, step-1294 ---\n",
      "pr_auc_samples: 0.1642\n",
      "loss: 0.0987\n",
      "\n"
     ]
    },
    {
     "data": {
      "application/json": {
       "ascii": false,
       "bar_format": null,
       "colour": null,
       "elapsed": 0.0025720596313476562,
       "initial": 0,
       "n": 0,
       "ncols": null,
       "nrows": 7,
       "postfix": null,
       "prefix": "Epoch 1 / 5",
       "rate": null,
       "total": 1294,
       "unit": "it",
       "unit_divisor": 1000,
       "unit_scale": false
      },
      "application/vnd.jupyter.widget-view+json": {
       "model_id": "9952370033ec4b9d85a83d9c35d917ce",
       "version_major": 2,
       "version_minor": 0
      },
      "text/plain": [
       "Epoch 1 / 5:   0%|          | 0/1294 [00:00<?, ?it/s]"
      ]
     },
     "metadata": {},
     "output_type": "display_data"
    },
    {
     "name": "stdout",
     "output_type": "stream",
     "text": [
      "--- Train epoch-1, step-2588 ---\n",
      "loss: 0.0705\n"
     ]
    },
    {
     "name": "stderr",
     "output_type": "stream",
     "text": [
      "Evaluation: 100%|██████████████████████████████████████████████████████████████████████████████████████████████████████████████████| 161/161 [00:01<00:00, 111.22it/s]\n"
     ]
    },
    {
     "name": "stdout",
     "output_type": "stream",
     "text": [
      "--- Eval epoch-1, step-2588 ---\n",
      "pr_auc_samples: 0.1745\n",
      "loss: 0.0494\n",
      "\n"
     ]
    },
    {
     "data": {
      "application/json": {
       "ascii": false,
       "bar_format": null,
       "colour": null,
       "elapsed": 0.0019230842590332031,
       "initial": 0,
       "n": 0,
       "ncols": null,
       "nrows": 7,
       "postfix": null,
       "prefix": "Epoch 2 / 5",
       "rate": null,
       "total": 1294,
       "unit": "it",
       "unit_divisor": 1000,
       "unit_scale": false
      },
      "application/vnd.jupyter.widget-view+json": {
       "model_id": "43a827c9b6d64fa08969be929377bbc2",
       "version_major": 2,
       "version_minor": 0
      },
      "text/plain": [
       "Epoch 2 / 5:   0%|          | 0/1294 [00:00<?, ?it/s]"
      ]
     },
     "metadata": {},
     "output_type": "display_data"
    },
    {
     "name": "stdout",
     "output_type": "stream",
     "text": [
      "--- Train epoch-2, step-3882 ---\n",
      "loss: 0.0372\n"
     ]
    },
    {
     "name": "stderr",
     "output_type": "stream",
     "text": [
      "Evaluation: 100%|██████████████████████████████████████████████████████████████████████████████████████████████████████████████████| 161/161 [00:01<00:00, 104.35it/s]\n"
     ]
    },
    {
     "name": "stdout",
     "output_type": "stream",
     "text": [
      "--- Eval epoch-2, step-3882 ---\n",
      "pr_auc_samples: 0.1799\n",
      "loss: 0.0276\n",
      "\n"
     ]
    },
    {
     "data": {
      "application/json": {
       "ascii": false,
       "bar_format": null,
       "colour": null,
       "elapsed": 0.0018167495727539062,
       "initial": 0,
       "n": 0,
       "ncols": null,
       "nrows": 7,
       "postfix": null,
       "prefix": "Epoch 3 / 5",
       "rate": null,
       "total": 1294,
       "unit": "it",
       "unit_divisor": 1000,
       "unit_scale": false
      },
      "application/vnd.jupyter.widget-view+json": {
       "model_id": "4ba52157463243c89ada820fcd9db784",
       "version_major": 2,
       "version_minor": 0
      },
      "text/plain": [
       "Epoch 3 / 5:   0%|          | 0/1294 [00:00<?, ?it/s]"
      ]
     },
     "metadata": {},
     "output_type": "display_data"
    },
    {
     "name": "stdout",
     "output_type": "stream",
     "text": [
      "--- Train epoch-3, step-5176 ---\n",
      "loss: 0.0216\n"
     ]
    },
    {
     "name": "stderr",
     "output_type": "stream",
     "text": [
      "Evaluation: 100%|██████████████████████████████████████████████████████████████████████████████████████████████████████████████████| 161/161 [00:01<00:00, 109.73it/s]\n"
     ]
    },
    {
     "name": "stdout",
     "output_type": "stream",
     "text": [
      "--- Eval epoch-3, step-5176 ---\n",
      "pr_auc_samples: 0.1860\n",
      "loss: 0.0168\n",
      "\n"
     ]
    },
    {
     "data": {
      "application/json": {
       "ascii": false,
       "bar_format": null,
       "colour": null,
       "elapsed": 0.00177001953125,
       "initial": 0,
       "n": 0,
       "ncols": null,
       "nrows": 7,
       "postfix": null,
       "prefix": "Epoch 4 / 5",
       "rate": null,
       "total": 1294,
       "unit": "it",
       "unit_divisor": 1000,
       "unit_scale": false
      },
      "application/vnd.jupyter.widget-view+json": {
       "model_id": "d475dc27c59341309117b3785f49ac66",
       "version_major": 2,
       "version_minor": 0
      },
      "text/plain": [
       "Epoch 4 / 5:   0%|          | 0/1294 [00:00<?, ?it/s]"
      ]
     },
     "metadata": {},
     "output_type": "display_data"
    },
    {
     "name": "stdout",
     "output_type": "stream",
     "text": [
      "--- Train epoch-4, step-6470 ---\n",
      "loss: 0.0137\n"
     ]
    },
    {
     "name": "stderr",
     "output_type": "stream",
     "text": [
      "Evaluation: 100%|██████████████████████████████████████████████████████████████████████████████████████████████████████████████████| 161/161 [00:01<00:00, 111.01it/s]\n"
     ]
    },
    {
     "name": "stdout",
     "output_type": "stream",
     "text": [
      "--- Eval epoch-4, step-6470 ---\n",
      "pr_auc_samples: 0.1910\n",
      "loss: 0.0111\n"
     ]
    }
   ],
   "source": [
    "trainer_diag = Trainer(\n",
    "    model = model_diag,\n",
    "    device = \"cpu\",\n",
    "    exp_name = \"diagnosis_recommendation_2\"\n",
    ")\n",
    "\n",
    "trainer_diag.train(\n",
    "    train_dataloader = train_loader_diag,\n",
    "    val_dataloader = val_loader_diag,\n",
    "    epochs = 5,\n",
    "    #epochs = 20,\n",
    "    monitor_criterion = \"max\"\n",
    ")"
   ]
  },
  {
   "cell_type": "markdown",
   "metadata": {},
   "source": [
    "## Model 3 - Training"
   ]
  },
  {
   "cell_type": "code",
   "execution_count": 23,
   "metadata": {},
   "outputs": [
    {
     "name": "stdout",
     "output_type": "stream",
     "text": [
      "Transformer(\n",
      "  (embeddings): ModuleDict(\n",
      "    (condition_hist): Embedding(14437, 128, padding_idx=0)\n",
      "  )\n",
      "  (linear_layers): ModuleDict()\n",
      "  (transformer): ModuleDict(\n",
      "    (condition_hist): TransformerLayer(\n",
      "      (transformer): ModuleList(\n",
      "        (0): TransformerBlock(\n",
      "          (attention): MultiHeadedAttention(\n",
      "            (linear_layers): ModuleList(\n",
      "              (0-2): 3 x Linear(in_features=128, out_features=128, bias=False)\n",
      "            )\n",
      "            (output_linear): Linear(in_features=128, out_features=128, bias=False)\n",
      "            (attention): Attention()\n",
      "            (dropout): Dropout(p=0.1, inplace=False)\n",
      "          )\n",
      "          (feed_forward): PositionwiseFeedForward(\n",
      "            (w_1): Linear(in_features=128, out_features=512, bias=True)\n",
      "            (w_2): Linear(in_features=512, out_features=128, bias=True)\n",
      "            (dropout): Dropout(p=0.5, inplace=False)\n",
      "            (activation): GELU(approximate='none')\n",
      "          )\n",
      "          (input_sublayer): SublayerConnection(\n",
      "            (norm): LayerNorm((128,), eps=1e-05, elementwise_affine=True)\n",
      "            (dropout): Dropout(p=0.5, inplace=False)\n",
      "          )\n",
      "          (output_sublayer): SublayerConnection(\n",
      "            (norm): LayerNorm((128,), eps=1e-05, elementwise_affine=True)\n",
      "            (dropout): Dropout(p=0.5, inplace=False)\n",
      "          )\n",
      "          (dropout): Dropout(p=0.5, inplace=False)\n",
      "        )\n",
      "      )\n",
      "    )\n",
      "  )\n",
      "  (fc): Linear(in_features=128, out_features=1, bias=True)\n",
      ")\n",
      "Metrics: None\n",
      "Device: cpu\n",
      "\n",
      "Training:\n",
      "Batch size: 64\n",
      "Optimizer: <class 'torch.optim.adam.Adam'>\n",
      "Optimizer params: {'lr': 0.001}\n",
      "Weight decay: 0.0\n",
      "Max grad norm: None\n",
      "Val dataloader: <torch.utils.data.dataloader.DataLoader object at 0x367b5cc50>\n",
      "Monitor: None\n",
      "Monitor criterion: max\n",
      "Epochs: 5\n",
      "\n"
     ]
    },
    {
     "data": {
      "application/json": {
       "ascii": false,
       "bar_format": null,
       "colour": null,
       "elapsed": 0.0014357566833496094,
       "initial": 0,
       "n": 0,
       "ncols": null,
       "nrows": 7,
       "postfix": null,
       "prefix": "Epoch 0 / 5",
       "rate": null,
       "total": 1295,
       "unit": "it",
       "unit_divisor": 1000,
       "unit_scale": false
      },
      "application/vnd.jupyter.widget-view+json": {
       "model_id": "64a805045b524aa58e18c3a5a969d14b",
       "version_major": 2,
       "version_minor": 0
      },
      "text/plain": [
       "Epoch 0 / 5:   0%|          | 0/1295 [00:00<?, ?it/s]"
      ]
     },
     "metadata": {},
     "output_type": "display_data"
    },
    {
     "name": "stdout",
     "output_type": "stream",
     "text": [
      "--- Train epoch-0, step-1295 ---\n",
      "loss: 0.0512\n"
     ]
    },
    {
     "name": "stderr",
     "output_type": "stream",
     "text": [
      "Evaluation: 100%|██████████████████████████████████████████████████████████████████████████████████████████████████████████████████| 161/161 [00:00<00:00, 173.82it/s]"
     ]
    },
    {
     "name": "stdout",
     "output_type": "stream",
     "text": [
      "--- Eval epoch-0, step-1295 ---\n",
      "pr_auc: 0.6807\n",
      "roc_auc: 0.9580\n",
      "f1: 0.5430\n"
     ]
    },
    {
     "name": "stderr",
     "output_type": "stream",
     "text": [
      "\n"
     ]
    },
    {
     "name": "stdout",
     "output_type": "stream",
     "text": [
      "loss: 0.0406\n",
      "\n"
     ]
    },
    {
     "data": {
      "application/json": {
       "ascii": false,
       "bar_format": null,
       "colour": null,
       "elapsed": 0.0016651153564453125,
       "initial": 0,
       "n": 0,
       "ncols": null,
       "nrows": 7,
       "postfix": null,
       "prefix": "Epoch 1 / 5",
       "rate": null,
       "total": 1295,
       "unit": "it",
       "unit_divisor": 1000,
       "unit_scale": false
      },
      "application/vnd.jupyter.widget-view+json": {
       "model_id": "8cab3ed46f1d4e709e52c3ff94777b83",
       "version_major": 2,
       "version_minor": 0
      },
      "text/plain": [
       "Epoch 1 / 5:   0%|          | 0/1295 [00:00<?, ?it/s]"
      ]
     },
     "metadata": {},
     "output_type": "display_data"
    },
    {
     "name": "stdout",
     "output_type": "stream",
     "text": [
      "--- Train epoch-1, step-2590 ---\n",
      "loss: 0.0147\n"
     ]
    },
    {
     "name": "stderr",
     "output_type": "stream",
     "text": [
      "Evaluation: 100%|██████████████████████████████████████████████████████████████████████████████████████████████████████████████████| 161/161 [00:00<00:00, 177.15it/s]"
     ]
    },
    {
     "name": "stdout",
     "output_type": "stream",
     "text": [
      "--- Eval epoch-1, step-2590 ---\n",
      "pr_auc: 0.7463\n",
      "roc_auc: 0.9768\n",
      "f1: 0.6423\n",
      "loss: 0.0327\n",
      "\n"
     ]
    },
    {
     "name": "stderr",
     "output_type": "stream",
     "text": [
      "\n"
     ]
    },
    {
     "data": {
      "application/json": {
       "ascii": false,
       "bar_format": null,
       "colour": null,
       "elapsed": 0.0015478134155273438,
       "initial": 0,
       "n": 0,
       "ncols": null,
       "nrows": 7,
       "postfix": null,
       "prefix": "Epoch 2 / 5",
       "rate": null,
       "total": 1295,
       "unit": "it",
       "unit_divisor": 1000,
       "unit_scale": false
      },
      "application/vnd.jupyter.widget-view+json": {
       "model_id": "9b6aeefdfd8b437ca9c97777221440d0",
       "version_major": 2,
       "version_minor": 0
      },
      "text/plain": [
       "Epoch 2 / 5:   0%|          | 0/1295 [00:00<?, ?it/s]"
      ]
     },
     "metadata": {},
     "output_type": "display_data"
    },
    {
     "name": "stdout",
     "output_type": "stream",
     "text": [
      "--- Train epoch-2, step-3885 ---\n",
      "loss: 0.0108\n"
     ]
    },
    {
     "name": "stderr",
     "output_type": "stream",
     "text": [
      "Evaluation: 100%|██████████████████████████████████████████████████████████████████████████████████████████████████████████████████| 161/161 [00:00<00:00, 179.50it/s]"
     ]
    },
    {
     "name": "stdout",
     "output_type": "stream",
     "text": [
      "--- Eval epoch-2, step-3885 ---\n",
      "pr_auc: 0.7328\n",
      "roc_auc: 0.9646\n",
      "f1: 0.6496\n",
      "loss: 0.0430\n",
      "\n"
     ]
    },
    {
     "name": "stderr",
     "output_type": "stream",
     "text": [
      "\n"
     ]
    },
    {
     "data": {
      "application/json": {
       "ascii": false,
       "bar_format": null,
       "colour": null,
       "elapsed": 0.0015282630920410156,
       "initial": 0,
       "n": 0,
       "ncols": null,
       "nrows": 7,
       "postfix": null,
       "prefix": "Epoch 3 / 5",
       "rate": null,
       "total": 1295,
       "unit": "it",
       "unit_divisor": 1000,
       "unit_scale": false
      },
      "application/vnd.jupyter.widget-view+json": {
       "model_id": "fb10babce4ff4c928268b4c4d0a96338",
       "version_major": 2,
       "version_minor": 0
      },
      "text/plain": [
       "Epoch 3 / 5:   0%|          | 0/1295 [00:00<?, ?it/s]"
      ]
     },
     "metadata": {},
     "output_type": "display_data"
    },
    {
     "name": "stdout",
     "output_type": "stream",
     "text": [
      "--- Train epoch-3, step-5180 ---\n",
      "loss: 0.0094\n"
     ]
    },
    {
     "name": "stderr",
     "output_type": "stream",
     "text": [
      "Evaluation: 100%|██████████████████████████████████████████████████████████████████████████████████████████████████████████████████| 161/161 [00:01<00:00, 160.74it/s]"
     ]
    },
    {
     "name": "stdout",
     "output_type": "stream",
     "text": [
      "--- Eval epoch-3, step-5180 ---\n",
      "pr_auc: 0.7748\n",
      "roc_auc: 0.9657\n",
      "f1: 0.7470\n",
      "loss: 0.0616\n",
      "\n"
     ]
    },
    {
     "name": "stderr",
     "output_type": "stream",
     "text": [
      "\n"
     ]
    },
    {
     "data": {
      "application/json": {
       "ascii": false,
       "bar_format": null,
       "colour": null,
       "elapsed": 0.001924753189086914,
       "initial": 0,
       "n": 0,
       "ncols": null,
       "nrows": 7,
       "postfix": null,
       "prefix": "Epoch 4 / 5",
       "rate": null,
       "total": 1295,
       "unit": "it",
       "unit_divisor": 1000,
       "unit_scale": false
      },
      "application/vnd.jupyter.widget-view+json": {
       "model_id": "33e1d998409a46a2b232054c4a9efa80",
       "version_major": 2,
       "version_minor": 0
      },
      "text/plain": [
       "Epoch 4 / 5:   0%|          | 0/1295 [00:00<?, ?it/s]"
      ]
     },
     "metadata": {},
     "output_type": "display_data"
    },
    {
     "name": "stdout",
     "output_type": "stream",
     "text": [
      "--- Train epoch-4, step-6475 ---\n",
      "loss: 0.0085\n"
     ]
    },
    {
     "name": "stderr",
     "output_type": "stream",
     "text": [
      "Evaluation: 100%|██████████████████████████████████████████████████████████████████████████████████████████████████████████████████| 161/161 [00:00<00:00, 179.05it/s]"
     ]
    },
    {
     "name": "stdout",
     "output_type": "stream",
     "text": [
      "--- Eval epoch-4, step-6475 ---\n",
      "pr_auc: 0.7930\n",
      "roc_auc: 0.9692\n",
      "f1: 0.7589\n",
      "loss: 0.0460\n"
     ]
    },
    {
     "name": "stderr",
     "output_type": "stream",
     "text": [
      "\n"
     ]
    }
   ],
   "source": [
    "trainer_diag_c25 = Trainer(\n",
    "    model = model_diag_c25,\n",
    "    device = \"cpu\",\n",
    "    exp_name = \"diagnosis_recommendation_3\"\n",
    ")\n",
    "\n",
    "trainer_diag_c25.train(\n",
    "    train_dataloader = train_loader_diag_c25,\n",
    "    val_dataloader = val_loader_diag_c25,\n",
    "    epochs = 5,\n",
    "    #epochs = 20,\n",
    "    monitor_criterion = \"max\"\n",
    ")\n"
   ]
  },
  {
   "cell_type": "markdown",
   "metadata": {},
   "source": [
    "# Run Evaluation"
   ]
  },
  {
   "cell_type": "markdown",
   "metadata": {},
   "source": [
    "## Model 1 Evaluation"
   ]
  },
  {
   "cell_type": "markdown",
   "metadata": {},
   "source": [
    "### Model 1 Evaluation - with Test Loader"
   ]
  },
  {
   "cell_type": "code",
   "execution_count": 24,
   "metadata": {},
   "outputs": [
    {
     "name": "stderr",
     "output_type": "stream",
     "text": [
      "Evaluation: 100%|█████████████████████████████████████████████████████████████████████████████████████████████████████████████████████| 62/62 [00:02<00:00, 30.70it/s]\n"
     ]
    },
    {
     "name": "stdout",
     "output_type": "stream",
     "text": [
      "{'pr_auc_samples': 0.180920802683624, 'loss': 0.006193562996603789}\n"
     ]
    },
    {
     "name": "stderr",
     "output_type": "stream",
     "text": [
      "Evaluation: 100%|█████████████████████████████████████████████████████████████████████████████████████████████████████████████████████| 62/62 [00:01<00:00, 32.95it/s]\n"
     ]
    }
   ],
   "source": [
    "result = trainer.evaluate(test_loader)\n",
    "\n",
    "\n",
    "print (result)\n",
    "\n",
    "# obtain the true label, predicted probability, evaluation loss \n",
    "y_true, y_prob, loss = trainer.inference(test_loader)\n",
    "\n"
   ]
  },
  {
   "cell_type": "markdown",
   "metadata": {},
   "source": [
    "### Run Evaluation with Test dataset with Diagnosis Code related to Pancreatic Cancer"
   ]
  },
  {
   "cell_type": "code",
   "execution_count": 25,
   "metadata": {},
   "outputs": [
    {
     "name": "stderr",
     "output_type": "stream",
     "text": [
      "Evaluation: 100%|█████████████████████████████████████████████████████████████████████████████████████████████████████████████████████| 11/11 [00:00<00:00, 39.89it/s]\n"
     ]
    },
    {
     "name": "stdout",
     "output_type": "stream",
     "text": [
      "{'pr_auc_samples': 0.1922124065909024, 'loss': 0.005139602813869715}\n"
     ]
    },
    {
     "name": "stderr",
     "output_type": "stream",
     "text": [
      "Evaluation: 100%|█████████████████████████████████████████████████████████████████████████████████████████████████████████████████████| 11/11 [00:00<00:00, 41.74it/s]\n"
     ]
    }
   ],
   "source": [
    "result_c25 = trainer.evaluate(test_loader_c25)\n",
    "\n",
    "\n",
    "print (result_c25)\n",
    "\n",
    "# obtain the true label, predicted probability, evaluation loss \n",
    "y_true_c25, y_prob_c25, loss_c25 = trainer.inference(test_loader_c25)"
   ]
  },
  {
   "cell_type": "markdown",
   "metadata": {},
   "source": [
    "## Model 2 Evaluation"
   ]
  },
  {
   "cell_type": "code",
   "execution_count": 26,
   "metadata": {},
   "outputs": [
    {
     "name": "stderr",
     "output_type": "stream",
     "text": [
      "Evaluation: 100%|██████████████████████████████████████████████████████████████████████████████████████████████████████████████████| 161/161 [00:01<00:00, 109.88it/s]\n"
     ]
    },
    {
     "name": "stdout",
     "output_type": "stream",
     "text": [
      "{'pr_auc_samples': 0.18881217278782603, 'loss': 0.01116298452621291}\n"
     ]
    },
    {
     "name": "stderr",
     "output_type": "stream",
     "text": [
      "Evaluation: 100%|██████████████████████████████████████████████████████████████████████████████████████████████████████████████████| 161/161 [00:01<00:00, 102.14it/s]\n"
     ]
    }
   ],
   "source": [
    "result_diag = trainer_diag.evaluate(test_loader_diag)\n",
    "\n",
    "\n",
    "print (result_diag)\n",
    "\n",
    "# obtain the true label, predicted probability, evaluation loss \n",
    "y_true_diag, y_prob_diag, loss_diag = trainer_diag.inference(test_loader_diag)"
   ]
  },
  {
   "cell_type": "markdown",
   "metadata": {},
   "source": [
    "## Model 3 Evaluation"
   ]
  },
  {
   "cell_type": "markdown",
   "metadata": {},
   "source": [
    "### Model 3 Evaluation using Test Loader Data Samples"
   ]
  },
  {
   "cell_type": "code",
   "execution_count": 27,
   "metadata": {},
   "outputs": [
    {
     "name": "stderr",
     "output_type": "stream",
     "text": [
      "Evaluation: 100%|██████████████████████████████████████████████████████████████████████████████████████████████████████████████████| 160/160 [00:01<00:00, 149.61it/s]\n"
     ]
    },
    {
     "name": "stdout",
     "output_type": "stream",
     "text": [
      "{'pr_auc': 0.8564506522467434, 'roc_auc': 0.994858253029435, 'f1': 0.7945205479452054, 'loss': 0.01725740614112965}\n"
     ]
    },
    {
     "name": "stderr",
     "output_type": "stream",
     "text": [
      "Evaluation: 100%|██████████████████████████████████████████████████████████████████████████████████████████████████████████████████| 160/160 [00:00<00:00, 161.28it/s]\n"
     ]
    }
   ],
   "source": [
    "result_diag_c25 = trainer_diag_c25.evaluate(test_loader_diag_c25)\n",
    "\n",
    "\n",
    "print (result_diag_c25)\n",
    "\n",
    "# obtain the true label, predicted probability, evaluation loss \n",
    "y_true_diag_c25, y_prob_diag_c25, loss_diag_c25 = trainer_diag_c25.inference(test_loader_diag_c25)"
   ]
  },
  {
   "cell_type": "markdown",
   "metadata": {},
   "source": [
    "### Model 3 Evaluation using using Test Loader Data Samples mixed with Pancreatic Cancer Samples"
   ]
  },
  {
   "cell_type": "code",
   "execution_count": 28,
   "metadata": {},
   "outputs": [
    {
     "name": "stderr",
     "output_type": "stream",
     "text": [
      "Evaluation: 100%|█████████████████████████████████████████████████████████████████████████████████████████████████████████████████████| 21/21 [00:00<00:00, 61.35it/s]\n"
     ]
    },
    {
     "name": "stdout",
     "output_type": "stream",
     "text": [
      "{'pr_auc': 0.7658223636502017, 'roc_auc': 0.5695364937949683, 'f1': 0.8449248120300752, 'loss': 1.1120003291538783}\n"
     ]
    },
    {
     "name": "stderr",
     "output_type": "stream",
     "text": [
      "Evaluation: 100%|█████████████████████████████████████████████████████████████████████████████████████████████████████████████████████| 21/21 [00:00<00:00, 88.89it/s]\n"
     ]
    }
   ],
   "source": [
    "result_diag_c25_test = trainer_diag_c25.evaluate(test_loader_c25_test)\n",
    "\n",
    "\n",
    "print (result_diag_c25_test)\n",
    "\n",
    "# obtain the true label, predicted probability, evaluation loss \n",
    "y_true_diag_c25_t, y_prob_diag_c25_t, loss_diag_c25_t = trainer_diag_c25.inference(test_loader_c25_test)"
   ]
  },
  {
   "cell_type": "markdown",
   "metadata": {},
   "source": [
    "# Generate Result Metrics"
   ]
  },
  {
   "cell_type": "markdown",
   "metadata": {},
   "source": [
    "## Generate Result Metrics from Model 1"
   ]
  },
  {
   "cell_type": "code",
   "execution_count": 29,
   "metadata": {},
   "outputs": [],
   "source": [
    "from pyhealth.metrics import multilabel_metrics_fn, binary_metrics_fn"
   ]
  },
  {
   "cell_type": "code",
   "execution_count": 30,
   "metadata": {},
   "outputs": [
    {
     "name": "stdout",
     "output_type": "stream",
     "text": [
      "Result Metrics from Model 1 using Test loadser samples :  {'pr_auc_samples': 0.180920802683624}\n",
      "Result Metrics from Model 1 using Test loadser samples with Pancreatic Cancer diagnosis code:  {'pr_auc_samples': 0.180920802683624}\n"
     ]
    }
   ],
   "source": [
    "result = multilabel_metrics_fn(y_true, y_prob)\n",
    "\n",
    "\n",
    "print ('Result Metrics from Model 1 using Test loadser samples : ', result)\n",
    "\n",
    "# Result Metrics using Test Loader Dataset with Pancreatic Cancer diagnosis code\n",
    "\n",
    "result_c25 = multilabel_metrics_fn(y_true_c25, y_prob_c25)\n",
    "\n",
    "print ('Result Metrics from Model 1 using Test loadser samples with Pancreatic Cancer diagnosis code: ', result)\n",
    "\n"
   ]
  },
  {
   "cell_type": "markdown",
   "metadata": {},
   "source": [
    "## Generate Result Metrics from Model 2"
   ]
  },
  {
   "cell_type": "code",
   "execution_count": 31,
   "metadata": {},
   "outputs": [
    {
     "name": "stdout",
     "output_type": "stream",
     "text": [
      "Result Metrics from Model 2 using Test loadser samples :  {'pr_auc_samples': 0.18881217278782603}\n"
     ]
    }
   ],
   "source": [
    "result_diag = multilabel_metrics_fn(y_true_diag, y_prob_diag)\n",
    "\n",
    "print ('Result Metrics from Model 2 using Test loadser samples : ', result_diag)\n"
   ]
  },
  {
   "cell_type": "markdown",
   "metadata": {},
   "source": [
    "## Generate Result Metrics from Model 3"
   ]
  },
  {
   "cell_type": "code",
   "execution_count": 37,
   "metadata": {},
   "outputs": [
    {
     "name": "stdout",
     "output_type": "stream",
     "text": [
      "Result Metrics from Model 3 using Test loadser samples with Pancreatic Cancer diagnosis code:  {'pr_auc': 0.7658223636502017, 'roc_auc': 0.5695364937949683, 'f1': 0.8449248120300752}\n"
     ]
    }
   ],
   "source": [
    "\n",
    "\n",
    "# Result Metrics using dataset mixed with Pancreatic Cancer Diagnosis samples\n",
    "result_diag_c25_test = binary_metrics_fn(y_true_diag_c25_t, y_prob_diag_c25_t)\n",
    "\n",
    "print ('Result Metrics from Model 3 using Test loadser samples with Pancreatic Cancer diagnosis code: ', result_diag_c25_test)\n",
    "\n"
   ]
  },
  {
   "cell_type": "code",
   "execution_count": 40,
   "metadata": {},
   "outputs": [
    {
     "data": {
      "text/plain": [
       "<sklearn.metrics._plot.roc_curve.RocCurveDisplay at 0x36432f260>"
      ]
     },
     "execution_count": 40,
     "metadata": {},
     "output_type": "execute_result"
    },
    {
     "data": {
      "image/png": "[encoded data removed]",
      "text/plain": [
       "<Figure size 640x480 with 1 Axes>"
      ]
     },
     "metadata": {},
     "output_type": "display_data"
    }
   ],
   "source": [
    "import matplotlib.pyplot as plt\n",
    "import numpy as np\n",
    "from sklearn import metrics\n",
    "\n",
    "fpr, tpr, thresholds = metrics.roc_curve(y_true_diag_c25_t, y_prob_diag_c25_t)\n",
    "\n",
    "roc_auc = metrics.auc(fpr, tpr)\n",
    "\n",
    "display = metrics.RocCurveDisplay(fpr=fpr, tpr=tpr, roc_auc=roc_auc,estimator_name='Model 3')\n",
    "display.plot()"
   ]
  },
  {
   "cell_type": "code",
   "execution_count": null,
   "metadata": {},
   "outputs": [],
   "source": []
  },
  {
   "cell_type": "markdown",
   "metadata": {
    "id": "qH75TNU71eRH"
   },
   "source": [
    "# Discussion\n",
    "\n",
    "In this section,you should discuss your work and make future plan. The discussion should address the following questions:\n",
    "  * Make assessment that the paper is reproducible or not.\n",
    "  * Explain why it is not reproducible if your results are kind negative.\n",
    "  * Describe “What was easy” and “What was difficult” during the reproduction.\n",
    "  * Make suggestions to the author or other reproducers on how to improve the reproducibility.\n",
    "  * What will you do in next phase.\n",
    "\n"
   ]
  },
  {
   "cell_type": "code",
   "execution_count": 33,
   "metadata": {
    "id": "E2VDXo5F4Frm"
   },
   "outputs": [
    {
     "data": {
      "text/plain": [
       "\"\\nThe repo that is provided is missing key elements of the code such as - 'dataset.py' and 'tokenier' information. \\nAlso when trying to use pretrained 'tokenizer' and 'pretrained' model, it is producing access error (401).\\nIn the original papaer it emphasizes and uses use cases for 'Pancreatic Cancer' and international 'PTSD'. \\nThe dataset that we are using has less samples. Due to that reason we think result of the paper is not reproducible.\\n\\n\""
      ]
     },
     "execution_count": 33,
     "metadata": {},
     "output_type": "execute_result"
    }
   ],
   "source": [
    "# no code is required for this section\n",
    "'''\n",
    "The repo that is provided is missing key elements of the code such as - 'dataset.py' and 'tokenier' information. \n",
    "Also when trying to use pretrained 'tokenizer' and 'pretrained' model, it is producing access error (401).\n",
    "In the original papaer it emphasizes and uses use cases for 'Pancreatic Cancer' and international 'PTSD'. \n",
    "The dataset that we are using has less samples. Due to that reason we think result of the paper is not reproducible.\n",
    "\n",
    "'''\n",
    "\n"
   ]
  },
  {
   "cell_type": "markdown",
   "metadata": {
    "id": "SHMI2chl9omn"
   },
   "source": [
    "# References\n",
    "\n",
    "1.   Yang, Z., Mitra, A., Liu, W. et al. TransformEHR: transformer-based encoder-decoder generative model to enhance prediction of disease outcomes using electronic health records. Nat Commun 14, 7857 (2023). https://doi.org/10.1038/s41467-023-43715-z\n",
    "\n"
   ]
  },
  {
   "cell_type": "markdown",
   "metadata": {},
   "source": []
  },
  {
   "cell_type": "markdown",
   "metadata": {
    "id": "xmVuzQ724HbO"
   },
   "source": [
    "# Feel free to add new sections"
   ]
  }
 ],
 "metadata": {
  "colab": {
   "private_outputs": true,
   "provenance": [],
   "toc_visible": true
  },
  "kernelspec": {
   "display_name": "Python 3 (ipykernel)",
   "language": "python",
   "name": "python3"
  },
  "language_info": {
   "codemirror_mode": {
    "name": "ipython",
    "version": 3
   },
   "file_extension": ".py",
   "mimetype": "text/x-python",
   "name": "python",
   "nbconvert_exporter": "python",
   "pygments_lexer": "ipython3",
   "version": "3.12.3"
  }
 },
 "nbformat": 4,
 "nbformat_minor": 4
}
